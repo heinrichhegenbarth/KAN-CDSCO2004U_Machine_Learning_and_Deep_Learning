{
 "cells": [
  {
   "cell_type": "markdown",
   "metadata": {},
   "source": [
    "# Assignment 1 (new working doc)\n",
    "\n",
    "## Links\n",
    "- https://cbscanvas.instructure.com/courses/41482/files/1504373?wrap=1\n",
    "- https://insideairbnb.com/get-the-data/\n",
    "\n",
    "## Approach\n",
    "1. data cleaning & standardization\n",
    "### EDA\n",
    "2. correlation analysis\n",
    "3. graphing\n",
    "### Clustering\n",
    "4. choose clustering algorithm\n",
    "5. run clustering algorithm\n",
    "6. graph clusters\n",
    "### PCA\n",
    "7. run pca"
   ]
  },
  {
   "cell_type": "code",
   "execution_count": 1,
   "metadata": {},
   "outputs": [],
   "source": [
    "# imports\n",
    "import numpy as np\n",
    "import pandas as pd\n",
    "import seaborn as sns\n",
    "import matplotlib.pyplot as plt\n",
    "import sklearn\n",
    "from sklearn.cluster import DBSCAN\n",
    "from sklearn.decomposition import PCA"
   ]
  },
  {
   "cell_type": "code",
   "execution_count": 2,
   "metadata": {},
   "outputs": [
    {
     "data": {
      "application/vnd.microsoft.datawrangler.viewer.v0+json": {
       "columns": [
        {
         "name": "index",
         "rawType": "int64",
         "type": "integer"
        },
        {
         "name": "id",
         "rawType": "int64",
         "type": "integer"
        },
        {
         "name": "name",
         "rawType": "object",
         "type": "string"
        },
        {
         "name": "host_id",
         "rawType": "int64",
         "type": "integer"
        },
        {
         "name": "host_name",
         "rawType": "object",
         "type": "string"
        },
        {
         "name": "neighbourhood_group",
         "rawType": "float64",
         "type": "float"
        },
        {
         "name": "neighbourhood",
         "rawType": "object",
         "type": "string"
        },
        {
         "name": "latitude",
         "rawType": "float64",
         "type": "float"
        },
        {
         "name": "longitude",
         "rawType": "float64",
         "type": "float"
        },
        {
         "name": "room_type",
         "rawType": "object",
         "type": "string"
        },
        {
         "name": "price",
         "rawType": "float64",
         "type": "float"
        },
        {
         "name": "minimum_nights",
         "rawType": "int64",
         "type": "integer"
        },
        {
         "name": "number_of_reviews",
         "rawType": "int64",
         "type": "integer"
        },
        {
         "name": "last_review",
         "rawType": "object",
         "type": "string"
        },
        {
         "name": "reviews_per_month",
         "rawType": "float64",
         "type": "float"
        },
        {
         "name": "calculated_host_listings_count",
         "rawType": "int64",
         "type": "integer"
        },
        {
         "name": "availability_365",
         "rawType": "int64",
         "type": "integer"
        },
        {
         "name": "number_of_reviews_ltm",
         "rawType": "int64",
         "type": "integer"
        },
        {
         "name": "license",
         "rawType": "object",
         "type": "string"
        }
       ],
       "conversionMethod": "pd.DataFrame",
       "ref": "3fff5d34-a689-442b-8815-62abe0656836",
       "rows": [
        [
         "0",
         "371299",
         "Marais Rue des Archives refait à neuf février 2023",
         "1870265",
         "Thomas",
         null,
         "Hôtel-de-Ville",
         "48.85751",
         "2.35511",
         "Entire home/apt",
         "185.0",
         "3",
         "601",
         "2024-09-06",
         "3.97",
         "3",
         "307",
         "54",
         "7510300547558"
        ],
        [
         "1",
         "371862",
         "loft in Paris (Belleville)",
         "1872631",
         "Veronique",
         null,
         "Entrepôt",
         "48.87151",
         "2.37219",
         "Entire home/apt",
         "250.0",
         "4",
         "50",
         "2023-08-14",
         "0.34",
         "1",
         "9",
         "0",
         "7511000320406"
        ],
        [
         "2",
         "372879",
         "Appartement complet au centre de Paris.",
         "1876396",
         "Samuel",
         null,
         "Gobelins",
         "48.83593",
         "2.35108",
         "Entire home/apt",
         "85.0",
         "30",
         "171",
         "2024-08-15",
         "2.01",
         "3",
         "151",
         "1",
         "Available with a mobility lease only (\"bail mobilité\")"
        ],
        [
         "3",
         "375434",
         "Luxurious Art & Design Flat, 180m2, Champs Elysées",
         "683140",
         "Oscar",
         null,
         "Élysée",
         "48.8668",
         "2.30972",
         "Entire home/apt",
         null,
         "3",
         "22",
         "2023-07-15",
         "0.15",
         "1",
         "0",
         "0",
         "7510806561916"
        ],
        [
         "4",
         "378897",
         "Little flat near Montmartre",
         "1902818",
         "Lorraine",
         null,
         "Opéra",
         "48.88285",
         "2.33462",
         "Entire home/apt",
         "110.0",
         "3",
         "28",
         "2024-07-30",
         "0.19",
         "1",
         "6",
         "2",
         "7511805895013"
        ]
       ],
       "shape": {
        "columns": 18,
        "rows": 5
       }
      },
      "text/html": [
       "<div>\n",
       "<style scoped>\n",
       "    .dataframe tbody tr th:only-of-type {\n",
       "        vertical-align: middle;\n",
       "    }\n",
       "\n",
       "    .dataframe tbody tr th {\n",
       "        vertical-align: top;\n",
       "    }\n",
       "\n",
       "    .dataframe thead th {\n",
       "        text-align: right;\n",
       "    }\n",
       "</style>\n",
       "<table border=\"1\" class=\"dataframe\">\n",
       "  <thead>\n",
       "    <tr style=\"text-align: right;\">\n",
       "      <th></th>\n",
       "      <th>id</th>\n",
       "      <th>name</th>\n",
       "      <th>host_id</th>\n",
       "      <th>host_name</th>\n",
       "      <th>neighbourhood_group</th>\n",
       "      <th>neighbourhood</th>\n",
       "      <th>latitude</th>\n",
       "      <th>longitude</th>\n",
       "      <th>room_type</th>\n",
       "      <th>price</th>\n",
       "      <th>minimum_nights</th>\n",
       "      <th>number_of_reviews</th>\n",
       "      <th>last_review</th>\n",
       "      <th>reviews_per_month</th>\n",
       "      <th>calculated_host_listings_count</th>\n",
       "      <th>availability_365</th>\n",
       "      <th>number_of_reviews_ltm</th>\n",
       "      <th>license</th>\n",
       "    </tr>\n",
       "  </thead>\n",
       "  <tbody>\n",
       "    <tr>\n",
       "      <th>0</th>\n",
       "      <td>371299</td>\n",
       "      <td>Marais Rue des Archives refait à neuf février ...</td>\n",
       "      <td>1870265</td>\n",
       "      <td>Thomas</td>\n",
       "      <td>NaN</td>\n",
       "      <td>Hôtel-de-Ville</td>\n",
       "      <td>48.85751</td>\n",
       "      <td>2.35511</td>\n",
       "      <td>Entire home/apt</td>\n",
       "      <td>185.0</td>\n",
       "      <td>3</td>\n",
       "      <td>601</td>\n",
       "      <td>2024-09-06</td>\n",
       "      <td>3.97</td>\n",
       "      <td>3</td>\n",
       "      <td>307</td>\n",
       "      <td>54</td>\n",
       "      <td>7510300547558</td>\n",
       "    </tr>\n",
       "    <tr>\n",
       "      <th>1</th>\n",
       "      <td>371862</td>\n",
       "      <td>loft in Paris (Belleville)</td>\n",
       "      <td>1872631</td>\n",
       "      <td>Veronique</td>\n",
       "      <td>NaN</td>\n",
       "      <td>Entrepôt</td>\n",
       "      <td>48.87151</td>\n",
       "      <td>2.37219</td>\n",
       "      <td>Entire home/apt</td>\n",
       "      <td>250.0</td>\n",
       "      <td>4</td>\n",
       "      <td>50</td>\n",
       "      <td>2023-08-14</td>\n",
       "      <td>0.34</td>\n",
       "      <td>1</td>\n",
       "      <td>9</td>\n",
       "      <td>0</td>\n",
       "      <td>7511000320406</td>\n",
       "    </tr>\n",
       "    <tr>\n",
       "      <th>2</th>\n",
       "      <td>372879</td>\n",
       "      <td>Appartement complet au centre de Paris.</td>\n",
       "      <td>1876396</td>\n",
       "      <td>Samuel</td>\n",
       "      <td>NaN</td>\n",
       "      <td>Gobelins</td>\n",
       "      <td>48.83593</td>\n",
       "      <td>2.35108</td>\n",
       "      <td>Entire home/apt</td>\n",
       "      <td>85.0</td>\n",
       "      <td>30</td>\n",
       "      <td>171</td>\n",
       "      <td>2024-08-15</td>\n",
       "      <td>2.01</td>\n",
       "      <td>3</td>\n",
       "      <td>151</td>\n",
       "      <td>1</td>\n",
       "      <td>Available with a mobility lease only (\"bail mo...</td>\n",
       "    </tr>\n",
       "    <tr>\n",
       "      <th>3</th>\n",
       "      <td>375434</td>\n",
       "      <td>Luxurious Art &amp; Design Flat, 180m2, Champs Ely...</td>\n",
       "      <td>683140</td>\n",
       "      <td>Oscar</td>\n",
       "      <td>NaN</td>\n",
       "      <td>Élysée</td>\n",
       "      <td>48.86680</td>\n",
       "      <td>2.30972</td>\n",
       "      <td>Entire home/apt</td>\n",
       "      <td>NaN</td>\n",
       "      <td>3</td>\n",
       "      <td>22</td>\n",
       "      <td>2023-07-15</td>\n",
       "      <td>0.15</td>\n",
       "      <td>1</td>\n",
       "      <td>0</td>\n",
       "      <td>0</td>\n",
       "      <td>7510806561916</td>\n",
       "    </tr>\n",
       "    <tr>\n",
       "      <th>4</th>\n",
       "      <td>378897</td>\n",
       "      <td>Little flat near Montmartre</td>\n",
       "      <td>1902818</td>\n",
       "      <td>Lorraine</td>\n",
       "      <td>NaN</td>\n",
       "      <td>Opéra</td>\n",
       "      <td>48.88285</td>\n",
       "      <td>2.33462</td>\n",
       "      <td>Entire home/apt</td>\n",
       "      <td>110.0</td>\n",
       "      <td>3</td>\n",
       "      <td>28</td>\n",
       "      <td>2024-07-30</td>\n",
       "      <td>0.19</td>\n",
       "      <td>1</td>\n",
       "      <td>6</td>\n",
       "      <td>2</td>\n",
       "      <td>7511805895013</td>\n",
       "    </tr>\n",
       "  </tbody>\n",
       "</table>\n",
       "</div>"
      ],
      "text/plain": [
       "       id                                               name  host_id  \\\n",
       "0  371299  Marais Rue des Archives refait à neuf février ...  1870265   \n",
       "1  371862                         loft in Paris (Belleville)  1872631   \n",
       "2  372879            Appartement complet au centre de Paris.  1876396   \n",
       "3  375434  Luxurious Art & Design Flat, 180m2, Champs Ely...   683140   \n",
       "4  378897                        Little flat near Montmartre  1902818   \n",
       "\n",
       "   host_name  neighbourhood_group   neighbourhood  latitude  longitude  \\\n",
       "0     Thomas                  NaN  Hôtel-de-Ville  48.85751    2.35511   \n",
       "1  Veronique                  NaN        Entrepôt  48.87151    2.37219   \n",
       "2     Samuel                  NaN        Gobelins  48.83593    2.35108   \n",
       "3      Oscar                  NaN          Élysée  48.86680    2.30972   \n",
       "4   Lorraine                  NaN           Opéra  48.88285    2.33462   \n",
       "\n",
       "         room_type  price  minimum_nights  number_of_reviews last_review  \\\n",
       "0  Entire home/apt  185.0               3                601  2024-09-06   \n",
       "1  Entire home/apt  250.0               4                 50  2023-08-14   \n",
       "2  Entire home/apt   85.0              30                171  2024-08-15   \n",
       "3  Entire home/apt    NaN               3                 22  2023-07-15   \n",
       "4  Entire home/apt  110.0               3                 28  2024-07-30   \n",
       "\n",
       "   reviews_per_month  calculated_host_listings_count  availability_365  \\\n",
       "0               3.97                               3               307   \n",
       "1               0.34                               1                 9   \n",
       "2               2.01                               3               151   \n",
       "3               0.15                               1                 0   \n",
       "4               0.19                               1                 6   \n",
       "\n",
       "   number_of_reviews_ltm                                            license  \n",
       "0                     54                                      7510300547558  \n",
       "1                      0                                      7511000320406  \n",
       "2                      1  Available with a mobility lease only (\"bail mo...  \n",
       "3                      0                                      7510806561916  \n",
       "4                      2                                      7511805895013  "
      ]
     },
     "execution_count": 2,
     "metadata": {},
     "output_type": "execute_result"
    }
   ],
   "source": [
    "# data\n",
    "with open('./data/listings.csv', 'r') as file:\n",
    "    df_listings = pd.read_csv(file)\n",
    "    \n",
    "df_listings.head()"
   ]
  },
  {
   "cell_type": "markdown",
   "metadata": {},
   "source": [
    "## 1. data cleaning & standardization\n",
    "- after this step we will have two dataframes one with only numeric columns and the other with only both\n",
    "- we standardize the data with z-score normalization"
   ]
  },
  {
   "cell_type": "code",
   "execution_count": 3,
   "metadata": {},
   "outputs": [
    {
     "name": "stdout",
     "output_type": "stream",
     "text": [
      "<class 'pandas.core.frame.DataFrame'>\n",
      "Index: 64230 entries, 0 to 95460\n",
      "Data columns (total 13 columns):\n",
      " #   Column                          Non-Null Count  Dtype  \n",
      "---  ------                          --------------  -----  \n",
      " 0   name                            64230 non-null  object \n",
      " 1   host_name                       64230 non-null  object \n",
      " 2   neighbourhood                   64230 non-null  object \n",
      " 3   latitude                        64230 non-null  float64\n",
      " 4   longitude                       64230 non-null  float64\n",
      " 5   room_type                       64230 non-null  object \n",
      " 6   price                           64230 non-null  float64\n",
      " 7   minimum_nights                  64230 non-null  int64  \n",
      " 8   number_of_reviews               64230 non-null  int64  \n",
      " 9   reviews_per_month               64230 non-null  float64\n",
      " 10  calculated_host_listings_count  64230 non-null  int64  \n",
      " 11  availability_365                64230 non-null  int64  \n",
      " 12  number_of_reviews_ltm           64230 non-null  int64  \n",
      "dtypes: float64(4), int64(5), object(4)\n",
      "memory usage: 6.9+ MB\n"
     ]
    }
   ],
   "source": [
    "## drop na prices\n",
    "df_listings_clean = df_listings.dropna(subset=['price'])\n",
    "\n",
    "## drop irrelevant columns\n",
    "drop_cols_listing = ['id', 'host_id', 'neighbourhood_group', 'license', 'last_review']\n",
    "df_listings_clean = df_listings_clean.drop(columns=drop_cols_listing)\n",
    "\n",
    "\n",
    "# we make the assumption that if revievews_per_month is nan, it means that there are no reviews and we can replace it with 0\n",
    "df_listings_clean['reviews_per_month'] = df_listings_clean['reviews_per_month'].fillna(0)\n",
    "\n",
    "## non numeric columns\n",
    "def drop_non_numeric(df):\n",
    "    return df.select_dtypes(include=['number'])\n",
    "\n",
    "df_listings_num = drop_non_numeric(df_listings_clean)\n",
    "\n",
    "df_listings_clean.info()"
   ]
  },
  {
   "cell_type": "code",
   "execution_count": 4,
   "metadata": {},
   "outputs": [
    {
     "data": {
      "text/plain": [
       "name                              0\n",
       "host_name                         0\n",
       "neighbourhood                     0\n",
       "latitude                          0\n",
       "longitude                         0\n",
       "room_type                         0\n",
       "price                             0\n",
       "minimum_nights                    0\n",
       "number_of_reviews                 0\n",
       "reviews_per_month                 0\n",
       "calculated_host_listings_count    0\n",
       "availability_365                  0\n",
       "number_of_reviews_ltm             0\n",
       "dtype: int64"
      ]
     },
     "execution_count": 4,
     "metadata": {},
     "output_type": "execute_result"
    }
   ],
   "source": [
    "df_listings_clean.isna().sum()"
   ]
  },
  {
   "cell_type": "code",
   "execution_count": 5,
   "metadata": {},
   "outputs": [
    {
     "data": {
      "application/vnd.microsoft.datawrangler.viewer.v0+json": {
       "columns": [
        {
         "name": "index",
         "rawType": "int64",
         "type": "integer"
        },
        {
         "name": "latitude",
         "rawType": "float64",
         "type": "float"
        },
        {
         "name": "longitude",
         "rawType": "float64",
         "type": "float"
        },
        {
         "name": "price",
         "rawType": "float64",
         "type": "float"
        },
        {
         "name": "minimum_nights",
         "rawType": "float64",
         "type": "float"
        },
        {
         "name": "number_of_reviews",
         "rawType": "float64",
         "type": "float"
        },
        {
         "name": "reviews_per_month",
         "rawType": "float64",
         "type": "float"
        },
        {
         "name": "calculated_host_listings_count",
         "rawType": "float64",
         "type": "float"
        },
        {
         "name": "availability_365",
         "rawType": "float64",
         "type": "float"
        },
        {
         "name": "number_of_reviews_ltm",
         "rawType": "float64",
         "type": "float"
        }
       ],
       "conversionMethod": "pd.DataFrame",
       "ref": "01679162-3b69-4cfa-9728-7a07b6f08cb1",
       "rows": [
        [
         "0",
         "-0.34618701311602224",
         "0.39931892440449224",
         "185.0",
         "-0.1888248370457433",
         "9.415227638456484",
         "2.219579732380681",
         "-0.2608150376035425",
         "1.026043407242415",
         "3.504188004542783"
        ],
        [
         "1",
         "0.43126456801644464",
         "0.893291532180151",
         "250.0",
         "-0.1640720557074517",
         "0.40446076814563425",
         "-0.46431120105789303",
         "-0.2794089002688893",
         "-1.4499599632722828",
         "-0.5496478342991015"
        ],
        [
         "2",
         "-1.5445730931756851",
         "0.2827668395487671",
         "85.0",
         "0.47950025908813015",
         "2.383231714257454",
         "0.7704265011025526",
         "-0.2608150376035425",
         "-0.2701194310136014",
         "-0.474576800246474"
        ],
        [
         "4",
         "1.061000348733447",
         "-0.1932746782490848",
         "110.0",
         "-0.1888248370457433",
         "0.04468423248893976",
         "-0.5752157850842803",
         "-0.2794089002688893",
         "-1.4748861717002832",
         "-0.3995057661938465"
        ],
        [
         "5",
         "0.3251979594475524",
         "0.3403198541549521",
         "300.0",
         "0.0587029763371728",
         "-0.3150923031677547",
         "-0.6861203691106676",
         "-0.2794089002688893",
         "1.491332631231754",
         "-0.324434732141219"
        ]
       ],
       "shape": {
        "columns": 9,
        "rows": 5
       }
      },
      "text/html": [
       "<div>\n",
       "<style scoped>\n",
       "    .dataframe tbody tr th:only-of-type {\n",
       "        vertical-align: middle;\n",
       "    }\n",
       "\n",
       "    .dataframe tbody tr th {\n",
       "        vertical-align: top;\n",
       "    }\n",
       "\n",
       "    .dataframe thead th {\n",
       "        text-align: right;\n",
       "    }\n",
       "</style>\n",
       "<table border=\"1\" class=\"dataframe\">\n",
       "  <thead>\n",
       "    <tr style=\"text-align: right;\">\n",
       "      <th></th>\n",
       "      <th>latitude</th>\n",
       "      <th>longitude</th>\n",
       "      <th>price</th>\n",
       "      <th>minimum_nights</th>\n",
       "      <th>number_of_reviews</th>\n",
       "      <th>reviews_per_month</th>\n",
       "      <th>calculated_host_listings_count</th>\n",
       "      <th>availability_365</th>\n",
       "      <th>number_of_reviews_ltm</th>\n",
       "    </tr>\n",
       "  </thead>\n",
       "  <tbody>\n",
       "    <tr>\n",
       "      <th>0</th>\n",
       "      <td>-0.346187</td>\n",
       "      <td>0.399319</td>\n",
       "      <td>185.0</td>\n",
       "      <td>-0.188825</td>\n",
       "      <td>9.415228</td>\n",
       "      <td>2.219580</td>\n",
       "      <td>-0.260815</td>\n",
       "      <td>1.026043</td>\n",
       "      <td>3.504188</td>\n",
       "    </tr>\n",
       "    <tr>\n",
       "      <th>1</th>\n",
       "      <td>0.431265</td>\n",
       "      <td>0.893292</td>\n",
       "      <td>250.0</td>\n",
       "      <td>-0.164072</td>\n",
       "      <td>0.404461</td>\n",
       "      <td>-0.464311</td>\n",
       "      <td>-0.279409</td>\n",
       "      <td>-1.449960</td>\n",
       "      <td>-0.549648</td>\n",
       "    </tr>\n",
       "    <tr>\n",
       "      <th>2</th>\n",
       "      <td>-1.544573</td>\n",
       "      <td>0.282767</td>\n",
       "      <td>85.0</td>\n",
       "      <td>0.479500</td>\n",
       "      <td>2.383232</td>\n",
       "      <td>0.770427</td>\n",
       "      <td>-0.260815</td>\n",
       "      <td>-0.270119</td>\n",
       "      <td>-0.474577</td>\n",
       "    </tr>\n",
       "    <tr>\n",
       "      <th>4</th>\n",
       "      <td>1.061000</td>\n",
       "      <td>-0.193275</td>\n",
       "      <td>110.0</td>\n",
       "      <td>-0.188825</td>\n",
       "      <td>0.044684</td>\n",
       "      <td>-0.575216</td>\n",
       "      <td>-0.279409</td>\n",
       "      <td>-1.474886</td>\n",
       "      <td>-0.399506</td>\n",
       "    </tr>\n",
       "    <tr>\n",
       "      <th>5</th>\n",
       "      <td>0.325198</td>\n",
       "      <td>0.340320</td>\n",
       "      <td>300.0</td>\n",
       "      <td>0.058703</td>\n",
       "      <td>-0.315092</td>\n",
       "      <td>-0.686120</td>\n",
       "      <td>-0.279409</td>\n",
       "      <td>1.491333</td>\n",
       "      <td>-0.324435</td>\n",
       "    </tr>\n",
       "  </tbody>\n",
       "</table>\n",
       "</div>"
      ],
      "text/plain": [
       "   latitude  longitude  price  minimum_nights  number_of_reviews  \\\n",
       "0 -0.346187   0.399319  185.0       -0.188825           9.415228   \n",
       "1  0.431265   0.893292  250.0       -0.164072           0.404461   \n",
       "2 -1.544573   0.282767   85.0        0.479500           2.383232   \n",
       "4  1.061000  -0.193275  110.0       -0.188825           0.044684   \n",
       "5  0.325198   0.340320  300.0        0.058703          -0.315092   \n",
       "\n",
       "   reviews_per_month  calculated_host_listings_count  availability_365  \\\n",
       "0           2.219580                       -0.260815          1.026043   \n",
       "1          -0.464311                       -0.279409         -1.449960   \n",
       "2           0.770427                       -0.260815         -0.270119   \n",
       "4          -0.575216                       -0.279409         -1.474886   \n",
       "5          -0.686120                       -0.279409          1.491333   \n",
       "\n",
       "   number_of_reviews_ltm  \n",
       "0               3.504188  \n",
       "1              -0.549648  \n",
       "2              -0.474577  \n",
       "4              -0.399506  \n",
       "5              -0.324435  "
      ]
     },
     "execution_count": 5,
     "metadata": {},
     "output_type": "execute_result"
    }
   ],
   "source": [
    "# standardize the data\n",
    "def z_score_normalize(col):\n",
    "    col_mean = np.mean(col)\n",
    "    col_variance = np.std(col)\n",
    "    return((col-col_mean)/col_variance)\n",
    "\n",
    "df_listings_norm = pd.DataFrame()\n",
    "for col in df_listings_num.columns:\n",
    "    if col == 'price':\n",
    "        df_listings_norm[col] = df_listings_num[col]\n",
    "    else:\n",
    "        df_listings_norm[col] = z_score_normalize(df_listings_num[col])\n",
    "    \n",
    "df_listings_norm.head()"
   ]
  },
  {
   "cell_type": "markdown",
   "metadata": {},
   "source": [
    "## 2. Correlation analysis"
   ]
  },
  {
   "cell_type": "code",
   "execution_count": 6,
   "metadata": {},
   "outputs": [
    {
     "name": "stdout",
     "output_type": "stream",
     "text": [
      "Mean of latitude is 48.863744\n",
      "Variance of latitude is 0.00032427193946897137\n",
      "Standard Deviation of latitude is 0.01800755228977474\n",
      "Mean of longitude is 2.341303\n",
      "Variance of longitude is 0.0011955562091951308\n",
      "Standard Deviation of longitude is 0.03457681606503309\n",
      "Mean of price is 256.023276\n",
      "Variance of price is 272763.9950210616\n",
      "Standard Deviation of price is 522.2681256031825\n",
      "Mean of minimum_nights is 10.628429\n",
      "Variance of minimum_nights is 1632.1196339482249\n",
      "Standard Deviation of minimum_nights is 40.3995004170624\n",
      "Mean of number_of_reviews is 25.267601\n",
      "Variance of number_of_reviews is 3739.2085704076717\n",
      "Standard Deviation of number_of_reviews is 61.14906843450415\n",
      "Mean of reviews_per_month is 0.967987\n",
      "Variance of reviews_per_month is 1.829294057757977\n",
      "Standard Deviation of reviews_per_month is 1.3525139769177903\n",
      "Mean of calculated_host_listings_count is 31.053884\n",
      "Variance of calculated_host_listings_count is 11569.664183494051\n",
      "Standard Deviation of calculated_host_listings_count is 107.56237345602807\n",
      "Mean of availability_365 is 183.510291\n",
      "Variance of availability_365 is 14485.38574961164\n",
      "Standard Deviation of availability_365 is 120.35524811827543\n",
      "Mean of number_of_reviews_ltm is 7.321703\n",
      "Variance of number_of_reviews_ltm is 177.4415015672431\n",
      "Standard Deviation of number_of_reviews_ltm is 13.320717006499429\n"
     ]
    },
    {
     "data": {
      "application/vnd.microsoft.datawrangler.viewer.v0+json": {
       "columns": [
        {
         "name": "index",
         "rawType": "object",
         "type": "string"
        },
        {
         "name": "latitude",
         "rawType": "object",
         "type": "unknown"
        },
        {
         "name": "longitude",
         "rawType": "object",
         "type": "unknown"
        },
        {
         "name": "price",
         "rawType": "object",
         "type": "unknown"
        },
        {
         "name": "minimum_nights",
         "rawType": "object",
         "type": "unknown"
        },
        {
         "name": "number_of_reviews",
         "rawType": "object",
         "type": "unknown"
        },
        {
         "name": "reviews_per_month",
         "rawType": "object",
         "type": "unknown"
        },
        {
         "name": "calculated_host_listings_count",
         "rawType": "object",
         "type": "unknown"
        },
        {
         "name": "availability_365",
         "rawType": "object",
         "type": "unknown"
        },
        {
         "name": "number_of_reviews_ltm",
         "rawType": "object",
         "type": "unknown"
        }
       ],
       "conversionMethod": "pd.DataFrame",
       "ref": "492d6444-65ce-44e5-8aae-3d7e7408338e",
       "rows": [
        [
         "latitude",
         "0.9999999999999998",
         "0.09317010479190052",
         "-0.010186628530217328",
         "-0.011001567823781196",
         "-0.009287626735250337",
         "-0.01426531319799081",
         "-0.007200802940980159",
         "0.004829640536207902",
         "-0.006081701923087668"
        ],
        [
         "longitude",
         "0.09317010479190052",
         "1.0000000000000002",
         "-0.10215774903226753",
         "-0.035261486396477824",
         "0.03134568757393131",
         "0.01833360877846806",
         "-0.10097018543881724",
         "-0.055888065885658894",
         "0.02820221638715765"
        ],
        [
         "price",
         "-0.010186628530217328",
         "-0.10215774903226753",
         "1.0",
         "-0.026807767949323623",
         "-0.04744494978256157",
         "-0.084552640657359",
         "0.0028254386821446064",
         "0.05769893136499678",
         "-0.07105350246029725"
        ],
        [
         "minimum_nights",
         "-0.011001567823781196",
         "-0.035261486396477824",
         "-0.026807767949323623",
         "1.0",
         "-0.04416857106082006",
         "-0.12016077605322344",
         "0.08645845836704574",
         "0.14525750587230501",
         "-0.10329673003766605"
        ],
        [
         "number_of_reviews",
         "-0.009287626735250337",
         "0.03134568757393131",
         "-0.04744494978256157",
         "-0.04416857106082006",
         "0.9999999999999999",
         "0.5581538565998759",
         "-0.0640782541865551",
         "0.018006862808367875",
         "0.6851749674092571"
        ],
        [
         "reviews_per_month",
         "-0.01426531319799081",
         "0.01833360877846806",
         "-0.084552640657359",
         "-0.12016077605322344",
         "0.5581538565998759",
         "1.0",
         "-0.07523967133812375",
         "-0.06183045465352258",
         "0.8006184382574513"
        ],
        [
         "calculated_host_listings_count",
         "-0.007200802940980159",
         "-0.10097018543881724",
         "0.0028254386821446064",
         "0.08645845836704574",
         "-0.0640782541865551",
         "-0.07523967133812375",
         "1.0",
         "0.0478537572335864",
         "-0.06633407489259861"
        ],
        [
         "availability_365",
         "0.004829640536207902",
         "-0.055888065885658894",
         "0.05769893136499678",
         "0.14525750587230501",
         "0.018006862808367875",
         "-0.06183045465352258",
         "0.0478537572335864",
         "1.0",
         "-0.020698686590733092"
        ],
        [
         "number_of_reviews_ltm",
         "-0.006081701923087668",
         "0.02820221638715765",
         "-0.07105350246029725",
         "-0.10329673003766605",
         "0.6851749674092571",
         "0.8006184382574513",
         "-0.06633407489259861",
         "-0.020698686590733092",
         "1.0"
        ]
       ],
       "shape": {
        "columns": 9,
        "rows": 9
       }
      },
      "text/html": [
       "<div>\n",
       "<style scoped>\n",
       "    .dataframe tbody tr th:only-of-type {\n",
       "        vertical-align: middle;\n",
       "    }\n",
       "\n",
       "    .dataframe tbody tr th {\n",
       "        vertical-align: top;\n",
       "    }\n",
       "\n",
       "    .dataframe thead th {\n",
       "        text-align: right;\n",
       "    }\n",
       "</style>\n",
       "<table border=\"1\" class=\"dataframe\">\n",
       "  <thead>\n",
       "    <tr style=\"text-align: right;\">\n",
       "      <th></th>\n",
       "      <th>latitude</th>\n",
       "      <th>longitude</th>\n",
       "      <th>price</th>\n",
       "      <th>minimum_nights</th>\n",
       "      <th>number_of_reviews</th>\n",
       "      <th>reviews_per_month</th>\n",
       "      <th>calculated_host_listings_count</th>\n",
       "      <th>availability_365</th>\n",
       "      <th>number_of_reviews_ltm</th>\n",
       "    </tr>\n",
       "  </thead>\n",
       "  <tbody>\n",
       "    <tr>\n",
       "      <th>latitude</th>\n",
       "      <td>1.0</td>\n",
       "      <td>0.09317</td>\n",
       "      <td>-0.010187</td>\n",
       "      <td>-0.011002</td>\n",
       "      <td>-0.009288</td>\n",
       "      <td>-0.014265</td>\n",
       "      <td>-0.007201</td>\n",
       "      <td>0.00483</td>\n",
       "      <td>-0.006082</td>\n",
       "    </tr>\n",
       "    <tr>\n",
       "      <th>longitude</th>\n",
       "      <td>0.09317</td>\n",
       "      <td>1.0</td>\n",
       "      <td>-0.102158</td>\n",
       "      <td>-0.035261</td>\n",
       "      <td>0.031346</td>\n",
       "      <td>0.018334</td>\n",
       "      <td>-0.10097</td>\n",
       "      <td>-0.055888</td>\n",
       "      <td>0.028202</td>\n",
       "    </tr>\n",
       "    <tr>\n",
       "      <th>price</th>\n",
       "      <td>-0.010187</td>\n",
       "      <td>-0.102158</td>\n",
       "      <td>1.0</td>\n",
       "      <td>-0.026808</td>\n",
       "      <td>-0.047445</td>\n",
       "      <td>-0.084553</td>\n",
       "      <td>0.002825</td>\n",
       "      <td>0.057699</td>\n",
       "      <td>-0.071054</td>\n",
       "    </tr>\n",
       "    <tr>\n",
       "      <th>minimum_nights</th>\n",
       "      <td>-0.011002</td>\n",
       "      <td>-0.035261</td>\n",
       "      <td>-0.026808</td>\n",
       "      <td>1.0</td>\n",
       "      <td>-0.044169</td>\n",
       "      <td>-0.120161</td>\n",
       "      <td>0.086458</td>\n",
       "      <td>0.145258</td>\n",
       "      <td>-0.103297</td>\n",
       "    </tr>\n",
       "    <tr>\n",
       "      <th>number_of_reviews</th>\n",
       "      <td>-0.009288</td>\n",
       "      <td>0.031346</td>\n",
       "      <td>-0.047445</td>\n",
       "      <td>-0.044169</td>\n",
       "      <td>1.0</td>\n",
       "      <td>0.558154</td>\n",
       "      <td>-0.064078</td>\n",
       "      <td>0.018007</td>\n",
       "      <td>0.685175</td>\n",
       "    </tr>\n",
       "    <tr>\n",
       "      <th>reviews_per_month</th>\n",
       "      <td>-0.014265</td>\n",
       "      <td>0.018334</td>\n",
       "      <td>-0.084553</td>\n",
       "      <td>-0.120161</td>\n",
       "      <td>0.558154</td>\n",
       "      <td>1.0</td>\n",
       "      <td>-0.07524</td>\n",
       "      <td>-0.06183</td>\n",
       "      <td>0.800618</td>\n",
       "    </tr>\n",
       "    <tr>\n",
       "      <th>calculated_host_listings_count</th>\n",
       "      <td>-0.007201</td>\n",
       "      <td>-0.10097</td>\n",
       "      <td>0.002825</td>\n",
       "      <td>0.086458</td>\n",
       "      <td>-0.064078</td>\n",
       "      <td>-0.07524</td>\n",
       "      <td>1.0</td>\n",
       "      <td>0.047854</td>\n",
       "      <td>-0.066334</td>\n",
       "    </tr>\n",
       "    <tr>\n",
       "      <th>availability_365</th>\n",
       "      <td>0.00483</td>\n",
       "      <td>-0.055888</td>\n",
       "      <td>0.057699</td>\n",
       "      <td>0.145258</td>\n",
       "      <td>0.018007</td>\n",
       "      <td>-0.06183</td>\n",
       "      <td>0.047854</td>\n",
       "      <td>1.0</td>\n",
       "      <td>-0.020699</td>\n",
       "    </tr>\n",
       "    <tr>\n",
       "      <th>number_of_reviews_ltm</th>\n",
       "      <td>-0.006082</td>\n",
       "      <td>0.028202</td>\n",
       "      <td>-0.071054</td>\n",
       "      <td>-0.103297</td>\n",
       "      <td>0.685175</td>\n",
       "      <td>0.800618</td>\n",
       "      <td>-0.066334</td>\n",
       "      <td>-0.020699</td>\n",
       "      <td>1.0</td>\n",
       "    </tr>\n",
       "  </tbody>\n",
       "</table>\n",
       "</div>"
      ],
      "text/plain": [
       "                                latitude longitude     price minimum_nights  \\\n",
       "latitude                             1.0   0.09317 -0.010187      -0.011002   \n",
       "longitude                        0.09317       1.0 -0.102158      -0.035261   \n",
       "price                          -0.010187 -0.102158       1.0      -0.026808   \n",
       "minimum_nights                 -0.011002 -0.035261 -0.026808            1.0   \n",
       "number_of_reviews              -0.009288  0.031346 -0.047445      -0.044169   \n",
       "reviews_per_month              -0.014265  0.018334 -0.084553      -0.120161   \n",
       "calculated_host_listings_count -0.007201  -0.10097  0.002825       0.086458   \n",
       "availability_365                 0.00483 -0.055888  0.057699       0.145258   \n",
       "number_of_reviews_ltm          -0.006082  0.028202 -0.071054      -0.103297   \n",
       "\n",
       "                               number_of_reviews reviews_per_month  \\\n",
       "latitude                               -0.009288         -0.014265   \n",
       "longitude                               0.031346          0.018334   \n",
       "price                                  -0.047445         -0.084553   \n",
       "minimum_nights                         -0.044169         -0.120161   \n",
       "number_of_reviews                            1.0          0.558154   \n",
       "reviews_per_month                       0.558154               1.0   \n",
       "calculated_host_listings_count         -0.064078          -0.07524   \n",
       "availability_365                        0.018007          -0.06183   \n",
       "number_of_reviews_ltm                   0.685175          0.800618   \n",
       "\n",
       "                               calculated_host_listings_count  \\\n",
       "latitude                                            -0.007201   \n",
       "longitude                                            -0.10097   \n",
       "price                                                0.002825   \n",
       "minimum_nights                                       0.086458   \n",
       "number_of_reviews                                   -0.064078   \n",
       "reviews_per_month                                    -0.07524   \n",
       "calculated_host_listings_count                            1.0   \n",
       "availability_365                                     0.047854   \n",
       "number_of_reviews_ltm                               -0.066334   \n",
       "\n",
       "                               availability_365 number_of_reviews_ltm  \n",
       "latitude                                0.00483             -0.006082  \n",
       "longitude                             -0.055888              0.028202  \n",
       "price                                  0.057699             -0.071054  \n",
       "minimum_nights                         0.145258             -0.103297  \n",
       "number_of_reviews                      0.018007              0.685175  \n",
       "reviews_per_month                      -0.06183              0.800618  \n",
       "calculated_host_listings_count         0.047854             -0.066334  \n",
       "availability_365                            1.0             -0.020699  \n",
       "number_of_reviews_ltm                 -0.020699                   1.0  "
      ]
     },
     "execution_count": 6,
     "metadata": {},
     "output_type": "execute_result"
    }
   ],
   "source": [
    "def calc_mean(col):\n",
    "    \"\"\"Calculate mean of a list.\"\"\"\n",
    "    return round(sum(col) / len(col), 6)\n",
    "\n",
    "def calc_variance(col, mean):\n",
    "    \"\"\"Calculate variance of a list.\"\"\"\n",
    "    squared_dist = sum([(mean - x) ** 2 for x in col])\n",
    "    return squared_dist / len(col)\n",
    "\n",
    "def calc_std_dev(variance):\n",
    "    \"\"\"Calculate standard deviation from variance.\"\"\"\n",
    "    return variance ** 0.5\n",
    "\n",
    "def calc_covariance(x_list, y_list, x_mean, y_mean):\n",
    "    \"\"\"Calculate covariance between two lists.\"\"\"\n",
    "    sum_cross_variations = sum([(x - x_mean) * (y_list[i] - y_mean) for i, x in enumerate(x_list)])\n",
    "    return sum_cross_variations / len(x_list)\n",
    "\n",
    "def calc_correlation(cov_xy, std_x, std_y):\n",
    "    \"\"\"Calculate correlation from covariance and standard deviations.\"\"\"\n",
    "    return cov_xy / (std_x * std_y)\n",
    "\n",
    "def analyze_column_statistics(df):\n",
    "    \"\"\"Analyze and print statistics for each column in the dataframe.\"\"\"\n",
    "    for col in df.columns:\n",
    "        col_list = df.loc[:, col].dropna().tolist()\n",
    "        mean_col = calc_mean(col_list)\n",
    "        var_col = calc_variance(col_list, mean_col)\n",
    "        sd_col = calc_std_dev(var_col)\n",
    "        \n",
    "        print(f\"Mean of {col} is {mean_col}\")\n",
    "        print(f\"Variance of {col} is {var_col}\")\n",
    "        print(f\"Standard Deviation of {col} is {sd_col}\")\n",
    "\n",
    "#TODO Fix built in functions\n",
    "def calculate_correlation_matrix(df):\n",
    "    \"\"\"Calculate and print correlation matrix for the dataframe.\"\"\"\n",
    "    corr_matrix = pd.DataFrame(index=df.columns, columns=df.columns)\n",
    "    \n",
    "    for col1 in df.columns:\n",
    "        for col2 in df.columns:\n",
    "            x_list = df[col1].tolist()\n",
    "            y_list = df[col2].tolist()\n",
    "            x_mean = calc_mean(x_list)\n",
    "            y_mean = calc_mean(y_list)\n",
    "            cov_xy = calc_covariance(x_list, y_list, x_mean, y_mean)\n",
    "            std_x = calc_std_dev(calc_variance(x_list, x_mean))\n",
    "            std_y = calc_std_dev(calc_variance(y_list, y_mean))\n",
    "            corr_xy = calc_correlation(cov_xy, std_x, std_y)\n",
    "            corr_matrix.loc[col1, col2] = corr_xy\n",
    "            \n",
    "    \n",
    "    return corr_matrix\n",
    "\n",
    "# Analyze column statistics\n",
    "analyze_column_statistics(df_listings_num)\n",
    "\n",
    "# Calculate correlation matrix\n",
    "corr_matrix = calculate_correlation_matrix(df_listings_num)\n",
    "corr_matrix"
   ]
  },
  {
   "cell_type": "code",
   "execution_count": 7,
   "metadata": {
    "vscode": {
     "languageId": "markdown"
    }
   },
   "outputs": [],
   "source": [
    "#sns.pairplot(df_listings_num)\n",
    "\n",
    "# from the pairplot deem longitude, latitude and availability365 to be the most interesting features to cluster with respect to the price"
   ]
  },
  {
   "cell_type": "code",
   "execution_count": 8,
   "metadata": {},
   "outputs": [
    {
     "name": "stdout",
     "output_type": "stream",
     "text": [
      "<class 'pandas.core.frame.DataFrame'>\n",
      "Index: 9 entries, latitude to number_of_reviews_ltm\n",
      "Data columns (total 9 columns):\n",
      " #   Column                          Non-Null Count  Dtype \n",
      "---  ------                          --------------  ----- \n",
      " 0   latitude                        9 non-null      object\n",
      " 1   longitude                       9 non-null      object\n",
      " 2   price                           9 non-null      object\n",
      " 3   minimum_nights                  9 non-null      object\n",
      " 4   number_of_reviews               9 non-null      object\n",
      " 5   reviews_per_month               9 non-null      object\n",
      " 6   calculated_host_listings_count  9 non-null      object\n",
      " 7   availability_365                9 non-null      object\n",
      " 8   number_of_reviews_ltm           9 non-null      object\n",
      "dtypes: object(9)\n",
      "memory usage: 1020.0+ bytes\n"
     ]
    }
   ],
   "source": [
    "corr_matrix.info()\n",
    "# sns.heatmap(corr_matrix, annot=True)"
   ]
  },
  {
   "cell_type": "markdown",
   "metadata": {},
   "source": [
    "4. Choosing a Clustering Algorithm\n",
    "As seen in the pairplot, there are no clearly separeted clusters in the data. therefore we try to cluster the data through the density based clustering algorithm DBSCAN"
   ]
  },
  {
   "cell_type": "code",
   "execution_count": 9,
   "metadata": {},
   "outputs": [],
   "source": [
    "def use_dbscan(X, eps, min_samples):\n",
    "    \"\"\"Use DBSCAN to cluster data and return labels.\"\"\"\n",
    "    dbscan = DBSCAN(eps=eps, min_samples=min_samples)\n",
    "    dbscan.fit(X)\n",
    "    print(dbscan.labels_)\n",
    "    return dbscan.labels_"
   ]
  },
  {
   "cell_type": "markdown",
   "metadata": {},
   "source": [
    "5. Run Clustering Algorithm"
   ]
  },
  {
   "cell_type": "code",
   "execution_count": 10,
   "metadata": {},
   "outputs": [
    {
     "ename": "",
     "evalue": "",
     "output_type": "error",
     "traceback": [
      "\u001b[1;31mCannot execute code, session has been disposed. Please try restarting the Kernel."
     ]
    },
    {
     "ename": "",
     "evalue": "",
     "output_type": "error",
     "traceback": [
      "\u001b[1;31mCannot execute code, session has been disposed. Please try restarting the Kernel. \n",
      "\u001b[1;31mView Jupyter <a href='command:jupyter.viewOutput'>log</a> for further details."
     ]
    }
   ],
   "source": [
    "# Log transform price\n",
    "df_listings_num[\"price_log\"] = np.log(df_listings_num['price'])\n",
    "\n",
    "X_lon = df_listings_num[['price_log','longitude']]\n",
    "X_lat = df_listings_num[['price_log','latitude']]\n",
    "X_ava = df_listings_num[['price_log','availability_365']]\n",
    "\n",
    "\n",
    "\n",
    "\n",
    "# Use DBSCAN to cluster data\n",
    "labels_lon = use_dbscan(X_lon, 5, 150)\n",
    "labels_lat = use_dbscan(X_lat, 0.5, 5)\n",
    "labels_ava = use_dbscan(X_ava, 0.5, 5)\n",
    "\n",
    "# Plot clusters\n",
    "\n",
    "plt.figure(figsize=(12, 8))\n",
    "sns.scatterplot(x='price_log', y='longitude', data=X_lon, hue=labels_lon, palette='colorblind', alpha=0.6, s=10)"
   ]
  },
  {
   "cell_type": "markdown",
   "metadata": {},
   "source": [
    "6. Graph Clusters"
   ]
  },
  {
   "cell_type": "code",
   "execution_count": null,
   "metadata": {},
   "outputs": [
    {
     "data": {
      "text/plain": [
       "<Axes: xlabel='price', ylabel='longitude'>"
      ]
     },
     "execution_count": 123,
     "metadata": {},
     "output_type": "execute_result"
    },
    {
     "data": {
      "image/png": "[encoded data removed]",
      "text/plain": [
       "<Figure size 640x480 with 1 Axes>"
      ]
     },
     "metadata": {},
     "output_type": "display_data"
    }
   ],
   "source": []
  }
 ],
 "metadata": {
  "kernelspec": {
   "display_name": "base",
   "language": "python",
   "name": "python3"
  },
  "language_info": {
   "codemirror_mode": {
    "name": "ipython",
    "version": 3
   },
   "file_extension": ".py",
   "mimetype": "text/x-python",
   "name": "python",
   "nbconvert_exporter": "python",
   "pygments_lexer": "ipython3",
   "version": "3.12.4"
  }
 },
 "nbformat": 4,
 "nbformat_minor": 2
}
