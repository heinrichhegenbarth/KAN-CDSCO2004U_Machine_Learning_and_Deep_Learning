{
 "cells": [
  {
   "cell_type": "markdown",
   "metadata": {},
   "source": [
    "# Assignment 1 (new working doc)\n",
    "\n",
    "## Links\n",
    "- https://cbscanvas.instructure.com/courses/41482/files/1504373?wrap=1\n",
    "- https://insideairbnb.com/get-the-data/\n",
    "\n",
    "## Approach\n",
    "1. data cleaning & standardization\n",
    "### EDA\n",
    "2. correlation analysis\n",
    "3. graphing\n",
    "### Clustering\n",
    "4. choose clustering algorithm\n",
    "5. run clustering algorithm\n",
    "6. graph clusters\n",
    "### PCA\n",
    "7. run pca"
   ]
  },
  {
   "cell_type": "code",
   "execution_count": 52,
   "metadata": {},
   "outputs": [],
   "source": [
    "# imports\n",
    "import numpy as np\n",
    "import pandas as pd\n",
    "import seaborn as sns\n",
    "import sklearn\n",
    "import matplotlib.pyplot as plt\n",
    "from sklearn.decomposition import PCA"
   ]
  },
  {
   "cell_type": "code",
   "execution_count": 53,
   "metadata": {},
   "outputs": [
    {
     "data": {
      "application/vnd.microsoft.datawrangler.viewer.v0+json": {
       "columns": [
        {
         "name": "index",
         "rawType": "int64",
         "type": "integer"
        },
        {
         "name": "id",
         "rawType": "int64",
         "type": "integer"
        },
        {
         "name": "name",
         "rawType": "object",
         "type": "string"
        },
        {
         "name": "host_id",
         "rawType": "int64",
         "type": "integer"
        },
        {
         "name": "host_name",
         "rawType": "object",
         "type": "string"
        },
        {
         "name": "neighbourhood_group",
         "rawType": "float64",
         "type": "float"
        },
        {
         "name": "neighbourhood",
         "rawType": "object",
         "type": "string"
        },
        {
         "name": "latitude",
         "rawType": "float64",
         "type": "float"
        },
        {
         "name": "longitude",
         "rawType": "float64",
         "type": "float"
        },
        {
         "name": "room_type",
         "rawType": "object",
         "type": "string"
        },
        {
         "name": "price",
         "rawType": "float64",
         "type": "float"
        },
        {
         "name": "minimum_nights",
         "rawType": "int64",
         "type": "integer"
        },
        {
         "name": "number_of_reviews",
         "rawType": "int64",
         "type": "integer"
        },
        {
         "name": "last_review",
         "rawType": "object",
         "type": "string"
        },
        {
         "name": "reviews_per_month",
         "rawType": "float64",
         "type": "float"
        },
        {
         "name": "calculated_host_listings_count",
         "rawType": "int64",
         "type": "integer"
        },
        {
         "name": "availability_365",
         "rawType": "int64",
         "type": "integer"
        },
        {
         "name": "number_of_reviews_ltm",
         "rawType": "int64",
         "type": "integer"
        },
        {
         "name": "license",
         "rawType": "object",
         "type": "string"
        }
       ],
       "conversionMethod": "pd.DataFrame",
       "ref": "3b4e55cf-5458-44fc-8a75-67f4f9bce875",
       "rows": [
        [
         "0",
         "371299",
         "Marais Rue des Archives refait à neuf février 2023",
         "1870265",
         "Thomas",
         null,
         "Hôtel-de-Ville",
         "48.85751",
         "2.35511",
         "Entire home/apt",
         "185.0",
         "3",
         "601",
         "2024-09-06",
         "3.97",
         "3",
         "307",
         "54",
         "7510300547558"
        ],
        [
         "1",
         "371862",
         "loft in Paris (Belleville)",
         "1872631",
         "Veronique",
         null,
         "Entrepôt",
         "48.87151",
         "2.37219",
         "Entire home/apt",
         "250.0",
         "4",
         "50",
         "2023-08-14",
         "0.34",
         "1",
         "9",
         "0",
         "7511000320406"
        ],
        [
         "2",
         "372879",
         "Appartement complet au centre de Paris.",
         "1876396",
         "Samuel",
         null,
         "Gobelins",
         "48.83593",
         "2.35108",
         "Entire home/apt",
         "85.0",
         "30",
         "171",
         "2024-08-15",
         "2.01",
         "3",
         "151",
         "1",
         "Available with a mobility lease only (\"bail mobilité\")"
        ],
        [
         "3",
         "375434",
         "Luxurious Art & Design Flat, 180m2, Champs Elysées",
         "683140",
         "Oscar",
         null,
         "Élysée",
         "48.8668",
         "2.30972",
         "Entire home/apt",
         null,
         "3",
         "22",
         "2023-07-15",
         "0.15",
         "1",
         "0",
         "0",
         "7510806561916"
        ],
        [
         "4",
         "378897",
         "Little flat near Montmartre",
         "1902818",
         "Lorraine",
         null,
         "Opéra",
         "48.88285",
         "2.33462",
         "Entire home/apt",
         "110.0",
         "3",
         "28",
         "2024-07-30",
         "0.19",
         "1",
         "6",
         "2",
         "7511805895013"
        ]
       ],
       "shape": {
        "columns": 18,
        "rows": 5
       }
      },
      "text/html": [
       "<div>\n",
       "<style scoped>\n",
       "    .dataframe tbody tr th:only-of-type {\n",
       "        vertical-align: middle;\n",
       "    }\n",
       "\n",
       "    .dataframe tbody tr th {\n",
       "        vertical-align: top;\n",
       "    }\n",
       "\n",
       "    .dataframe thead th {\n",
       "        text-align: right;\n",
       "    }\n",
       "</style>\n",
       "<table border=\"1\" class=\"dataframe\">\n",
       "  <thead>\n",
       "    <tr style=\"text-align: right;\">\n",
       "      <th></th>\n",
       "      <th>id</th>\n",
       "      <th>name</th>\n",
       "      <th>host_id</th>\n",
       "      <th>host_name</th>\n",
       "      <th>neighbourhood_group</th>\n",
       "      <th>neighbourhood</th>\n",
       "      <th>latitude</th>\n",
       "      <th>longitude</th>\n",
       "      <th>room_type</th>\n",
       "      <th>price</th>\n",
       "      <th>minimum_nights</th>\n",
       "      <th>number_of_reviews</th>\n",
       "      <th>last_review</th>\n",
       "      <th>reviews_per_month</th>\n",
       "      <th>calculated_host_listings_count</th>\n",
       "      <th>availability_365</th>\n",
       "      <th>number_of_reviews_ltm</th>\n",
       "      <th>license</th>\n",
       "    </tr>\n",
       "  </thead>\n",
       "  <tbody>\n",
       "    <tr>\n",
       "      <th>0</th>\n",
       "      <td>371299</td>\n",
       "      <td>Marais Rue des Archives refait à neuf février ...</td>\n",
       "      <td>1870265</td>\n",
       "      <td>Thomas</td>\n",
       "      <td>NaN</td>\n",
       "      <td>Hôtel-de-Ville</td>\n",
       "      <td>48.85751</td>\n",
       "      <td>2.35511</td>\n",
       "      <td>Entire home/apt</td>\n",
       "      <td>185.0</td>\n",
       "      <td>3</td>\n",
       "      <td>601</td>\n",
       "      <td>2024-09-06</td>\n",
       "      <td>3.97</td>\n",
       "      <td>3</td>\n",
       "      <td>307</td>\n",
       "      <td>54</td>\n",
       "      <td>7510300547558</td>\n",
       "    </tr>\n",
       "    <tr>\n",
       "      <th>1</th>\n",
       "      <td>371862</td>\n",
       "      <td>loft in Paris (Belleville)</td>\n",
       "      <td>1872631</td>\n",
       "      <td>Veronique</td>\n",
       "      <td>NaN</td>\n",
       "      <td>Entrepôt</td>\n",
       "      <td>48.87151</td>\n",
       "      <td>2.37219</td>\n",
       "      <td>Entire home/apt</td>\n",
       "      <td>250.0</td>\n",
       "      <td>4</td>\n",
       "      <td>50</td>\n",
       "      <td>2023-08-14</td>\n",
       "      <td>0.34</td>\n",
       "      <td>1</td>\n",
       "      <td>9</td>\n",
       "      <td>0</td>\n",
       "      <td>7511000320406</td>\n",
       "    </tr>\n",
       "    <tr>\n",
       "      <th>2</th>\n",
       "      <td>372879</td>\n",
       "      <td>Appartement complet au centre de Paris.</td>\n",
       "      <td>1876396</td>\n",
       "      <td>Samuel</td>\n",
       "      <td>NaN</td>\n",
       "      <td>Gobelins</td>\n",
       "      <td>48.83593</td>\n",
       "      <td>2.35108</td>\n",
       "      <td>Entire home/apt</td>\n",
       "      <td>85.0</td>\n",
       "      <td>30</td>\n",
       "      <td>171</td>\n",
       "      <td>2024-08-15</td>\n",
       "      <td>2.01</td>\n",
       "      <td>3</td>\n",
       "      <td>151</td>\n",
       "      <td>1</td>\n",
       "      <td>Available with a mobility lease only (\"bail mo...</td>\n",
       "    </tr>\n",
       "    <tr>\n",
       "      <th>3</th>\n",
       "      <td>375434</td>\n",
       "      <td>Luxurious Art &amp; Design Flat, 180m2, Champs Ely...</td>\n",
       "      <td>683140</td>\n",
       "      <td>Oscar</td>\n",
       "      <td>NaN</td>\n",
       "      <td>Élysée</td>\n",
       "      <td>48.86680</td>\n",
       "      <td>2.30972</td>\n",
       "      <td>Entire home/apt</td>\n",
       "      <td>NaN</td>\n",
       "      <td>3</td>\n",
       "      <td>22</td>\n",
       "      <td>2023-07-15</td>\n",
       "      <td>0.15</td>\n",
       "      <td>1</td>\n",
       "      <td>0</td>\n",
       "      <td>0</td>\n",
       "      <td>7510806561916</td>\n",
       "    </tr>\n",
       "    <tr>\n",
       "      <th>4</th>\n",
       "      <td>378897</td>\n",
       "      <td>Little flat near Montmartre</td>\n",
       "      <td>1902818</td>\n",
       "      <td>Lorraine</td>\n",
       "      <td>NaN</td>\n",
       "      <td>Opéra</td>\n",
       "      <td>48.88285</td>\n",
       "      <td>2.33462</td>\n",
       "      <td>Entire home/apt</td>\n",
       "      <td>110.0</td>\n",
       "      <td>3</td>\n",
       "      <td>28</td>\n",
       "      <td>2024-07-30</td>\n",
       "      <td>0.19</td>\n",
       "      <td>1</td>\n",
       "      <td>6</td>\n",
       "      <td>2</td>\n",
       "      <td>7511805895013</td>\n",
       "    </tr>\n",
       "  </tbody>\n",
       "</table>\n",
       "</div>"
      ],
      "text/plain": [
       "       id                                               name  host_id  \\\n",
       "0  371299  Marais Rue des Archives refait à neuf février ...  1870265   \n",
       "1  371862                         loft in Paris (Belleville)  1872631   \n",
       "2  372879            Appartement complet au centre de Paris.  1876396   \n",
       "3  375434  Luxurious Art & Design Flat, 180m2, Champs Ely...   683140   \n",
       "4  378897                        Little flat near Montmartre  1902818   \n",
       "\n",
       "   host_name  neighbourhood_group   neighbourhood  latitude  longitude  \\\n",
       "0     Thomas                  NaN  Hôtel-de-Ville  48.85751    2.35511   \n",
       "1  Veronique                  NaN        Entrepôt  48.87151    2.37219   \n",
       "2     Samuel                  NaN        Gobelins  48.83593    2.35108   \n",
       "3      Oscar                  NaN          Élysée  48.86680    2.30972   \n",
       "4   Lorraine                  NaN           Opéra  48.88285    2.33462   \n",
       "\n",
       "         room_type  price  minimum_nights  number_of_reviews last_review  \\\n",
       "0  Entire home/apt  185.0               3                601  2024-09-06   \n",
       "1  Entire home/apt  250.0               4                 50  2023-08-14   \n",
       "2  Entire home/apt   85.0              30                171  2024-08-15   \n",
       "3  Entire home/apt    NaN               3                 22  2023-07-15   \n",
       "4  Entire home/apt  110.0               3                 28  2024-07-30   \n",
       "\n",
       "   reviews_per_month  calculated_host_listings_count  availability_365  \\\n",
       "0               3.97                               3               307   \n",
       "1               0.34                               1                 9   \n",
       "2               2.01                               3               151   \n",
       "3               0.15                               1                 0   \n",
       "4               0.19                               1                 6   \n",
       "\n",
       "   number_of_reviews_ltm                                            license  \n",
       "0                     54                                      7510300547558  \n",
       "1                      0                                      7511000320406  \n",
       "2                      1  Available with a mobility lease only (\"bail mo...  \n",
       "3                      0                                      7510806561916  \n",
       "4                      2                                      7511805895013  "
      ]
     },
     "execution_count": 53,
     "metadata": {},
     "output_type": "execute_result"
    }
   ],
   "source": [
    "# data\n",
    "with open('./data/listings.csv', 'r') as file:\n",
    "    df_listings = pd.read_csv(file)\n",
    "    \n",
    "df_listings.head()"
   ]
  },
  {
   "cell_type": "markdown",
   "metadata": {},
   "source": [
    "## 1. data cleaning & standardization\n",
    "- after this step we will have two dataframes one with only numeric columns and the other with only both\n",
    "- we standardize the data with z-score normalization"
   ]
  },
  {
   "cell_type": "code",
   "execution_count": 54,
   "metadata": {},
   "outputs": [
    {
     "name": "stdout",
     "output_type": "stream",
     "text": [
      "<class 'pandas.core.frame.DataFrame'>\n",
      "Index: 64230 entries, 0 to 95460\n",
      "Data columns (total 13 columns):\n",
      " #   Column                          Non-Null Count  Dtype  \n",
      "---  ------                          --------------  -----  \n",
      " 0   name                            64230 non-null  object \n",
      " 1   host_name                       64230 non-null  object \n",
      " 2   neighbourhood                   64230 non-null  object \n",
      " 3   latitude                        64230 non-null  float64\n",
      " 4   longitude                       64230 non-null  float64\n",
      " 5   room_type                       64230 non-null  object \n",
      " 6   price                           64230 non-null  float64\n",
      " 7   minimum_nights                  64230 non-null  int64  \n",
      " 8   number_of_reviews               64230 non-null  int64  \n",
      " 9   reviews_per_month               46054 non-null  float64\n",
      " 10  calculated_host_listings_count  64230 non-null  int64  \n",
      " 11  availability_365                64230 non-null  int64  \n",
      " 12  number_of_reviews_ltm           64230 non-null  int64  \n",
      "dtypes: float64(4), int64(5), object(4)\n",
      "memory usage: 6.9+ MB\n"
     ]
    }
   ],
   "source": [
    "## drop na prices\n",
    "df_listings_clean = df_listings.dropna(subset=['price'])\n",
    "\n",
    "## drop irrelevant columns\n",
    "drop_cols_listing = ['id', 'host_id', 'neighbourhood_group', 'license', 'last_review']\n",
    "df_listings_clean = df_listings_clean.drop(columns=drop_cols_listing)\n",
    "\n",
    "## non numeric columns\n",
    "def drop_non_numeric(df):\n",
    "    return df.select_dtypes(include=['number'])\n",
    "\n",
    "df_listings_num = drop_non_numeric(df_listings_clean)\n",
    "\n",
    "df_listings_clean.info()"
   ]
  },
  {
   "cell_type": "code",
   "execution_count": 55,
   "metadata": {},
   "outputs": [
    {
     "data": {
      "text/plain": [
       "name                                  0\n",
       "host_name                             0\n",
       "neighbourhood                         0\n",
       "latitude                              0\n",
       "longitude                             0\n",
       "room_type                             0\n",
       "price                                 0\n",
       "minimum_nights                        0\n",
       "number_of_reviews                     0\n",
       "reviews_per_month                 18176\n",
       "calculated_host_listings_count        0\n",
       "availability_365                      0\n",
       "number_of_reviews_ltm                 0\n",
       "dtype: int64"
      ]
     },
     "execution_count": 55,
     "metadata": {},
     "output_type": "execute_result"
    }
   ],
   "source": [
    "df_listings_clean.isna().sum()"
   ]
  },
  {
   "cell_type": "code",
   "execution_count": 56,
   "metadata": {},
   "outputs": [],
   "source": [
    "# we make the assumption that if revievews_per_month is nan, it means that there are no reviews and we can replace it with 0\n",
    "df_listings_clean['reviews_per_month'] = df_listings_clean['reviews_per_month'].fillna(0)"
   ]
  },
  {
   "cell_type": "code",
   "execution_count": 59,
   "metadata": {},
   "outputs": [
    {
     "data": {
      "application/vnd.microsoft.datawrangler.viewer.v0+json": {
       "columns": [
        {
         "name": "index",
         "rawType": "int64",
         "type": "integer"
        },
        {
         "name": "latitude",
         "rawType": "float64",
         "type": "float"
        },
        {
         "name": "longitude",
         "rawType": "float64",
         "type": "float"
        },
        {
         "name": "price",
         "rawType": "float64",
         "type": "float"
        },
        {
         "name": "minimum_nights",
         "rawType": "float64",
         "type": "float"
        },
        {
         "name": "number_of_reviews",
         "rawType": "float64",
         "type": "float"
        },
        {
         "name": "reviews_per_month",
         "rawType": "float64",
         "type": "float"
        },
        {
         "name": "calculated_host_listings_count",
         "rawType": "float64",
         "type": "float"
        },
        {
         "name": "availability_365",
         "rawType": "float64",
         "type": "float"
        },
        {
         "name": "number_of_reviews_ltm",
         "rawType": "float64",
         "type": "float"
        }
       ],
       "conversionMethod": "pd.DataFrame",
       "ref": "285d7e4f-2563-408f-b65b-6e4afdfe163b",
       "rows": [
        [
         "0",
         "-0.3461870131160221",
         "0.3993189244044922",
         "185.0",
         "-0.1888248370457433",
         "9.415227638456484",
         "1.8363773719780616",
         "-0.2608150376035427",
         "1.0260434072424147",
         "3.504188004542783"
        ],
        [
         "1",
         "0.43126456801644447",
         "0.8932915321801508",
         "250.0",
         "-0.1640720557074517",
         "0.40446076814563425",
         "-0.7079360781541634",
         "-0.2794089002688895",
         "-1.4499599632722828",
         "-0.5496478342991015"
        ],
        [
         "2",
         "-1.5445730931756847",
         "0.282766839548767",
         "85.0",
         "0.47950025908813015",
         "2.383231714257454",
         "0.46258829146589575",
         "-0.2608150376035427",
         "-0.27011943101360136",
         "-0.474576800246474"
        ],
        [
         "4",
         "1.0610003487334465",
         "-0.19327467824908476",
         "110.0",
         "-0.1888248370457433",
         "0.04468423248893976",
         "-0.813072997581115",
         "-0.2794089002688895",
         "-1.474886171700283",
         "-0.3995057661938465"
        ],
        [
         "5",
         "0.32519795944755225",
         "0.34031985415495203",
         "300.0",
         "0.0587029763371728",
         "-0.3150923031677547",
         "-0.9182099170080663",
         "-0.2794089002688895",
         "1.4913326312317539",
         "-0.324434732141219"
        ]
       ],
       "shape": {
        "columns": 9,
        "rows": 5
       }
      },
      "text/html": [
       "<div>\n",
       "<style scoped>\n",
       "    .dataframe tbody tr th:only-of-type {\n",
       "        vertical-align: middle;\n",
       "    }\n",
       "\n",
       "    .dataframe tbody tr th {\n",
       "        vertical-align: top;\n",
       "    }\n",
       "\n",
       "    .dataframe thead th {\n",
       "        text-align: right;\n",
       "    }\n",
       "</style>\n",
       "<table border=\"1\" class=\"dataframe\">\n",
       "  <thead>\n",
       "    <tr style=\"text-align: right;\">\n",
       "      <th></th>\n",
       "      <th>latitude</th>\n",
       "      <th>longitude</th>\n",
       "      <th>price</th>\n",
       "      <th>minimum_nights</th>\n",
       "      <th>number_of_reviews</th>\n",
       "      <th>reviews_per_month</th>\n",
       "      <th>calculated_host_listings_count</th>\n",
       "      <th>availability_365</th>\n",
       "      <th>number_of_reviews_ltm</th>\n",
       "    </tr>\n",
       "  </thead>\n",
       "  <tbody>\n",
       "    <tr>\n",
       "      <th>0</th>\n",
       "      <td>-0.346187</td>\n",
       "      <td>0.399319</td>\n",
       "      <td>185.0</td>\n",
       "      <td>-0.188825</td>\n",
       "      <td>9.415228</td>\n",
       "      <td>1.836377</td>\n",
       "      <td>-0.260815</td>\n",
       "      <td>1.026043</td>\n",
       "      <td>3.504188</td>\n",
       "    </tr>\n",
       "    <tr>\n",
       "      <th>1</th>\n",
       "      <td>0.431265</td>\n",
       "      <td>0.893292</td>\n",
       "      <td>250.0</td>\n",
       "      <td>-0.164072</td>\n",
       "      <td>0.404461</td>\n",
       "      <td>-0.707936</td>\n",
       "      <td>-0.279409</td>\n",
       "      <td>-1.449960</td>\n",
       "      <td>-0.549648</td>\n",
       "    </tr>\n",
       "    <tr>\n",
       "      <th>2</th>\n",
       "      <td>-1.544573</td>\n",
       "      <td>0.282767</td>\n",
       "      <td>85.0</td>\n",
       "      <td>0.479500</td>\n",
       "      <td>2.383232</td>\n",
       "      <td>0.462588</td>\n",
       "      <td>-0.260815</td>\n",
       "      <td>-0.270119</td>\n",
       "      <td>-0.474577</td>\n",
       "    </tr>\n",
       "    <tr>\n",
       "      <th>4</th>\n",
       "      <td>1.061000</td>\n",
       "      <td>-0.193275</td>\n",
       "      <td>110.0</td>\n",
       "      <td>-0.188825</td>\n",
       "      <td>0.044684</td>\n",
       "      <td>-0.813073</td>\n",
       "      <td>-0.279409</td>\n",
       "      <td>-1.474886</td>\n",
       "      <td>-0.399506</td>\n",
       "    </tr>\n",
       "    <tr>\n",
       "      <th>5</th>\n",
       "      <td>0.325198</td>\n",
       "      <td>0.340320</td>\n",
       "      <td>300.0</td>\n",
       "      <td>0.058703</td>\n",
       "      <td>-0.315092</td>\n",
       "      <td>-0.918210</td>\n",
       "      <td>-0.279409</td>\n",
       "      <td>1.491333</td>\n",
       "      <td>-0.324435</td>\n",
       "    </tr>\n",
       "  </tbody>\n",
       "</table>\n",
       "</div>"
      ],
      "text/plain": [
       "   latitude  longitude  price  minimum_nights  number_of_reviews  \\\n",
       "0 -0.346187   0.399319  185.0       -0.188825           9.415228   \n",
       "1  0.431265   0.893292  250.0       -0.164072           0.404461   \n",
       "2 -1.544573   0.282767   85.0        0.479500           2.383232   \n",
       "4  1.061000  -0.193275  110.0       -0.188825           0.044684   \n",
       "5  0.325198   0.340320  300.0        0.058703          -0.315092   \n",
       "\n",
       "   reviews_per_month  calculated_host_listings_count  availability_365  \\\n",
       "0           1.836377                       -0.260815          1.026043   \n",
       "1          -0.707936                       -0.279409         -1.449960   \n",
       "2           0.462588                       -0.260815         -0.270119   \n",
       "4          -0.813073                       -0.279409         -1.474886   \n",
       "5          -0.918210                       -0.279409          1.491333   \n",
       "\n",
       "   number_of_reviews_ltm  \n",
       "0               3.504188  \n",
       "1              -0.549648  \n",
       "2              -0.474577  \n",
       "4              -0.399506  \n",
       "5              -0.324435  "
      ]
     },
     "execution_count": 59,
     "metadata": {},
     "output_type": "execute_result"
    }
   ],
   "source": [
    "# standardize the data\n",
    "def z_score_normalize(col):\n",
    "    col_mean = np.mean(col)\n",
    "    col_variance = np.std(col)\n",
    "    return((col-col_mean)/col_variance)\n",
    "\n",
    "df_listings_norm = pd.DataFrame()\n",
    "for col in df_listings_num.columns:\n",
    "    if col == 'price':\n",
    "        df_listings_norm[col] = df_listings_num[col]\n",
    "    else:\n",
    "        df_listings_norm[col] = z_score_normalize(df_listings_num[col])\n",
    "    \n",
    "df_listings_norm.head()"
   ]
  },
  {
   "cell_type": "markdown",
   "metadata": {},
   "source": [
    "## 2. Correlation analysis"
   ]
  },
  {
   "cell_type": "code",
   "execution_count": null,
   "metadata": {},
   "outputs": [],
   "source": [
    "## Convert column to list\n",
    "def calc_mean(col):\n",
    "    ## Calculate mean\n",
    "    sum_col = sum(col)\n",
    "    count_col = len(col)\n",
    "    mean_col = round(col / count_col,6)\n",
    "    \n",
    "\n",
    "for col in df_listings_num.columns:\n",
    "    col_list = df_listings_num.loc[:, col].dropna().tolist()\n",
    "\n",
    "        \n",
    "## Calculate variance\n",
    "    squared_dist = sum([(mean_col-x)**2 for x in col_list])\n",
    "    var_col = squared_dist / count_col\n",
    "\n",
    "## Calculate standard deviation  \n",
    "    sd_col = var_col ** (1/2)\n",
    "\n",
    "## print results\n",
    "    print(f\"Mean of {col} is {mean_col}\")\n",
    "    print(f\"Variance of {col} is {var_col}\")\n",
    "    print(f\"Standard Deviation of {col} is {sd_col}\")\n",
    "    \n",
    "\n",
    "# Loop through each pair of columns\n",
    "for col1 in numeric_df.columns:\n",
    "    for col2 in numeric_df.columns:\n",
    "        # Convert first column to list\n",
    "        x_list = numeric_df[col1].to_list()\n",
    "        # Calculate mean of first column\n",
    "        x_mean = np.mean(x_list)\n",
    "        # Convert second column to list\n",
    "        y_list = numeric_df[col2].to_list()\n",
    "        # Calculate mean of second column\n",
    "        y_mean = np.mean(y_list)\n",
    "        # Calculate covariance\n",
    "        sum_cross_variations = sum([(x - x_mean) * (y_list[i] - y_mean) for i, x in enumerate(x_list)])\n",
    "        cov_xy = sum_cross_variations / len(x_list)\n",
    "        \n",
    "        # Calculate std for correlation\n",
    "        std_x = np.std(x_list)\n",
    "        std_y = np.std(y_list)\n",
    "        \n",
    "        # Calculate correlation\n",
    "        corr_xy = cov_xy / (std_x * std_y)\n",
    "        \n",
    "        print(f\"Correlation between {col1} and {col2} is {corr_xy}\")"
   ]
  },
  {
   "cell_type": "markdown",
   "metadata": {},
   "source": []
  }
 ],
 "metadata": {
  "kernelspec": {
   "display_name": "base",
   "language": "python",
   "name": "python3"
  },
  "language_info": {
   "codemirror_mode": {
    "name": "ipython",
    "version": 3
   },
   "file_extension": ".py",
   "mimetype": "text/x-python",
   "name": "python",
   "nbconvert_exporter": "python",
   "pygments_lexer": "ipython3",
   "version": "3.12.2"
  }
 },
 "nbformat": 4,
 "nbformat_minor": 2
}
