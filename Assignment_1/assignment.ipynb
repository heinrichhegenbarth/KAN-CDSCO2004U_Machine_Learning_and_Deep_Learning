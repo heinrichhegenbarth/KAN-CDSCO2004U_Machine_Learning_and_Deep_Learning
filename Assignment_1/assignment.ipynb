{
 "cells": [
  {
   "cell_type": "markdown",
   "metadata": {},
   "source": [
    "## Links\n",
    "- https://cbscanvas.instructure.com/courses/41482/files/1504373/download?download_frd=1\n",
    "- https://insideairbnb.com/get-the-data/\n",
    "\n",
    "## Process \n",
    "- Cut out all of the qualitative data"
   ]
  }
 ],
 "metadata": {
  "language_info": {
   "name": "python"
  }
 },
 "nbformat": 4,
 "nbformat_minor": 2
}
