{
 "cells": [
  {
   "cell_type": "markdown",
   "metadata": {},
   "source": [
    "# Assignment 2"
   ]
  },
  {
   "cell_type": "code",
   "execution_count": 1,
   "metadata": {},
   "outputs": [],
   "source": [
    "# imports\n",
    "import numpy as np\n",
    "import pandas as pd\n",
    "import matplotlib.pyplot as plt\n",
    "import sklearn\n",
    "from prettytable import PrettyTable\n",
    "import locale"
   ]
  },
  {
   "cell_type": "code",
   "execution_count": 2,
   "metadata": {},
   "outputs": [
    {
     "data": {
      "text/plain": [
       "'en_US.UTF-8'"
      ]
     },
     "execution_count": 2,
     "metadata": {},
     "output_type": "execute_result"
    }
   ],
   "source": [
    "# Setting Locale for Daniel\n",
    "locale.setlocale(locale.LC_TIME, 'en_US.UTF-8')"
   ]
  },
  {
   "cell_type": "code",
   "execution_count": 3,
   "metadata": {},
   "outputs": [
    {
     "data": {
      "application/vnd.microsoft.datawrangler.viewer.v0+json": {
       "columns": [
        {
         "name": "index",
         "rawType": "int64",
         "type": "integer"
        },
        {
         "name": "Date",
         "rawType": "object",
         "type": "string"
        },
        {
         "name": "Close/Last",
         "rawType": "float64",
         "type": "float"
        },
        {
         "name": "Open",
         "rawType": "float64",
         "type": "float"
        },
        {
         "name": "High",
         "rawType": "float64",
         "type": "float"
        },
        {
         "name": "Low",
         "rawType": "float64",
         "type": "float"
        }
       ],
       "conversionMethod": "pd.DataFrame",
       "ref": "c0eb7f17-4b19-4125-a43c-bdaf1695d22d",
       "rows": [
        [
         "0",
         "02/28/2025",
         "5954.5",
         "5856.74",
         "5959.4",
         "5837.66"
        ],
        [
         "1",
         "02/27/2025",
         "5861.57",
         "5981.88",
         "5993.69",
         "5858.78"
        ],
        [
         "2",
         "02/26/2025",
         "5956.06",
         "5970.87",
         "6009.82",
         "5932.69"
        ],
        [
         "3",
         "02/25/2025",
         "5955.25",
         "5982.73",
         "5992.65",
         "5908.49"
        ],
        [
         "4",
         "02/24/2025",
         "5983.25",
         "6026.69",
         "6043.65",
         "5977.83"
        ]
       ],
       "shape": {
        "columns": 5,
        "rows": 5
       }
      },
      "text/html": [
       "<div>\n",
       "<style scoped>\n",
       "    .dataframe tbody tr th:only-of-type {\n",
       "        vertical-align: middle;\n",
       "    }\n",
       "\n",
       "    .dataframe tbody tr th {\n",
       "        vertical-align: top;\n",
       "    }\n",
       "\n",
       "    .dataframe thead th {\n",
       "        text-align: right;\n",
       "    }\n",
       "</style>\n",
       "<table border=\"1\" class=\"dataframe\">\n",
       "  <thead>\n",
       "    <tr style=\"text-align: right;\">\n",
       "      <th></th>\n",
       "      <th>Date</th>\n",
       "      <th>Close/Last</th>\n",
       "      <th>Open</th>\n",
       "      <th>High</th>\n",
       "      <th>Low</th>\n",
       "    </tr>\n",
       "  </thead>\n",
       "  <tbody>\n",
       "    <tr>\n",
       "      <th>0</th>\n",
       "      <td>02/28/2025</td>\n",
       "      <td>5954.50</td>\n",
       "      <td>5856.74</td>\n",
       "      <td>5959.40</td>\n",
       "      <td>5837.66</td>\n",
       "    </tr>\n",
       "    <tr>\n",
       "      <th>1</th>\n",
       "      <td>02/27/2025</td>\n",
       "      <td>5861.57</td>\n",
       "      <td>5981.88</td>\n",
       "      <td>5993.69</td>\n",
       "      <td>5858.78</td>\n",
       "    </tr>\n",
       "    <tr>\n",
       "      <th>2</th>\n",
       "      <td>02/26/2025</td>\n",
       "      <td>5956.06</td>\n",
       "      <td>5970.87</td>\n",
       "      <td>6009.82</td>\n",
       "      <td>5932.69</td>\n",
       "    </tr>\n",
       "    <tr>\n",
       "      <th>3</th>\n",
       "      <td>02/25/2025</td>\n",
       "      <td>5955.25</td>\n",
       "      <td>5982.73</td>\n",
       "      <td>5992.65</td>\n",
       "      <td>5908.49</td>\n",
       "    </tr>\n",
       "    <tr>\n",
       "      <th>4</th>\n",
       "      <td>02/24/2025</td>\n",
       "      <td>5983.25</td>\n",
       "      <td>6026.69</td>\n",
       "      <td>6043.65</td>\n",
       "      <td>5977.83</td>\n",
       "    </tr>\n",
       "  </tbody>\n",
       "</table>\n",
       "</div>"
      ],
      "text/plain": [
       "         Date  Close/Last     Open     High      Low\n",
       "0  02/28/2025     5954.50  5856.74  5959.40  5837.66\n",
       "1  02/27/2025     5861.57  5981.88  5993.69  5858.78\n",
       "2  02/26/2025     5956.06  5970.87  6009.82  5932.69\n",
       "3  02/25/2025     5955.25  5982.73  5992.65  5908.49\n",
       "4  02/24/2025     5983.25  6026.69  6043.65  5977.83"
      ]
     },
     "execution_count": 3,
     "metadata": {},
     "output_type": "execute_result"
    }
   ],
   "source": [
    "with open(\"data/spx.csv\", \"r\") as file:\n",
    "    sp_raw = pd.read_csv(file, delimiter=\",\")\n",
    "    \n",
    "sp_raw.head()\n"
   ]
  },
  {
   "cell_type": "code",
   "execution_count": 4,
   "metadata": {},
   "outputs": [
    {
     "data": {
      "application/vnd.microsoft.datawrangler.viewer.v0+json": {
       "columns": [
        {
         "name": "index",
         "rawType": "int64",
         "type": "integer"
        },
        {
         "name": "Date",
         "rawType": "object",
         "type": "string"
        },
        {
         "name": "Price",
         "rawType": "float64",
         "type": "float"
        }
       ],
       "conversionMethod": "pd.DataFrame",
       "ref": "4f571101-72e3-4b2a-8ee4-a1ec49b62fc8",
       "rows": [
        [
         "0",
         "Jun 7, 2022",
         "1814.05"
        ],
        [
         "1",
         "Jun 8, 2022",
         "1793.57"
        ],
        [
         "2",
         "Jun 9, 2022",
         "1789.83"
        ],
        [
         "3",
         "Jun 10, 2022",
         "1665.04"
        ],
        [
         "4",
         "Jun 11, 2022",
         "1529.66"
        ],
        [
         "5",
         "Jun 12, 2022",
         "1445.22"
        ],
        [
         "6",
         "Jun 13, 2022",
         "1204.58"
        ],
        [
         "7",
         "Jun 14, 2022",
         "1211.66"
        ],
        [
         "8",
         "Jun 15, 2022",
         "1233.21"
        ],
        [
         "9",
         "Jun 16, 2022",
         "1067.73"
        ],
        [
         "10",
         "Jun 17, 2022",
         "1086.52"
        ],
        [
         "11",
         "Jun 18, 2022",
         "993.64"
        ],
        [
         "12",
         "Jun 19, 2022",
         "1127.66"
        ],
        [
         "13",
         "Jun 20, 2022",
         "1127.64"
        ],
        [
         "14",
         "Jun 21, 2022",
         "1124.82"
        ],
        [
         "15",
         "Jun 22, 2022",
         "1051.42"
        ],
        [
         "16",
         "Jun 23, 2022",
         "1143.39"
        ],
        [
         "17",
         "Jun 24, 2022",
         "1226.84"
        ],
        [
         "18",
         "Jun 25, 2022",
         "1243.45"
        ],
        [
         "19",
         "Jun 26, 2022",
         "1199.83"
        ],
        [
         "20",
         "Jun 27, 2022",
         "1193.68"
        ],
        [
         "21",
         "Jun 28, 2022",
         "1144.58"
        ],
        [
         "22",
         "Jun 29, 2022",
         "1098.94"
        ],
        [
         "23",
         "Jun 30, 2022",
         "1067.3"
        ],
        [
         "24",
         "Jul 1, 2022",
         "1059.77"
        ],
        [
         "25",
         "Jul 2, 2022",
         "1066.51"
        ],
        [
         "26",
         "Jul 3, 2022",
         "1073.77"
        ],
        [
         "27",
         "Jul 4, 2022",
         "1151.06"
        ],
        [
         "28",
         "Jul 5, 2022",
         "1134.54"
        ],
        [
         "29",
         "Jul 6, 2022",
         "1186.97"
        ],
        [
         "30",
         "Jul 7, 2022",
         "1237.59"
        ],
        [
         "31",
         "Jul 8, 2022",
         "1222.51"
        ],
        [
         "32",
         "Jul 9, 2022",
         "1216.98"
        ],
        [
         "33",
         "Jul 10, 2022",
         "1168.4"
        ],
        [
         "34",
         "Jul 11, 2022",
         "1097.24"
        ],
        [
         "35",
         "Jul 12, 2022",
         "1038.19"
        ],
        [
         "36",
         "Jul 13, 2022",
         "1113.59"
        ],
        [
         "37",
         "Jul 14, 2022",
         "1191.53"
        ],
        [
         "38",
         "Jul 15, 2022",
         "1233.13"
        ],
        [
         "39",
         "Jul 16, 2022",
         "1352.63"
        ],
        [
         "40",
         "Jul 17, 2022",
         "1338.64"
        ],
        [
         "41",
         "Jul 18, 2022",
         "1578.72"
        ],
        [
         "42",
         "Jul 19, 2022",
         "1542.98"
        ],
        [
         "43",
         "Jul 20, 2022",
         "1520.2"
        ],
        [
         "44",
         "Jul 21, 2022",
         "1576.75"
        ],
        [
         "45",
         "Jul 22, 2022",
         "1537.41"
        ],
        [
         "46",
         "Jul 23, 2022",
         "1549.3"
        ],
        [
         "47",
         "Jul 24, 2022",
         "1599.48"
        ],
        [
         "48",
         "Jul 25, 2022",
         "1445.38"
        ],
        [
         "49",
         "Jul 26, 2022",
         "1441.81"
        ]
       ],
       "shape": {
        "columns": 2,
        "rows": 1000
       }
      },
      "text/html": [
       "<div>\n",
       "<style scoped>\n",
       "    .dataframe tbody tr th:only-of-type {\n",
       "        vertical-align: middle;\n",
       "    }\n",
       "\n",
       "    .dataframe tbody tr th {\n",
       "        vertical-align: top;\n",
       "    }\n",
       "\n",
       "    .dataframe thead th {\n",
       "        text-align: right;\n",
       "    }\n",
       "</style>\n",
       "<table border=\"1\" class=\"dataframe\">\n",
       "  <thead>\n",
       "    <tr style=\"text-align: right;\">\n",
       "      <th></th>\n",
       "      <th>Date</th>\n",
       "      <th>Price</th>\n",
       "    </tr>\n",
       "  </thead>\n",
       "  <tbody>\n",
       "    <tr>\n",
       "      <th>0</th>\n",
       "      <td>Jun 7, 2022</td>\n",
       "      <td>1814.05</td>\n",
       "    </tr>\n",
       "    <tr>\n",
       "      <th>1</th>\n",
       "      <td>Jun 8, 2022</td>\n",
       "      <td>1793.57</td>\n",
       "    </tr>\n",
       "    <tr>\n",
       "      <th>2</th>\n",
       "      <td>Jun 9, 2022</td>\n",
       "      <td>1789.83</td>\n",
       "    </tr>\n",
       "    <tr>\n",
       "      <th>3</th>\n",
       "      <td>Jun 10, 2022</td>\n",
       "      <td>1665.04</td>\n",
       "    </tr>\n",
       "    <tr>\n",
       "      <th>4</th>\n",
       "      <td>Jun 11, 2022</td>\n",
       "      <td>1529.66</td>\n",
       "    </tr>\n",
       "    <tr>\n",
       "      <th>...</th>\n",
       "      <td>...</td>\n",
       "      <td>...</td>\n",
       "    </tr>\n",
       "    <tr>\n",
       "      <th>995</th>\n",
       "      <td>Feb 26, 2025</td>\n",
       "      <td>2331.45</td>\n",
       "    </tr>\n",
       "    <tr>\n",
       "      <th>996</th>\n",
       "      <td>Feb 27, 2025</td>\n",
       "      <td>2305.48</td>\n",
       "    </tr>\n",
       "    <tr>\n",
       "      <th>997</th>\n",
       "      <td>Feb 28, 2025</td>\n",
       "      <td>2237.91</td>\n",
       "    </tr>\n",
       "    <tr>\n",
       "      <th>998</th>\n",
       "      <td>Mar 1, 2025</td>\n",
       "      <td>2216.64</td>\n",
       "    </tr>\n",
       "    <tr>\n",
       "      <th>999</th>\n",
       "      <td>Mar 2, 2025</td>\n",
       "      <td>2519.69</td>\n",
       "    </tr>\n",
       "  </tbody>\n",
       "</table>\n",
       "<p>1000 rows × 2 columns</p>\n",
       "</div>"
      ],
      "text/plain": [
       "             Date    Price\n",
       "0     Jun 7, 2022  1814.05\n",
       "1     Jun 8, 2022  1793.57\n",
       "2     Jun 9, 2022  1789.83\n",
       "3    Jun 10, 2022  1665.04\n",
       "4    Jun 11, 2022  1529.66\n",
       "..            ...      ...\n",
       "995  Feb 26, 2025  2331.45\n",
       "996  Feb 27, 2025  2305.48\n",
       "997  Feb 28, 2025  2237.91\n",
       "998   Mar 1, 2025  2216.64\n",
       "999   Mar 2, 2025  2519.69\n",
       "\n",
       "[1000 rows x 2 columns]"
      ]
     },
     "execution_count": 4,
     "metadata": {},
     "output_type": "execute_result"
    }
   ],
   "source": [
    "with open(\"data/ethereum.xlsx\", \"rb\") as file:\n",
    "    eth_raw = pd.read_excel(file, header=None, sheet_name=\"Data\", usecols=\"B:C\", names=[\"Date\", \"Price\"], skiprows=5)\n",
    "\n",
    "eth_raw"
   ]
  },
  {
   "cell_type": "code",
   "execution_count": 5,
   "metadata": {},
   "outputs": [],
   "source": [
    "# Data Cleaning\n",
    "\n",
    "## Convert month names to German readable format\n",
    "sp_clean = sp_raw.copy()\n",
    "eth_clean = eth_raw.copy()\n",
    "\n",
    "## Date Format\n",
    "eth_clean[\"Date\"] = pd.to_datetime(eth_raw[\"Date\"])\n",
    "sp_clean[\"Date\"] = pd.to_datetime(sp_raw[\"Date\"])\n",
    "\n",
    "## restrict data to Jun 2022 and Feb 28, 2025\n",
    "sp_clean = sp_clean[(sp_clean[\"Date\"] >= \"2022-06-07\") & (sp_clean[\"Date\"] <= \"2025-02-28\")]\n",
    "eth_clean = eth_clean[(eth_clean[\"Date\"] >= \"2022-06-07\") & (eth_clean[\"Date\"] <= \"2025-02-28\")]"
   ]
  },
  {
   "cell_type": "code",
   "execution_count": null,
   "metadata": {},
   "outputs": [
    {
     "name": "stdout",
     "output_type": "stream",
     "text": [
      "Rolling [window=30,center=False,axis=0,method=single]\n"
     ]
    },
    {
     "data": {
      "image/png": "[encoded data removed]",
      "text/plain": [
       "<Figure size 640x480 with 1 Axes>"
      ]
     },
     "metadata": {},
     "output_type": "display_data"
    }
   ],
   "source": [
    "def summarize_data(data, len_period):\n",
    "    '''\n",
    "        Returnes DF with rolling time horizons\n",
    "        data: DataFrame\n",
    "        len_period: int\n",
    "    '''\n",
    "    def calculate_ROI(start, end): \n",
    "        '''ROI = Net Profit / Cost of the investment * 100'''\n",
    "        return (end-start)/start * 100\n",
    "    \n",
    "    def calculate_Volatility(data):\n",
    "        return data.std()/data.mean() * 100\n",
    "    \n",
    "    rolling_period = data.rolling(len_period)\n",
    "    print(rolling_period)\n",
    "    ROI = rolling_period.apply(lambda x: calculate_ROI(x.iloc[0], x.iloc[-1]))\n",
    "    volatility = rolling_period.apply(lambda x: calculate_Volatility(x))\n",
    "    \n",
    "    return (ROI, volatility)\n",
    "\n",
    "\n",
    "def plot_summary_data(data1, data2):\n",
    "    '''\n",
    "        Plots the data\n",
    "        data: DataFrame\n",
    "        title: str\n",
    "        xlabel: str\n",
    "        ylabel: str\n",
    "    '''\n",
    "    \n",
    "    data1.plot()\n",
    "    \n",
    "    plt.title(\"volatility and ROI over 30 days rolling period\")\n",
    "    plt.xlabel(\"Date\")\n",
    "    plt.ylabel(\"Percentage\")\n",
    "    \n",
    "    plt.plot(data2, label=\"Volatility\", color=\"red\")\n",
    "    plt.plot(data1, label=\"ROI\", color=\"blue\")\n",
    " \n",
    "    plt.legend  \n",
    "    plt.show()\n",
    "    \n",
    "def table_summary_data(data1, data2, period):\n",
    "    '''\n",
    "        Returns a table with the data\n",
    "        data1: DataFrame\n",
    "        period: int\n",
    "        data2: DataFrame\n",
    "    '''\n",
    "    # Create a PrettyTable object\n",
    "    table = PrettyTable()\n",
    "    table.field_names = [\"Period\", \"Metric\", \"Value\"]\n",
    "    for i in range(period - 1, len(data1)):\n",
    "        table.add_row([i, data1[i], data2[i]])\n",
    "\n",
    "\n",
    "    # Print the table\n",
    "    print(table)\n",
    "\n",
    "ROI_30, volatility_30 = summarize_data(sp_clean[\"Close/Last\"], 30)\n",
    "plot_summary_data(ROI_30, volatility_30)"
   ]
  },
  {
   "cell_type": "code",
   "execution_count": null,
   "metadata": {},
   "outputs": [],
   "source": [
    "\n"
   ]
  }
 ],
 "metadata": {
  "kernelspec": {
   "display_name": "base",
   "language": "python",
   "name": "python3"
  },
  "language_info": {
   "codemirror_mode": {
    "name": "ipython",
    "version": 3
   },
   "file_extension": ".py",
   "mimetype": "text/x-python",
   "name": "python",
   "nbconvert_exporter": "python",
   "pygments_lexer": "ipython3",
   "version": "3.12.2"
  }
 },
 "nbformat": 4,
 "nbformat_minor": 2
}
