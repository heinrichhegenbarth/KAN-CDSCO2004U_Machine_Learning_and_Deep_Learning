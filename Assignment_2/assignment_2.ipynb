{
 "cells": [
  {
   "cell_type": "markdown",
   "metadata": {},
   "source": [
    "# Assignment 2"
   ]
  },
  {
   "cell_type": "code",
   "execution_count": 34,
   "metadata": {},
   "outputs": [],
   "source": [
    "# imports\n",
    "import numpy as np\n",
    "import pandas as pd\n",
    "import matplotlib.pyplot as plt\n",
    "import sklearn\n",
    "from prettytable import PrettyTable\n",
    "import locale"
   ]
  },
  {
   "cell_type": "code",
   "execution_count": null,
   "metadata": {},
   "outputs": [
    {
     "data": {
      "application/vnd.microsoft.datawrangler.viewer.v0+json": {
       "columns": [
        {
         "name": "index",
         "rawType": "int64",
         "type": "integer"
        },
        {
         "name": "Date",
         "rawType": "object",
         "type": "string"
        },
        {
         "name": "Close/Last",
         "rawType": "float64",
         "type": "float"
        },
        {
         "name": "Open",
         "rawType": "float64",
         "type": "float"
        },
        {
         "name": "High",
         "rawType": "float64",
         "type": "float"
        },
        {
         "name": "Low",
         "rawType": "float64",
         "type": "float"
        }
       ],
       "conversionMethod": "pd.DataFrame",
       "ref": "547cae6c-f09b-486a-bfa4-78253c7e959c",
       "rows": [
        [
         "0",
         "02/28/2025",
         "5954.5",
         "5856.74",
         "5959.4",
         "5837.66"
        ],
        [
         "1",
         "02/27/2025",
         "5861.57",
         "5981.88",
         "5993.69",
         "5858.78"
        ],
        [
         "2",
         "02/26/2025",
         "5956.06",
         "5970.87",
         "6009.82",
         "5932.69"
        ],
        [
         "3",
         "02/25/2025",
         "5955.25",
         "5982.73",
         "5992.65",
         "5908.49"
        ],
        [
         "4",
         "02/24/2025",
         "5983.25",
         "6026.69",
         "6043.65",
         "5977.83"
        ]
       ],
       "shape": {
        "columns": 5,
        "rows": 5
       }
      },
      "text/html": [
       "<div>\n",
       "<style scoped>\n",
       "    .dataframe tbody tr th:only-of-type {\n",
       "        vertical-align: middle;\n",
       "    }\n",
       "\n",
       "    .dataframe tbody tr th {\n",
       "        vertical-align: top;\n",
       "    }\n",
       "\n",
       "    .dataframe thead th {\n",
       "        text-align: right;\n",
       "    }\n",
       "</style>\n",
       "<table border=\"1\" class=\"dataframe\">\n",
       "  <thead>\n",
       "    <tr style=\"text-align: right;\">\n",
       "      <th></th>\n",
       "      <th>Date</th>\n",
       "      <th>Close/Last</th>\n",
       "      <th>Open</th>\n",
       "      <th>High</th>\n",
       "      <th>Low</th>\n",
       "    </tr>\n",
       "  </thead>\n",
       "  <tbody>\n",
       "    <tr>\n",
       "      <th>0</th>\n",
       "      <td>02/28/2025</td>\n",
       "      <td>5954.50</td>\n",
       "      <td>5856.74</td>\n",
       "      <td>5959.40</td>\n",
       "      <td>5837.66</td>\n",
       "    </tr>\n",
       "    <tr>\n",
       "      <th>1</th>\n",
       "      <td>02/27/2025</td>\n",
       "      <td>5861.57</td>\n",
       "      <td>5981.88</td>\n",
       "      <td>5993.69</td>\n",
       "      <td>5858.78</td>\n",
       "    </tr>\n",
       "    <tr>\n",
       "      <th>2</th>\n",
       "      <td>02/26/2025</td>\n",
       "      <td>5956.06</td>\n",
       "      <td>5970.87</td>\n",
       "      <td>6009.82</td>\n",
       "      <td>5932.69</td>\n",
       "    </tr>\n",
       "    <tr>\n",
       "      <th>3</th>\n",
       "      <td>02/25/2025</td>\n",
       "      <td>5955.25</td>\n",
       "      <td>5982.73</td>\n",
       "      <td>5992.65</td>\n",
       "      <td>5908.49</td>\n",
       "    </tr>\n",
       "    <tr>\n",
       "      <th>4</th>\n",
       "      <td>02/24/2025</td>\n",
       "      <td>5983.25</td>\n",
       "      <td>6026.69</td>\n",
       "      <td>6043.65</td>\n",
       "      <td>5977.83</td>\n",
       "    </tr>\n",
       "  </tbody>\n",
       "</table>\n",
       "</div>"
      ],
      "text/plain": [
       "         Date  Close/Last     Open     High      Low\n",
       "0  02/28/2025     5954.50  5856.74  5959.40  5837.66\n",
       "1  02/27/2025     5861.57  5981.88  5993.69  5858.78\n",
       "2  02/26/2025     5956.06  5970.87  6009.82  5932.69\n",
       "3  02/25/2025     5955.25  5982.73  5992.65  5908.49\n",
       "4  02/24/2025     5983.25  6026.69  6043.65  5977.83"
      ]
     },
     "execution_count": 7,
     "metadata": {},
     "output_type": "execute_result"
    }
   ],
   "source": [
    "with open(\"data/spx.csv\", \"r\") as file:\n",
    "    sp_raw = pd.read_csv(file, delimiter=\",\")\n",
    "    \n",
    "sp_raw.head()\n"
   ]
  },
  {
   "cell_type": "code",
   "execution_count": 35,
   "metadata": {},
   "outputs": [
    {
     "data": {
      "application/vnd.microsoft.datawrangler.viewer.v0+json": {
       "columns": [
        {
         "name": "index",
         "rawType": "int64",
         "type": "integer"
        },
        {
         "name": "Date",
         "rawType": "object",
         "type": "string"
        },
        {
         "name": "Price",
         "rawType": "float64",
         "type": "float"
        }
       ],
       "conversionMethod": "pd.DataFrame",
       "ref": "a0e07cfa-0356-4c76-b66d-bf0375266fc4",
       "rows": [
        [
         "0",
         "Jun 7, 2022",
         "1814.05"
        ],
        [
         "1",
         "Jun 8, 2022",
         "1793.57"
        ],
        [
         "2",
         "Jun 9, 2022",
         "1789.83"
        ],
        [
         "3",
         "Jun 10, 2022",
         "1665.04"
        ],
        [
         "4",
         "Jun 11, 2022",
         "1529.66"
        ],
        [
         "5",
         "Jun 12, 2022",
         "1445.22"
        ],
        [
         "6",
         "Jun 13, 2022",
         "1204.58"
        ],
        [
         "7",
         "Jun 14, 2022",
         "1211.66"
        ],
        [
         "8",
         "Jun 15, 2022",
         "1233.21"
        ],
        [
         "9",
         "Jun 16, 2022",
         "1067.73"
        ],
        [
         "10",
         "Jun 17, 2022",
         "1086.52"
        ],
        [
         "11",
         "Jun 18, 2022",
         "993.64"
        ],
        [
         "12",
         "Jun 19, 2022",
         "1127.66"
        ],
        [
         "13",
         "Jun 20, 2022",
         "1127.64"
        ],
        [
         "14",
         "Jun 21, 2022",
         "1124.82"
        ],
        [
         "15",
         "Jun 22, 2022",
         "1051.42"
        ],
        [
         "16",
         "Jun 23, 2022",
         "1143.39"
        ],
        [
         "17",
         "Jun 24, 2022",
         "1226.84"
        ],
        [
         "18",
         "Jun 25, 2022",
         "1243.45"
        ],
        [
         "19",
         "Jun 26, 2022",
         "1199.83"
        ],
        [
         "20",
         "Jun 27, 2022",
         "1193.68"
        ],
        [
         "21",
         "Jun 28, 2022",
         "1144.58"
        ],
        [
         "22",
         "Jun 29, 2022",
         "1098.94"
        ],
        [
         "23",
         "Jun 30, 2022",
         "1067.3"
        ],
        [
         "24",
         "Jul 1, 2022",
         "1059.77"
        ],
        [
         "25",
         "Jul 2, 2022",
         "1066.51"
        ],
        [
         "26",
         "Jul 3, 2022",
         "1073.77"
        ],
        [
         "27",
         "Jul 4, 2022",
         "1151.06"
        ],
        [
         "28",
         "Jul 5, 2022",
         "1134.54"
        ],
        [
         "29",
         "Jul 6, 2022",
         "1186.97"
        ],
        [
         "30",
         "Jul 7, 2022",
         "1237.59"
        ],
        [
         "31",
         "Jul 8, 2022",
         "1222.51"
        ],
        [
         "32",
         "Jul 9, 2022",
         "1216.98"
        ],
        [
         "33",
         "Jul 10, 2022",
         "1168.4"
        ],
        [
         "34",
         "Jul 11, 2022",
         "1097.24"
        ],
        [
         "35",
         "Jul 12, 2022",
         "1038.19"
        ],
        [
         "36",
         "Jul 13, 2022",
         "1113.59"
        ],
        [
         "37",
         "Jul 14, 2022",
         "1191.53"
        ],
        [
         "38",
         "Jul 15, 2022",
         "1233.13"
        ],
        [
         "39",
         "Jul 16, 2022",
         "1352.63"
        ],
        [
         "40",
         "Jul 17, 2022",
         "1338.64"
        ],
        [
         "41",
         "Jul 18, 2022",
         "1578.72"
        ],
        [
         "42",
         "Jul 19, 2022",
         "1542.98"
        ],
        [
         "43",
         "Jul 20, 2022",
         "1520.2"
        ],
        [
         "44",
         "Jul 21, 2022",
         "1576.75"
        ],
        [
         "45",
         "Jul 22, 2022",
         "1537.41"
        ],
        [
         "46",
         "Jul 23, 2022",
         "1549.3"
        ],
        [
         "47",
         "Jul 24, 2022",
         "1599.48"
        ],
        [
         "48",
         "Jul 25, 2022",
         "1445.38"
        ],
        [
         "49",
         "Jul 26, 2022",
         "1441.81"
        ]
       ],
       "shape": {
        "columns": 2,
        "rows": 1000
       }
      },
      "text/html": [
       "<div>\n",
       "<style scoped>\n",
       "    .dataframe tbody tr th:only-of-type {\n",
       "        vertical-align: middle;\n",
       "    }\n",
       "\n",
       "    .dataframe tbody tr th {\n",
       "        vertical-align: top;\n",
       "    }\n",
       "\n",
       "    .dataframe thead th {\n",
       "        text-align: right;\n",
       "    }\n",
       "</style>\n",
       "<table border=\"1\" class=\"dataframe\">\n",
       "  <thead>\n",
       "    <tr style=\"text-align: right;\">\n",
       "      <th></th>\n",
       "      <th>Date</th>\n",
       "      <th>Price</th>\n",
       "    </tr>\n",
       "  </thead>\n",
       "  <tbody>\n",
       "    <tr>\n",
       "      <th>0</th>\n",
       "      <td>Jun 7, 2022</td>\n",
       "      <td>1814.05</td>\n",
       "    </tr>\n",
       "    <tr>\n",
       "      <th>1</th>\n",
       "      <td>Jun 8, 2022</td>\n",
       "      <td>1793.57</td>\n",
       "    </tr>\n",
       "    <tr>\n",
       "      <th>2</th>\n",
       "      <td>Jun 9, 2022</td>\n",
       "      <td>1789.83</td>\n",
       "    </tr>\n",
       "    <tr>\n",
       "      <th>3</th>\n",
       "      <td>Jun 10, 2022</td>\n",
       "      <td>1665.04</td>\n",
       "    </tr>\n",
       "    <tr>\n",
       "      <th>4</th>\n",
       "      <td>Jun 11, 2022</td>\n",
       "      <td>1529.66</td>\n",
       "    </tr>\n",
       "    <tr>\n",
       "      <th>...</th>\n",
       "      <td>...</td>\n",
       "      <td>...</td>\n",
       "    </tr>\n",
       "    <tr>\n",
       "      <th>995</th>\n",
       "      <td>Feb 26, 2025</td>\n",
       "      <td>2331.45</td>\n",
       "    </tr>\n",
       "    <tr>\n",
       "      <th>996</th>\n",
       "      <td>Feb 27, 2025</td>\n",
       "      <td>2305.48</td>\n",
       "    </tr>\n",
       "    <tr>\n",
       "      <th>997</th>\n",
       "      <td>Feb 28, 2025</td>\n",
       "      <td>2237.91</td>\n",
       "    </tr>\n",
       "    <tr>\n",
       "      <th>998</th>\n",
       "      <td>Mar 1, 2025</td>\n",
       "      <td>2216.64</td>\n",
       "    </tr>\n",
       "    <tr>\n",
       "      <th>999</th>\n",
       "      <td>Mar 2, 2025</td>\n",
       "      <td>2519.69</td>\n",
       "    </tr>\n",
       "  </tbody>\n",
       "</table>\n",
       "<p>1000 rows × 2 columns</p>\n",
       "</div>"
      ],
      "text/plain": [
       "             Date    Price\n",
       "0     Jun 7, 2022  1814.05\n",
       "1     Jun 8, 2022  1793.57\n",
       "2     Jun 9, 2022  1789.83\n",
       "3    Jun 10, 2022  1665.04\n",
       "4    Jun 11, 2022  1529.66\n",
       "..            ...      ...\n",
       "995  Feb 26, 2025  2331.45\n",
       "996  Feb 27, 2025  2305.48\n",
       "997  Feb 28, 2025  2237.91\n",
       "998   Mar 1, 2025  2216.64\n",
       "999   Mar 2, 2025  2519.69\n",
       "\n",
       "[1000 rows x 2 columns]"
      ]
     },
     "execution_count": 35,
     "metadata": {},
     "output_type": "execute_result"
    }
   ],
   "source": [
    "locale.setlocale(locale.LC_ALL, 'en_US.UTF-8')\n",
    "with open(\"data/ethereum.xlsx\", \"rb\") as file:\n",
    "    eth_raw = pd.read_excel(file, header=None, sheet_name=\"Data\", usecols=\"B:C\", names=[\"Date\", \"Price\"], skiprows=5)\n",
    "\n",
    "eth_raw"
   ]
  },
  {
   "cell_type": "code",
   "execution_count": 36,
   "metadata": {},
   "outputs": [
    {
     "ename": "ValueError",
     "evalue": "time data \"Oct 1, 2022\" doesn't match format \"%b %d, %Y\", at position 116. You might want to try:\n    - passing `format` if your strings have a consistent format;\n    - passing `format='ISO8601'` if your strings are all ISO8601 but not necessarily in exactly the same format;\n    - passing `format='mixed'`, and the format will be inferred for each element individually. You might want to use `dayfirst` alongside this.",
     "output_type": "error",
     "traceback": [
      "\u001b[1;31m---------------------------------------------------------------------------\u001b[0m",
      "\u001b[1;31mValueError\u001b[0m                                Traceback (most recent call last)",
      "Cell \u001b[1;32mIn[36], line 5\u001b[0m\n\u001b[0;32m      1\u001b[0m \u001b[38;5;66;03m# Data Cleaning\u001b[39;00m\n\u001b[0;32m      2\u001b[0m \u001b[38;5;66;03m#sp_raw[\"Date\"] = pd.to_datetime(sp_raw[\"Date\"])\u001b[39;00m\n\u001b[0;32m      3\u001b[0m \u001b[38;5;66;03m# Convert month names to German readable format\u001b[39;00m\n\u001b[1;32m----> 5\u001b[0m eth_raw[\u001b[38;5;124m\"\u001b[39m\u001b[38;5;124mDate\u001b[39m\u001b[38;5;124m\"\u001b[39m] \u001b[38;5;241m=\u001b[39m \u001b[43mpd\u001b[49m\u001b[38;5;241;43m.\u001b[39;49m\u001b[43mto_datetime\u001b[49m\u001b[43m(\u001b[49m\u001b[43meth_raw\u001b[49m\u001b[43m[\u001b[49m\u001b[38;5;124;43m\"\u001b[39;49m\u001b[38;5;124;43mDate\u001b[39;49m\u001b[38;5;124;43m\"\u001b[39;49m\u001b[43m]\u001b[49m\u001b[43m,\u001b[49m\u001b[43m \u001b[49m\u001b[38;5;28;43mformat\u001b[39;49m\u001b[38;5;241;43m=\u001b[39;49m\u001b[38;5;124;43m\"\u001b[39;49m\u001b[38;5;124;43m%\u001b[39;49m\u001b[38;5;124;43mb \u001b[39;49m\u001b[38;5;132;43;01m%d\u001b[39;49;00m\u001b[38;5;124;43m, \u001b[39;49m\u001b[38;5;124;43m%\u001b[39;49m\u001b[38;5;124;43mY\u001b[39;49m\u001b[38;5;124;43m\"\u001b[39;49m\u001b[43m)\u001b[49m\n",
      "File \u001b[1;32mc:\\Users\\danie\\anaconda3\\Lib\\site-packages\\pandas\\core\\tools\\datetimes.py:1067\u001b[0m, in \u001b[0;36mto_datetime\u001b[1;34m(arg, errors, dayfirst, yearfirst, utc, format, exact, unit, infer_datetime_format, origin, cache)\u001b[0m\n\u001b[0;32m   1065\u001b[0m         result \u001b[38;5;241m=\u001b[39m arg\u001b[38;5;241m.\u001b[39mmap(cache_array)\n\u001b[0;32m   1066\u001b[0m     \u001b[38;5;28;01melse\u001b[39;00m:\n\u001b[1;32m-> 1067\u001b[0m         values \u001b[38;5;241m=\u001b[39m \u001b[43mconvert_listlike\u001b[49m\u001b[43m(\u001b[49m\u001b[43marg\u001b[49m\u001b[38;5;241;43m.\u001b[39;49m\u001b[43m_values\u001b[49m\u001b[43m,\u001b[49m\u001b[43m \u001b[49m\u001b[38;5;28;43mformat\u001b[39;49m\u001b[43m)\u001b[49m\n\u001b[0;32m   1068\u001b[0m         result \u001b[38;5;241m=\u001b[39m arg\u001b[38;5;241m.\u001b[39m_constructor(values, index\u001b[38;5;241m=\u001b[39marg\u001b[38;5;241m.\u001b[39mindex, name\u001b[38;5;241m=\u001b[39marg\u001b[38;5;241m.\u001b[39mname)\n\u001b[0;32m   1069\u001b[0m \u001b[38;5;28;01melif\u001b[39;00m \u001b[38;5;28misinstance\u001b[39m(arg, (ABCDataFrame, abc\u001b[38;5;241m.\u001b[39mMutableMapping)):\n",
      "File \u001b[1;32mc:\\Users\\danie\\anaconda3\\Lib\\site-packages\\pandas\\core\\tools\\datetimes.py:433\u001b[0m, in \u001b[0;36m_convert_listlike_datetimes\u001b[1;34m(arg, format, name, utc, unit, errors, dayfirst, yearfirst, exact)\u001b[0m\n\u001b[0;32m    431\u001b[0m \u001b[38;5;66;03m# `format` could be inferred, or user didn't ask for mixed-format parsing.\u001b[39;00m\n\u001b[0;32m    432\u001b[0m \u001b[38;5;28;01mif\u001b[39;00m \u001b[38;5;28mformat\u001b[39m \u001b[38;5;129;01mis\u001b[39;00m \u001b[38;5;129;01mnot\u001b[39;00m \u001b[38;5;28;01mNone\u001b[39;00m \u001b[38;5;129;01mand\u001b[39;00m \u001b[38;5;28mformat\u001b[39m \u001b[38;5;241m!=\u001b[39m \u001b[38;5;124m\"\u001b[39m\u001b[38;5;124mmixed\u001b[39m\u001b[38;5;124m\"\u001b[39m:\n\u001b[1;32m--> 433\u001b[0m     \u001b[38;5;28;01mreturn\u001b[39;00m \u001b[43m_array_strptime_with_fallback\u001b[49m\u001b[43m(\u001b[49m\u001b[43marg\u001b[49m\u001b[43m,\u001b[49m\u001b[43m \u001b[49m\u001b[43mname\u001b[49m\u001b[43m,\u001b[49m\u001b[43m \u001b[49m\u001b[43mutc\u001b[49m\u001b[43m,\u001b[49m\u001b[43m \u001b[49m\u001b[38;5;28;43mformat\u001b[39;49m\u001b[43m,\u001b[49m\u001b[43m \u001b[49m\u001b[43mexact\u001b[49m\u001b[43m,\u001b[49m\u001b[43m \u001b[49m\u001b[43merrors\u001b[49m\u001b[43m)\u001b[49m\n\u001b[0;32m    435\u001b[0m result, tz_parsed \u001b[38;5;241m=\u001b[39m objects_to_datetime64(\n\u001b[0;32m    436\u001b[0m     arg,\n\u001b[0;32m    437\u001b[0m     dayfirst\u001b[38;5;241m=\u001b[39mdayfirst,\n\u001b[1;32m   (...)\u001b[0m\n\u001b[0;32m    441\u001b[0m     allow_object\u001b[38;5;241m=\u001b[39m\u001b[38;5;28;01mTrue\u001b[39;00m,\n\u001b[0;32m    442\u001b[0m )\n\u001b[0;32m    444\u001b[0m \u001b[38;5;28;01mif\u001b[39;00m tz_parsed \u001b[38;5;129;01mis\u001b[39;00m \u001b[38;5;129;01mnot\u001b[39;00m \u001b[38;5;28;01mNone\u001b[39;00m:\n\u001b[0;32m    445\u001b[0m     \u001b[38;5;66;03m# We can take a shortcut since the datetime64 numpy array\u001b[39;00m\n\u001b[0;32m    446\u001b[0m     \u001b[38;5;66;03m# is in UTC\u001b[39;00m\n",
      "File \u001b[1;32mc:\\Users\\danie\\anaconda3\\Lib\\site-packages\\pandas\\core\\tools\\datetimes.py:467\u001b[0m, in \u001b[0;36m_array_strptime_with_fallback\u001b[1;34m(arg, name, utc, fmt, exact, errors)\u001b[0m\n\u001b[0;32m    456\u001b[0m \u001b[38;5;28;01mdef\u001b[39;00m \u001b[38;5;21m_array_strptime_with_fallback\u001b[39m(\n\u001b[0;32m    457\u001b[0m     arg,\n\u001b[0;32m    458\u001b[0m     name,\n\u001b[1;32m   (...)\u001b[0m\n\u001b[0;32m    462\u001b[0m     errors: \u001b[38;5;28mstr\u001b[39m,\n\u001b[0;32m    463\u001b[0m ) \u001b[38;5;241m-\u001b[39m\u001b[38;5;241m>\u001b[39m Index:\n\u001b[0;32m    464\u001b[0m \u001b[38;5;250m    \u001b[39m\u001b[38;5;124;03m\"\"\"\u001b[39;00m\n\u001b[0;32m    465\u001b[0m \u001b[38;5;124;03m    Call array_strptime, with fallback behavior depending on 'errors'.\u001b[39;00m\n\u001b[0;32m    466\u001b[0m \u001b[38;5;124;03m    \"\"\"\u001b[39;00m\n\u001b[1;32m--> 467\u001b[0m     result, tz_out \u001b[38;5;241m=\u001b[39m \u001b[43marray_strptime\u001b[49m\u001b[43m(\u001b[49m\u001b[43marg\u001b[49m\u001b[43m,\u001b[49m\u001b[43m \u001b[49m\u001b[43mfmt\u001b[49m\u001b[43m,\u001b[49m\u001b[43m \u001b[49m\u001b[43mexact\u001b[49m\u001b[38;5;241;43m=\u001b[39;49m\u001b[43mexact\u001b[49m\u001b[43m,\u001b[49m\u001b[43m \u001b[49m\u001b[43merrors\u001b[49m\u001b[38;5;241;43m=\u001b[39;49m\u001b[43merrors\u001b[49m\u001b[43m,\u001b[49m\u001b[43m \u001b[49m\u001b[43mutc\u001b[49m\u001b[38;5;241;43m=\u001b[39;49m\u001b[43mutc\u001b[49m\u001b[43m)\u001b[49m\n\u001b[0;32m    468\u001b[0m     \u001b[38;5;28;01mif\u001b[39;00m tz_out \u001b[38;5;129;01mis\u001b[39;00m \u001b[38;5;129;01mnot\u001b[39;00m \u001b[38;5;28;01mNone\u001b[39;00m:\n\u001b[0;32m    469\u001b[0m         unit \u001b[38;5;241m=\u001b[39m np\u001b[38;5;241m.\u001b[39mdatetime_data(result\u001b[38;5;241m.\u001b[39mdtype)[\u001b[38;5;241m0\u001b[39m]\n",
      "File \u001b[1;32mstrptime.pyx:501\u001b[0m, in \u001b[0;36mpandas._libs.tslibs.strptime.array_strptime\u001b[1;34m()\u001b[0m\n",
      "File \u001b[1;32mstrptime.pyx:451\u001b[0m, in \u001b[0;36mpandas._libs.tslibs.strptime.array_strptime\u001b[1;34m()\u001b[0m\n",
      "File \u001b[1;32mstrptime.pyx:583\u001b[0m, in \u001b[0;36mpandas._libs.tslibs.strptime._parse_with_format\u001b[1;34m()\u001b[0m\n",
      "\u001b[1;31mValueError\u001b[0m: time data \"Oct 1, 2022\" doesn't match format \"%b %d, %Y\", at position 116. You might want to try:\n    - passing `format` if your strings have a consistent format;\n    - passing `format='ISO8601'` if your strings are all ISO8601 but not necessarily in exactly the same format;\n    - passing `format='mixed'`, and the format will be inferred for each element individually. You might want to use `dayfirst` alongside this."
     ]
    }
   ],
   "source": [
    "# Data Cleaning\n",
    "#sp_raw[\"Date\"] = pd.to_datetime(sp_raw[\"Date\"])\n",
    "# Convert month names to German readable format\n",
    "\n",
    "eth_raw[\"Date\"] = pd.to_datetime(eth_raw[\"Date\"], format=\"%b %d, %Y\")"
   ]
  },
  {
   "cell_type": "code",
   "execution_count": null,
   "metadata": {},
   "outputs": [],
   "source": []
  }
 ],
 "metadata": {
  "kernelspec": {
   "display_name": "base",
   "language": "python",
   "name": "python3"
  },
  "language_info": {
   "codemirror_mode": {
    "name": "ipython",
    "version": 3
   },
   "file_extension": ".py",
   "mimetype": "text/x-python",
   "name": "python",
   "nbconvert_exporter": "python",
   "pygments_lexer": "ipython3",
   "version": "3.12.4"
  }
 },
 "nbformat": 4,
 "nbformat_minor": 2
}
