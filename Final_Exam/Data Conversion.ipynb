{
 "cells": [
  {
   "cell_type": "markdown",
   "id": "be32242c",
   "metadata": {},
   "source": [
    "# Data Conversion\n",
    "\n",
    "This notebook transforms our soundfiles into a numerical dataset for our models."
   ]
  },
  {
   "cell_type": "code",
   "execution_count": null,
   "id": "2f6c9a10",
   "metadata": {},
   "outputs": [
    {
     "name": "stderr",
     "output_type": "stream",
     "text": [
      "ERROR: Could not find a version that satisfies the requirement concurrent.futures (from versions: none)\n",
      "ERROR: No matching distribution found for concurrent.futures\n"
     ]
    }
   ],
   "source": [
    "#Potentially needed installations\n",
    "#!pip install librosa\n",
    "# !pip install playsound\n",
    "# !pip install tqdm"
   ]
  },
  {
   "cell_type": "code",
   "execution_count": 25,
   "id": "a21d7052",
   "metadata": {},
   "outputs": [],
   "source": [
    "#Imports\n",
    "import numpy as np\n",
    "import pandas as pd\n",
    "import librosa\n",
    "#from playsound import playsound\n",
    "#This is used to show a progress bar in the terminal. Helpful as the conversion can take a while.\n",
    "from tqdm import tqdm\n",
    "import concurrent.futures"
   ]
  },
  {
   "cell_type": "markdown",
   "id": "96b459f8",
   "metadata": {},
   "source": [
    "## Preparation of the Overview Dataframe"
   ]
  },
  {
   "cell_type": "code",
   "execution_count": 13,
   "id": "d108f86b",
   "metadata": {},
   "outputs": [],
   "source": [
    "def prepare_overview(list_of_files):\n",
    "    \"\"\"\n",
    "    This function takes a list of files and creates a joint dataframe for audio file conversion\n",
    "    \"\"\"\n",
    "    overview = None\n",
    "    for file_path in list_of_files:\n",
    "        with open(file_path, \"r\") as file:\n",
    "            if overview is None:\n",
    "                overview = pd.read_csv(file, sep=\"\\t\")\n",
    "            else:\n",
    "                pd.concat([overview,pd.read_csv(file, sep=\"\\t\")], ignore_index=True)\n",
    "    return overview"
   ]
  },
  {
   "cell_type": "code",
   "execution_count": null,
   "id": "b1986b1b",
   "metadata": {},
   "outputs": [],
   "source": [
    "def preprocess_overview(overview):\n",
    "    \"\"\"\n",
    "    This function takes a dataframe and preprocesses it for audio file conversion\n",
    "    \"\"\"\n",
    "    # we only need files with a gender label\n",
    "    overview=overview.dropna(subset=[\"gender\"])\n",
    "    #irrelevant columns for our analysis\n",
    "    overview=overview.drop(columns=[\"variant\", \"segment\", \"sentence_id\", \"client_id\", \"up_votes\", \"down_votes\", \"locale\"])\n",
    "    #dropping all files that are not simply male or female\n",
    "    overview=overview[(overview[\"gender\"]==\"female_feminine\")|(overview[\"gender\"]==\"male_masculine\")]\n",
    "    #changing the path to reflect the location of the audio files\n",
    "    overview[\"path\"]=overview[\"path\"].apply(lambda x: f\"./clips/{x}\")\n",
    "    return overview"
   ]
  },
  {
   "cell_type": "code",
   "execution_count": 17,
   "id": "2eb98bc0",
   "metadata": {},
   "outputs": [
    {
     "data": {
      "application/vnd.microsoft.datawrangler.viewer.v0+json": {
       "columns": [
        {
         "name": "index",
         "rawType": "int64",
         "type": "integer"
        },
        {
         "name": "path",
         "rawType": "object",
         "type": "string"
        },
        {
         "name": "sentence",
         "rawType": "object",
         "type": "string"
        },
        {
         "name": "sentence_domain",
         "rawType": "object",
         "type": "unknown"
        },
        {
         "name": "age",
         "rawType": "object",
         "type": "string"
        },
        {
         "name": "gender",
         "rawType": "object",
         "type": "string"
        },
        {
         "name": "accents",
         "rawType": "object",
         "type": "string"
        },
        {
         "name": "locale",
         "rawType": "object",
         "type": "string"
        }
       ],
       "conversionMethod": "pd.DataFrame",
       "ref": "00b975d2-dadf-40df-a211-6806ac32a970",
       "rows": [
        [
         "20",
         "./clips/common_voice_en_40187693.mp3",
         "Cohousing cultivates a culture of sharing and caring.",
         null,
         "fifties",
         "male_masculine",
         "Canadian English",
         "en"
        ],
        [
         "21",
         "./clips/common_voice_en_40187694.mp3",
         "She is allegedly an agent of an organization called Interzone Incorporated.",
         null,
         "fifties",
         "male_masculine",
         "Canadian English",
         "en"
        ],
        [
         "22",
         "./clips/common_voice_en_40187695.mp3",
         "Artume appeared as a recurring character in Marvel Comics.",
         null,
         "fifties",
         "male_masculine",
         "Canadian English",
         "en"
        ],
        [
         "23",
         "./clips/common_voice_en_40187696.mp3",
         "In practice however the resistive element varies with frequency.",
         null,
         "fifties",
         "male_masculine",
         "Canadian English",
         "en"
        ],
        [
         "24",
         "./clips/common_voice_en_40187697.mp3",
         "He then led the life of a wandering hermit.",
         null,
         "fifties",
         "male_masculine",
         "Canadian English",
         "en"
        ]
       ],
       "shape": {
        "columns": 7,
        "rows": 5
       }
      },
      "text/html": [
       "<div>\n",
       "<style scoped>\n",
       "    .dataframe tbody tr th:only-of-type {\n",
       "        vertical-align: middle;\n",
       "    }\n",
       "\n",
       "    .dataframe tbody tr th {\n",
       "        vertical-align: top;\n",
       "    }\n",
       "\n",
       "    .dataframe thead th {\n",
       "        text-align: right;\n",
       "    }\n",
       "</style>\n",
       "<table border=\"1\" class=\"dataframe\">\n",
       "  <thead>\n",
       "    <tr style=\"text-align: right;\">\n",
       "      <th></th>\n",
       "      <th>path</th>\n",
       "      <th>sentence</th>\n",
       "      <th>sentence_domain</th>\n",
       "      <th>age</th>\n",
       "      <th>gender</th>\n",
       "      <th>accents</th>\n",
       "      <th>locale</th>\n",
       "    </tr>\n",
       "  </thead>\n",
       "  <tbody>\n",
       "    <tr>\n",
       "      <th>20</th>\n",
       "      <td>./clips/common_voice_en_40187693.mp3</td>\n",
       "      <td>Cohousing cultivates a culture of sharing and ...</td>\n",
       "      <td>NaN</td>\n",
       "      <td>fifties</td>\n",
       "      <td>male_masculine</td>\n",
       "      <td>Canadian English</td>\n",
       "      <td>en</td>\n",
       "    </tr>\n",
       "    <tr>\n",
       "      <th>21</th>\n",
       "      <td>./clips/common_voice_en_40187694.mp3</td>\n",
       "      <td>She is allegedly an agent of an organization c...</td>\n",
       "      <td>NaN</td>\n",
       "      <td>fifties</td>\n",
       "      <td>male_masculine</td>\n",
       "      <td>Canadian English</td>\n",
       "      <td>en</td>\n",
       "    </tr>\n",
       "    <tr>\n",
       "      <th>22</th>\n",
       "      <td>./clips/common_voice_en_40187695.mp3</td>\n",
       "      <td>Artume appeared as a recurring character in Ma...</td>\n",
       "      <td>NaN</td>\n",
       "      <td>fifties</td>\n",
       "      <td>male_masculine</td>\n",
       "      <td>Canadian English</td>\n",
       "      <td>en</td>\n",
       "    </tr>\n",
       "    <tr>\n",
       "      <th>23</th>\n",
       "      <td>./clips/common_voice_en_40187696.mp3</td>\n",
       "      <td>In practice however the resistive element vari...</td>\n",
       "      <td>NaN</td>\n",
       "      <td>fifties</td>\n",
       "      <td>male_masculine</td>\n",
       "      <td>Canadian English</td>\n",
       "      <td>en</td>\n",
       "    </tr>\n",
       "    <tr>\n",
       "      <th>24</th>\n",
       "      <td>./clips/common_voice_en_40187697.mp3</td>\n",
       "      <td>He then led the life of a wandering hermit.</td>\n",
       "      <td>NaN</td>\n",
       "      <td>fifties</td>\n",
       "      <td>male_masculine</td>\n",
       "      <td>Canadian English</td>\n",
       "      <td>en</td>\n",
       "    </tr>\n",
       "  </tbody>\n",
       "</table>\n",
       "</div>"
      ],
      "text/plain": [
       "                                    path  \\\n",
       "20  ./clips/common_voice_en_40187693.mp3   \n",
       "21  ./clips/common_voice_en_40187694.mp3   \n",
       "22  ./clips/common_voice_en_40187695.mp3   \n",
       "23  ./clips/common_voice_en_40187696.mp3   \n",
       "24  ./clips/common_voice_en_40187697.mp3   \n",
       "\n",
       "                                             sentence sentence_domain  \\\n",
       "20  Cohousing cultivates a culture of sharing and ...             NaN   \n",
       "21  She is allegedly an agent of an organization c...             NaN   \n",
       "22  Artume appeared as a recurring character in Ma...             NaN   \n",
       "23  In practice however the resistive element vari...             NaN   \n",
       "24        He then led the life of a wandering hermit.             NaN   \n",
       "\n",
       "        age          gender           accents locale  \n",
       "20  fifties  male_masculine  Canadian English     en  \n",
       "21  fifties  male_masculine  Canadian English     en  \n",
       "22  fifties  male_masculine  Canadian English     en  \n",
       "23  fifties  male_masculine  Canadian English     en  \n",
       "24  fifties  male_masculine  Canadian English     en  "
      ]
     },
     "execution_count": 17,
     "metadata": {},
     "output_type": "execute_result"
    }
   ],
   "source": [
    "list_of_files = [\"other_18.tsv\", \"other_19.tsv\", \"other_20.tsv\", \"other_21.tsv\", \"validated_18.tsv\", \"validated_19.tsv\", \"validated_20.tsv\", \"validated_21.tsv\"]\n",
    "overview=prepare_overview(list_of_files)\n",
    "overview=preprocess_overview(overview)\n",
    "overview.head()"
   ]
  },
  {
   "cell_type": "code",
   "execution_count": 18,
   "id": "a2e8926c",
   "metadata": {},
   "outputs": [
    {
     "name": "stdout",
     "output_type": "stream",
     "text": [
      "<class 'pandas.core.frame.DataFrame'>\n",
      "Index: 12084 entries, 20 to 26692\n",
      "Data columns (total 7 columns):\n",
      " #   Column           Non-Null Count  Dtype \n",
      "---  ------           --------------  ----- \n",
      " 0   path             12084 non-null  object\n",
      " 1   sentence         12084 non-null  object\n",
      " 2   sentence_domain  204 non-null    object\n",
      " 3   age              11989 non-null  object\n",
      " 4   gender           12084 non-null  object\n",
      " 5   accents          10821 non-null  object\n",
      " 6   locale           12084 non-null  object\n",
      "dtypes: object(7)\n",
      "memory usage: 755.2+ KB\n"
     ]
    }
   ],
   "source": [
    "overview.info()"
   ]
  },
  {
   "cell_type": "code",
   "execution_count": 19,
   "id": "8a1035c2",
   "metadata": {},
   "outputs": [
    {
     "data": {
      "application/vnd.microsoft.datawrangler.viewer.v0+json": {
       "columns": [
        {
         "name": "index",
         "rawType": "object",
         "type": "string"
        },
        {
         "name": "path",
         "rawType": "object",
         "type": "unknown"
        },
        {
         "name": "sentence",
         "rawType": "object",
         "type": "unknown"
        },
        {
         "name": "sentence_domain",
         "rawType": "object",
         "type": "unknown"
        },
        {
         "name": "age",
         "rawType": "object",
         "type": "unknown"
        },
        {
         "name": "gender",
         "rawType": "object",
         "type": "unknown"
        },
        {
         "name": "accents",
         "rawType": "object",
         "type": "unknown"
        },
        {
         "name": "locale",
         "rawType": "object",
         "type": "unknown"
        }
       ],
       "conversionMethod": "pd.DataFrame",
       "ref": "6a57eeb4-4379-40e7-8859-25487969de70",
       "rows": [
        [
         "count",
         "12084",
         "12084",
         "204",
         "11989",
         "12084",
         "10821",
         "12084"
        ],
        [
         "unique",
         "12084",
         "12055",
         "24",
         "6",
         "2",
         "25",
         "1"
        ],
        [
         "top",
         "./clips/common_voice_en_40862767.mp3",
         "It is unknown at this time if any new products are in production.",
         "general",
         "fourties",
         "female_feminine",
         "Scottish English",
         "en"
        ],
        [
         "freq",
         "1",
         "2",
         "140",
         "4083",
         "6500",
         "3792",
         "12084"
        ]
       ],
       "shape": {
        "columns": 7,
        "rows": 4
       }
      },
      "text/html": [
       "<div>\n",
       "<style scoped>\n",
       "    .dataframe tbody tr th:only-of-type {\n",
       "        vertical-align: middle;\n",
       "    }\n",
       "\n",
       "    .dataframe tbody tr th {\n",
       "        vertical-align: top;\n",
       "    }\n",
       "\n",
       "    .dataframe thead th {\n",
       "        text-align: right;\n",
       "    }\n",
       "</style>\n",
       "<table border=\"1\" class=\"dataframe\">\n",
       "  <thead>\n",
       "    <tr style=\"text-align: right;\">\n",
       "      <th></th>\n",
       "      <th>path</th>\n",
       "      <th>sentence</th>\n",
       "      <th>sentence_domain</th>\n",
       "      <th>age</th>\n",
       "      <th>gender</th>\n",
       "      <th>accents</th>\n",
       "      <th>locale</th>\n",
       "    </tr>\n",
       "  </thead>\n",
       "  <tbody>\n",
       "    <tr>\n",
       "      <th>count</th>\n",
       "      <td>12084</td>\n",
       "      <td>12084</td>\n",
       "      <td>204</td>\n",
       "      <td>11989</td>\n",
       "      <td>12084</td>\n",
       "      <td>10821</td>\n",
       "      <td>12084</td>\n",
       "    </tr>\n",
       "    <tr>\n",
       "      <th>unique</th>\n",
       "      <td>12084</td>\n",
       "      <td>12055</td>\n",
       "      <td>24</td>\n",
       "      <td>6</td>\n",
       "      <td>2</td>\n",
       "      <td>25</td>\n",
       "      <td>1</td>\n",
       "    </tr>\n",
       "    <tr>\n",
       "      <th>top</th>\n",
       "      <td>./clips/common_voice_en_40862767.mp3</td>\n",
       "      <td>It is unknown at this time if any new products...</td>\n",
       "      <td>general</td>\n",
       "      <td>fourties</td>\n",
       "      <td>female_feminine</td>\n",
       "      <td>Scottish English</td>\n",
       "      <td>en</td>\n",
       "    </tr>\n",
       "    <tr>\n",
       "      <th>freq</th>\n",
       "      <td>1</td>\n",
       "      <td>2</td>\n",
       "      <td>140</td>\n",
       "      <td>4083</td>\n",
       "      <td>6500</td>\n",
       "      <td>3792</td>\n",
       "      <td>12084</td>\n",
       "    </tr>\n",
       "  </tbody>\n",
       "</table>\n",
       "</div>"
      ],
      "text/plain": [
       "                                        path  \\\n",
       "count                                  12084   \n",
       "unique                                 12084   \n",
       "top     ./clips/common_voice_en_40862767.mp3   \n",
       "freq                                       1   \n",
       "\n",
       "                                                 sentence sentence_domain  \\\n",
       "count                                               12084             204   \n",
       "unique                                              12055              24   \n",
       "top     It is unknown at this time if any new products...         general   \n",
       "freq                                                    2             140   \n",
       "\n",
       "             age           gender           accents locale  \n",
       "count      11989            12084             10821  12084  \n",
       "unique         6                2                25      1  \n",
       "top     fourties  female_feminine  Scottish English     en  \n",
       "freq        4083             6500              3792  12084  "
      ]
     },
     "execution_count": 19,
     "metadata": {},
     "output_type": "execute_result"
    }
   ],
   "source": [
    "overview.describe(include=\"all\")"
   ]
  },
  {
   "cell_type": "code",
   "execution_count": 23,
   "id": "cb4d983b",
   "metadata": {},
   "outputs": [
    {
     "data": {
      "text/plain": [
       "gender\n",
       "female_feminine    6500\n",
       "male_masculine     5584\n",
       "dtype: int64"
      ]
     },
     "execution_count": 23,
     "metadata": {},
     "output_type": "execute_result"
    }
   ],
   "source": [
    "overview.groupby(\"gender\").size()"
   ]
  },
  {
   "cell_type": "markdown",
   "id": "2265589d",
   "metadata": {},
   "source": [
    "## Conversion of the Audiofiles"
   ]
  },
  {
   "cell_type": "code",
   "execution_count": 26,
   "id": "e071784c",
   "metadata": {},
   "outputs": [],
   "source": [
    "def extract_features(file_path):\n",
    "    try:\n",
    "        y, sr = librosa.load(file_path, sr=None, mono=True)\n",
    "\n",
    "        # Feature extraction\n",
    "        # MFCC (Mel-frequency cepstral coefficients) gives the timbre of the audio\n",
    "        mfccs = librosa.feature.mfcc(y=y, sr=sr, n_mfcc=20)\n",
    "        \n",
    "        # Chroma feature gives the harmonic content of the audio\n",
    "        chroma = librosa.feature.chroma_stft(y=y, sr=sr)\n",
    "        \n",
    "        # Spectral features\n",
    "        # Spectral centroid gives the center of mass of the spectrum\n",
    "        spec_centroid = librosa.feature.spectral_centroid(y=y, sr=sr)\n",
    "        # Spectral bandwidth gives the width of the spectrum\n",
    "        spec_bw = librosa.feature.spectral_bandwidth(y=y, sr=sr)\n",
    "        # Spectral contrast gives the difference in amplitude between peaks and valleys in the sound spectrum\n",
    "        spec_contrast = librosa.feature.spectral_contrast(y=y, sr=sr)\n",
    "        # Spectral rolloff gives the frequency below which a certain percentage of the total spectral energy is contained\n",
    "        spec_rolloff = librosa.feature.spectral_rolloff(y=y, sr=sr)\n",
    "        \n",
    "        # Zero crossing rate gives the rate at which the signal changes sign\n",
    "        zcr = librosa.feature.zero_crossing_rate(y)\n",
    "        # Root mean square energy gives the energy of the signal (i.e., the loudness)\n",
    "        rmse = librosa.feature.rms(y=y)\n",
    "\n",
    "        # Combine features into a single feature vector\n",
    "        features = np.hstack([\n",
    "            np.mean(mfccs, axis=1), np.std(mfccs, axis=1),\n",
    "            np.mean(chroma, axis=1), np.std(chroma, axis=1),\n",
    "            np.mean(spec_centroid), np.std(spec_centroid),\n",
    "            np.mean(spec_bw), np.std(spec_bw),\n",
    "            np.mean(spec_contrast, axis=1), np.std(spec_contrast, axis=1),\n",
    "            np.mean(spec_rolloff), np.std(spec_rolloff),\n",
    "            np.mean(zcr), np.std(zcr),\n",
    "            np.mean(rmse), np.std(rmse)\n",
    "        ])\n",
    "\n",
    "        return features\n",
    "    except Exception as e:\n",
    "        print(f\"Error processing {file_path}: {e}\")\n",
    "        return None\n"
   ]
  },
  {
   "cell_type": "code",
   "execution_count": 27,
   "id": "04c02211",
   "metadata": {},
   "outputs": [],
   "source": [
    "def build_columns():\n",
    "    columns = []\n",
    "    columns += [f\"mfcc_{i+1:02d}_mean\" for i in range(20)]\n",
    "    columns += [f\"mfcc_{i+1:02d}_std\" for i in range(20)]\n",
    "    columns += [f\"chroma_{i+1:02d}_mean\" for i in range(12)]\n",
    "    columns += [f\"chroma_{i+1:02d}_std\" for i in range(12)]\n",
    "    columns += [\"spec_centroid_mean\", \"spec_centroid_std\"]\n",
    "    columns += [\"spec_bandwidth_mean\", \"spec_bandwidth_std\"]\n",
    "    columns += [f\"spec_contrast_band_{i+1}_mean\" for i in range(7)]\n",
    "    columns += [f\"spec_contrast_band_{i+1}_std\" for i in range(7)]\n",
    "    columns += [\"spec_rolloff_mean\", \"spec_rolloff_std\"]\n",
    "    columns += [\"zcr_mean\", \"zcr_std\"]\n",
    "    columns += [\"rmse_mean\", \"rmse_std\"]\n",
    "    return columns"
   ]
  },
  {
   "cell_type": "code",
   "execution_count": 28,
   "id": "c6112a9a",
   "metadata": {},
   "outputs": [],
   "source": [
    "def extract_features_from_dataframe(df_paths, output_csv_path, parallel=True):\n",
    "    features_list = []\n",
    "    valid_indices = []\n",
    "\n",
    "    paths = df_paths['path'].tolist()\n",
    "\n",
    "    # Use ThreadPoolExecutor for parallel processing\n",
    "    # This helps to speed up the feature extraction process\n",
    "    if parallel:\n",
    "        with concurrent.futures.ThreadPoolExecutor(max_workers=8) as executor:\n",
    "            futures = {executor.submit(extract_features, path): idx for idx, path in enumerate(paths)}\n",
    "            for future in tqdm(concurrent.futures.as_completed(futures), total=len(paths), desc=\"Extracting features\"):\n",
    "                result = future.result()\n",
    "                if result is not None:\n",
    "                    features_list.append(result)\n",
    "                    valid_indices.append(futures[future])\n",
    "    else:\n",
    "        for idx, path in tqdm(enumerate(paths), total=len(paths), desc=\"Extracting features\"):\n",
    "            result = extract_features(path)\n",
    "            if result is not None:\n",
    "                features_list.append(result)\n",
    "                valid_indices.append(idx)\n",
    "\n",
    "    # Build features DataFrame\n",
    "    columns = build_columns()\n",
    "    features_df = pd.DataFrame(features_list, columns=columns)\n",
    "    \n",
    "    # Match features to original DataFrame\n",
    "    merged_df = df_paths.iloc[valid_indices].reset_index(drop=True)\n",
    "    final_df = pd.concat([merged_df, features_df], axis=1)\n",
    "\n",
    "    # Save to CSV\n",
    "    final_df.to_csv(output_csv_path, index=False)\n",
    "    print(f\"Saved extracted features to {output_csv_path}\")\n",
    "\n",
    "    return final_df"
   ]
  },
  {
   "cell_type": "code",
   "execution_count": null,
   "id": "8759b578",
   "metadata": {},
   "outputs": [],
   "source": [
    "extract_features_from_dataframe(overview, \"data.csv\", parallel=True).head()"
   ]
  }
 ],
 "metadata": {
  "kernelspec": {
   "display_name": "tensorflow",
   "language": "python",
   "name": "python3"
  },
  "language_info": {
   "codemirror_mode": {
    "name": "ipython",
    "version": 3
   },
   "file_extension": ".py",
   "mimetype": "text/x-python",
   "name": "python",
   "nbconvert_exporter": "python",
   "pygments_lexer": "ipython3",
   "version": "3.12.9"
  }
 },
 "nbformat": 4,
 "nbformat_minor": 5
}
