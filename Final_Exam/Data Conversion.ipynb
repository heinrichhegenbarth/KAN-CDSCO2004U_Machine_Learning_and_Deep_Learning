{
 "cells": [
  {
   "cell_type": "markdown",
   "id": "be32242c",
   "metadata": {},
   "source": [
    "# Data Conversion\n",
    "\n",
    "This notebook transforms our soundfiles into a numerical dataset for our models."
   ]
  },
  {
   "cell_type": "code",
   "execution_count": 1,
   "id": "2f6c9a10",
   "metadata": {},
   "outputs": [],
   "source": [
    "#Potentially needed installations\n",
    "#!pip install librosa\n",
    "# !pip install playsound\n",
    "# !pip install tqdm"
   ]
  },
  {
   "cell_type": "code",
   "execution_count": 2,
   "id": "a21d7052",
   "metadata": {},
   "outputs": [],
   "source": [
    "#Imports\n",
    "import numpy as np\n",
    "import pandas as pd\n",
    "import librosa\n",
    "#from playsound import playsound\n",
    "#This is used to show a progress bar in the terminal. Helpful as the conversion can take a while.\n",
    "from tqdm import tqdm\n",
    "import concurrent.futures"
   ]
  },
  {
   "cell_type": "markdown",
   "id": "96b459f8",
   "metadata": {},
   "source": [
    "## Preparation of the Overview Dataframe"
   ]
  },
  {
   "cell_type": "code",
   "execution_count": 18,
   "id": "d108f86b",
   "metadata": {},
   "outputs": [],
   "source": [
    "def prepare_overview(list_of_files):\n",
    "    \"\"\"\n",
    "    This function takes a list of files and creates a joint dataframe for audio file conversion\n",
    "    \"\"\"\n",
    "    overview = None\n",
    "    for file_path in list_of_files:\n",
    "        with open(file_path, \"r\") as file:\n",
    "            if overview is None:\n",
    "                overview = pd.read_csv(file, sep=\"\\t\")\n",
    "            else:\n",
    "                overview = pd.concat([overview, pd.read_csv(file, sep=\"\\t\")], ignore_index=True)\n",
    "    return overview"
   ]
  },
  {
   "cell_type": "code",
   "execution_count": 22,
   "id": "b1986b1b",
   "metadata": {},
   "outputs": [],
   "source": [
    "def preprocess_overview(overview, folder_path):\n",
    "    \"\"\"\n",
    "    This function takes a dataframe and preprocesses it for audio file conversion\n",
    "    \"\"\"\n",
    "    # we only need files with a gender label\n",
    "    overview=overview.dropna(subset=[\"gender\"])\n",
    "    #irrelevant columns for our analysis\n",
    "    overview=overview.drop(columns=[\"variant\", \"segment\", \"sentence_id\", \"client_id\", \"up_votes\", \"down_votes\", \"locale\"])\n",
    "    #dropping all files that are not simply male or female\n",
    "    overview=overview[(overview[\"gender\"]==\"female_feminine\")|(overview[\"gender\"]==\"male_masculine\")]\n",
    "    #changing the path to reflect the location of the audio files\n",
    "    overview[\"path\"]=overview[\"path\"].apply(lambda x: f\"{folder_path}/{x}\")\n",
    "    return overview.reset_index(drop=True)"
   ]
  },
  {
   "cell_type": "code",
   "execution_count": 23,
   "id": "2eb98bc0",
   "metadata": {},
   "outputs": [
    {
     "name": "stdout",
     "output_type": "stream",
     "text": [
      "<class 'pandas.core.frame.DataFrame'>\n",
      "RangeIndex: 94691 entries, 0 to 94690\n",
      "Data columns (total 13 columns):\n",
      " #   Column           Non-Null Count  Dtype  \n",
      "---  ------           --------------  -----  \n",
      " 0   client_id        94691 non-null  object \n",
      " 1   path             94691 non-null  object \n",
      " 2   sentence_id      94691 non-null  object \n",
      " 3   sentence         94691 non-null  object \n",
      " 4   sentence_domain  727 non-null    object \n",
      " 5   up_votes         94691 non-null  int64  \n",
      " 6   down_votes       94691 non-null  int64  \n",
      " 7   age              68529 non-null  object \n",
      " 8   gender           46549 non-null  object \n",
      " 9   accents          58440 non-null  object \n",
      " 10  variant          0 non-null      float64\n",
      " 11  locale           94691 non-null  object \n",
      " 12  segment          0 non-null      float64\n",
      "dtypes: float64(2), int64(2), object(9)\n",
      "memory usage: 9.4+ MB\n"
     ]
    }
   ],
   "source": [
    "list_of_files = [\"other_18.tsv\", \"other_19.tsv\", \"other_20.tsv\", \"other_21.tsv\", \"validated_18.tsv\", \"validated_19.tsv\", \"validated_20.tsv\", \"validated_21.tsv\"]\n",
    "overview=prepare_overview(list_of_files)\n",
    "overview.info()"
   ]
  },
  {
   "cell_type": "code",
   "execution_count": 24,
   "id": "c732f585",
   "metadata": {},
   "outputs": [
    {
     "data": {
      "application/vnd.microsoft.datawrangler.viewer.v0+json": {
       "columns": [
        {
         "name": "index",
         "rawType": "int64",
         "type": "integer"
        },
        {
         "name": "path",
         "rawType": "object",
         "type": "string"
        },
        {
         "name": "sentence",
         "rawType": "object",
         "type": "string"
        },
        {
         "name": "sentence_domain",
         "rawType": "object",
         "type": "unknown"
        },
        {
         "name": "age",
         "rawType": "object",
         "type": "string"
        },
        {
         "name": "gender",
         "rawType": "object",
         "type": "string"
        },
        {
         "name": "accents",
         "rawType": "object",
         "type": "string"
        }
       ],
       "conversionMethod": "pd.DataFrame",
       "ref": "5723fbf2-20ec-4857-ae24-fae9b0adb896",
       "rows": [
        [
         "0",
         "./clips/common_voice_en_40187693.mp3",
         "Cohousing cultivates a culture of sharing and caring.",
         null,
         "fifties",
         "male_masculine",
         "Canadian English"
        ],
        [
         "1",
         "./clips/common_voice_en_40187694.mp3",
         "She is allegedly an agent of an organization called Interzone Incorporated.",
         null,
         "fifties",
         "male_masculine",
         "Canadian English"
        ],
        [
         "2",
         "./clips/common_voice_en_40187695.mp3",
         "Artume appeared as a recurring character in Marvel Comics.",
         null,
         "fifties",
         "male_masculine",
         "Canadian English"
        ],
        [
         "3",
         "./clips/common_voice_en_40187696.mp3",
         "In practice however the resistive element varies with frequency.",
         null,
         "fifties",
         "male_masculine",
         "Canadian English"
        ],
        [
         "4",
         "./clips/common_voice_en_40187697.mp3",
         "He then led the life of a wandering hermit.",
         null,
         "fifties",
         "male_masculine",
         "Canadian English"
        ]
       ],
       "shape": {
        "columns": 6,
        "rows": 5
       }
      },
      "text/html": [
       "<div>\n",
       "<style scoped>\n",
       "    .dataframe tbody tr th:only-of-type {\n",
       "        vertical-align: middle;\n",
       "    }\n",
       "\n",
       "    .dataframe tbody tr th {\n",
       "        vertical-align: top;\n",
       "    }\n",
       "\n",
       "    .dataframe thead th {\n",
       "        text-align: right;\n",
       "    }\n",
       "</style>\n",
       "<table border=\"1\" class=\"dataframe\">\n",
       "  <thead>\n",
       "    <tr style=\"text-align: right;\">\n",
       "      <th></th>\n",
       "      <th>path</th>\n",
       "      <th>sentence</th>\n",
       "      <th>sentence_domain</th>\n",
       "      <th>age</th>\n",
       "      <th>gender</th>\n",
       "      <th>accents</th>\n",
       "    </tr>\n",
       "  </thead>\n",
       "  <tbody>\n",
       "    <tr>\n",
       "      <th>0</th>\n",
       "      <td>./clips/common_voice_en_40187693.mp3</td>\n",
       "      <td>Cohousing cultivates a culture of sharing and ...</td>\n",
       "      <td>NaN</td>\n",
       "      <td>fifties</td>\n",
       "      <td>male_masculine</td>\n",
       "      <td>Canadian English</td>\n",
       "    </tr>\n",
       "    <tr>\n",
       "      <th>1</th>\n",
       "      <td>./clips/common_voice_en_40187694.mp3</td>\n",
       "      <td>She is allegedly an agent of an organization c...</td>\n",
       "      <td>NaN</td>\n",
       "      <td>fifties</td>\n",
       "      <td>male_masculine</td>\n",
       "      <td>Canadian English</td>\n",
       "    </tr>\n",
       "    <tr>\n",
       "      <th>2</th>\n",
       "      <td>./clips/common_voice_en_40187695.mp3</td>\n",
       "      <td>Artume appeared as a recurring character in Ma...</td>\n",
       "      <td>NaN</td>\n",
       "      <td>fifties</td>\n",
       "      <td>male_masculine</td>\n",
       "      <td>Canadian English</td>\n",
       "    </tr>\n",
       "    <tr>\n",
       "      <th>3</th>\n",
       "      <td>./clips/common_voice_en_40187696.mp3</td>\n",
       "      <td>In practice however the resistive element vari...</td>\n",
       "      <td>NaN</td>\n",
       "      <td>fifties</td>\n",
       "      <td>male_masculine</td>\n",
       "      <td>Canadian English</td>\n",
       "    </tr>\n",
       "    <tr>\n",
       "      <th>4</th>\n",
       "      <td>./clips/common_voice_en_40187697.mp3</td>\n",
       "      <td>He then led the life of a wandering hermit.</td>\n",
       "      <td>NaN</td>\n",
       "      <td>fifties</td>\n",
       "      <td>male_masculine</td>\n",
       "      <td>Canadian English</td>\n",
       "    </tr>\n",
       "  </tbody>\n",
       "</table>\n",
       "</div>"
      ],
      "text/plain": [
       "                                   path  \\\n",
       "0  ./clips/common_voice_en_40187693.mp3   \n",
       "1  ./clips/common_voice_en_40187694.mp3   \n",
       "2  ./clips/common_voice_en_40187695.mp3   \n",
       "3  ./clips/common_voice_en_40187696.mp3   \n",
       "4  ./clips/common_voice_en_40187697.mp3   \n",
       "\n",
       "                                            sentence sentence_domain      age  \\\n",
       "0  Cohousing cultivates a culture of sharing and ...             NaN  fifties   \n",
       "1  She is allegedly an agent of an organization c...             NaN  fifties   \n",
       "2  Artume appeared as a recurring character in Ma...             NaN  fifties   \n",
       "3  In practice however the resistive element vari...             NaN  fifties   \n",
       "4        He then led the life of a wandering hermit.             NaN  fifties   \n",
       "\n",
       "           gender           accents  \n",
       "0  male_masculine  Canadian English  \n",
       "1  male_masculine  Canadian English  \n",
       "2  male_masculine  Canadian English  \n",
       "3  male_masculine  Canadian English  \n",
       "4  male_masculine  Canadian English  "
      ]
     },
     "execution_count": 24,
     "metadata": {},
     "output_type": "execute_result"
    }
   ],
   "source": [
    "# On my device, all audio files are in the same \"clips\" folder. Please change the path if your files are in a different location.\n",
    "overview=preprocess_overview(overview, \"./clips\")\n",
    "overview.head()"
   ]
  },
  {
   "cell_type": "code",
   "execution_count": 26,
   "id": "a2e8926c",
   "metadata": {},
   "outputs": [
    {
     "name": "stdout",
     "output_type": "stream",
     "text": [
      "<class 'pandas.core.frame.DataFrame'>\n",
      "RangeIndex: 45358 entries, 0 to 45357\n",
      "Data columns (total 6 columns):\n",
      " #   Column           Non-Null Count  Dtype \n",
      "---  ------           --------------  ----- \n",
      " 0   path             45358 non-null  object\n",
      " 1   sentence         45358 non-null  object\n",
      " 2   sentence_domain  384 non-null    object\n",
      " 3   age              44929 non-null  object\n",
      " 4   gender           45358 non-null  object\n",
      " 5   accents          38582 non-null  object\n",
      "dtypes: object(6)\n",
      "memory usage: 2.1+ MB\n"
     ]
    }
   ],
   "source": [
    "overview.info()"
   ]
  },
  {
   "cell_type": "code",
   "execution_count": 27,
   "id": "8a1035c2",
   "metadata": {},
   "outputs": [
    {
     "data": {
      "application/vnd.microsoft.datawrangler.viewer.v0+json": {
       "columns": [
        {
         "name": "index",
         "rawType": "object",
         "type": "string"
        },
        {
         "name": "path",
         "rawType": "object",
         "type": "unknown"
        },
        {
         "name": "sentence",
         "rawType": "object",
         "type": "unknown"
        },
        {
         "name": "sentence_domain",
         "rawType": "object",
         "type": "unknown"
        },
        {
         "name": "age",
         "rawType": "object",
         "type": "unknown"
        },
        {
         "name": "gender",
         "rawType": "object",
         "type": "unknown"
        },
        {
         "name": "accents",
         "rawType": "object",
         "type": "unknown"
        }
       ],
       "conversionMethod": "pd.DataFrame",
       "ref": "7835635f-9b0e-46de-9838-7d7915fbc7ad",
       "rows": [
        [
         "count",
         "45358",
         "45358",
         "384",
         "44929",
         "45358",
         "38582"
        ],
        [
         "unique",
         "45358",
         "45272",
         "30",
         "7",
         "2",
         "44"
        ],
        [
         "top",
         "./clips/common_voice_en_42221538.mp3",
         "The test is unofficial and just what it will prove when completed nobody knows.",
         "general",
         "fourties",
         "female_feminine",
         "Scottish English"
        ],
        [
         "freq",
         "1",
         "3",
         "241",
         "15300",
         "28975",
         "14275"
        ]
       ],
       "shape": {
        "columns": 6,
        "rows": 4
       }
      },
      "text/html": [
       "<div>\n",
       "<style scoped>\n",
       "    .dataframe tbody tr th:only-of-type {\n",
       "        vertical-align: middle;\n",
       "    }\n",
       "\n",
       "    .dataframe tbody tr th {\n",
       "        vertical-align: top;\n",
       "    }\n",
       "\n",
       "    .dataframe thead th {\n",
       "        text-align: right;\n",
       "    }\n",
       "</style>\n",
       "<table border=\"1\" class=\"dataframe\">\n",
       "  <thead>\n",
       "    <tr style=\"text-align: right;\">\n",
       "      <th></th>\n",
       "      <th>path</th>\n",
       "      <th>sentence</th>\n",
       "      <th>sentence_domain</th>\n",
       "      <th>age</th>\n",
       "      <th>gender</th>\n",
       "      <th>accents</th>\n",
       "    </tr>\n",
       "  </thead>\n",
       "  <tbody>\n",
       "    <tr>\n",
       "      <th>count</th>\n",
       "      <td>45358</td>\n",
       "      <td>45358</td>\n",
       "      <td>384</td>\n",
       "      <td>44929</td>\n",
       "      <td>45358</td>\n",
       "      <td>38582</td>\n",
       "    </tr>\n",
       "    <tr>\n",
       "      <th>unique</th>\n",
       "      <td>45358</td>\n",
       "      <td>45272</td>\n",
       "      <td>30</td>\n",
       "      <td>7</td>\n",
       "      <td>2</td>\n",
       "      <td>44</td>\n",
       "    </tr>\n",
       "    <tr>\n",
       "      <th>top</th>\n",
       "      <td>./clips/common_voice_en_42221538.mp3</td>\n",
       "      <td>The test is unofficial and just what it will p...</td>\n",
       "      <td>general</td>\n",
       "      <td>fourties</td>\n",
       "      <td>female_feminine</td>\n",
       "      <td>Scottish English</td>\n",
       "    </tr>\n",
       "    <tr>\n",
       "      <th>freq</th>\n",
       "      <td>1</td>\n",
       "      <td>3</td>\n",
       "      <td>241</td>\n",
       "      <td>15300</td>\n",
       "      <td>28975</td>\n",
       "      <td>14275</td>\n",
       "    </tr>\n",
       "  </tbody>\n",
       "</table>\n",
       "</div>"
      ],
      "text/plain": [
       "                                        path  \\\n",
       "count                                  45358   \n",
       "unique                                 45358   \n",
       "top     ./clips/common_voice_en_42221538.mp3   \n",
       "freq                                       1   \n",
       "\n",
       "                                                 sentence sentence_domain  \\\n",
       "count                                               45358             384   \n",
       "unique                                              45272              30   \n",
       "top     The test is unofficial and just what it will p...         general   \n",
       "freq                                                    3             241   \n",
       "\n",
       "             age           gender           accents  \n",
       "count      44929            45358             38582  \n",
       "unique         7                2                44  \n",
       "top     fourties  female_feminine  Scottish English  \n",
       "freq       15300            28975             14275  "
      ]
     },
     "execution_count": 27,
     "metadata": {},
     "output_type": "execute_result"
    }
   ],
   "source": [
    "overview.describe(include=\"all\")"
   ]
  },
  {
   "cell_type": "code",
   "execution_count": 28,
   "id": "cb4d983b",
   "metadata": {},
   "outputs": [
    {
     "data": {
      "text/plain": [
       "gender\n",
       "female_feminine    28975\n",
       "male_masculine     16383\n",
       "dtype: int64"
      ]
     },
     "execution_count": 28,
     "metadata": {},
     "output_type": "execute_result"
    }
   ],
   "source": [
    "overview.groupby(\"gender\").size()"
   ]
  },
  {
   "cell_type": "markdown",
   "id": "7c10d301",
   "metadata": {},
   "source": [
    "We have a slight class imbalance that we may want to remove/have to deal with within the model building."
   ]
  },
  {
   "cell_type": "markdown",
   "id": "2265589d",
   "metadata": {},
   "source": [
    "## Conversion of the Audiofiles"
   ]
  },
  {
   "cell_type": "code",
   "execution_count": 29,
   "id": "e071784c",
   "metadata": {},
   "outputs": [],
   "source": [
    "def extract_features(file_path):\n",
    "    try:\n",
    "        y, sr = librosa.load(file_path, sr=None, mono=True)\n",
    "\n",
    "        # Feature extraction\n",
    "        # MFCC (Mel-frequency cepstral coefficients) gives the timbre of the audio\n",
    "        mfccs = librosa.feature.mfcc(y=y, sr=sr, n_mfcc=20)\n",
    "        \n",
    "        # Chroma feature gives the harmonic content of the audio\n",
    "        chroma = librosa.feature.chroma_stft(y=y, sr=sr)\n",
    "        \n",
    "        # Spectral features\n",
    "        # Spectral centroid gives the center of mass of the spectrum\n",
    "        spec_centroid = librosa.feature.spectral_centroid(y=y, sr=sr)\n",
    "        # Spectral bandwidth gives the width of the spectrum\n",
    "        spec_bw = librosa.feature.spectral_bandwidth(y=y, sr=sr)\n",
    "        # Spectral contrast gives the difference in amplitude between peaks and valleys in the sound spectrum\n",
    "        spec_contrast = librosa.feature.spectral_contrast(y=y, sr=sr)\n",
    "        # Spectral rolloff gives the frequency below which a certain percentage of the total spectral energy is contained\n",
    "        spec_rolloff = librosa.feature.spectral_rolloff(y=y, sr=sr)\n",
    "        \n",
    "        # Zero crossing rate gives the rate at which the signal changes sign\n",
    "        zcr = librosa.feature.zero_crossing_rate(y)\n",
    "        # Root mean square energy gives the energy of the signal (i.e., the loudness)\n",
    "        rmse = librosa.feature.rms(y=y)\n",
    "\n",
    "        # Combine features into a single feature vector\n",
    "        features = np.hstack([\n",
    "            np.mean(mfccs, axis=1), np.std(mfccs, axis=1),\n",
    "            np.mean(chroma, axis=1), np.std(chroma, axis=1),\n",
    "            np.mean(spec_centroid), np.std(spec_centroid),\n",
    "            np.mean(spec_bw), np.std(spec_bw),\n",
    "            np.mean(spec_contrast, axis=1), np.std(spec_contrast, axis=1),\n",
    "            np.mean(spec_rolloff), np.std(spec_rolloff),\n",
    "            np.mean(zcr), np.std(zcr),\n",
    "            np.mean(rmse), np.std(rmse)\n",
    "        ])\n",
    "\n",
    "        return features\n",
    "    except Exception as e:\n",
    "        print(f\"Error processing {file_path}: {e}\")\n",
    "        return None\n"
   ]
  },
  {
   "cell_type": "code",
   "execution_count": 30,
   "id": "04c02211",
   "metadata": {},
   "outputs": [],
   "source": [
    "def build_columns():\n",
    "    columns = []\n",
    "    columns += [f\"mfcc_{i+1:02d}_mean\" for i in range(20)]\n",
    "    columns += [f\"mfcc_{i+1:02d}_std\" for i in range(20)]\n",
    "    columns += [f\"chroma_{i+1:02d}_mean\" for i in range(12)]\n",
    "    columns += [f\"chroma_{i+1:02d}_std\" for i in range(12)]\n",
    "    columns += [\"spec_centroid_mean\", \"spec_centroid_std\"]\n",
    "    columns += [\"spec_bandwidth_mean\", \"spec_bandwidth_std\"]\n",
    "    columns += [f\"spec_contrast_band_{i+1}_mean\" for i in range(7)]\n",
    "    columns += [f\"spec_contrast_band_{i+1}_std\" for i in range(7)]\n",
    "    columns += [\"spec_rolloff_mean\", \"spec_rolloff_std\"]\n",
    "    columns += [\"zcr_mean\", \"zcr_std\"]\n",
    "    columns += [\"rmse_mean\", \"rmse_std\"]\n",
    "    return columns"
   ]
  },
  {
   "cell_type": "code",
   "execution_count": 31,
   "id": "c6112a9a",
   "metadata": {},
   "outputs": [],
   "source": [
    "def extract_features_from_dataframe(df_paths, output_csv_path, parallel=True):\n",
    "    features_list = []\n",
    "    valid_indices = []\n",
    "\n",
    "    paths = df_paths['path'].tolist()\n",
    "\n",
    "    # Use ThreadPoolExecutor for parallel processing\n",
    "    # This helps to speed up the feature extraction process\n",
    "    if parallel:\n",
    "        with concurrent.futures.ThreadPoolExecutor(max_workers=8) as executor:\n",
    "            futures = {executor.submit(extract_features, path): idx for idx, path in enumerate(paths)}\n",
    "            for future in tqdm(concurrent.futures.as_completed(futures), total=len(paths), desc=\"Extracting features\"):\n",
    "                result = future.result()\n",
    "                if result is not None:\n",
    "                    features_list.append(result)\n",
    "                    valid_indices.append(futures[future])\n",
    "    else:\n",
    "        for idx, path in tqdm(enumerate(paths), total=len(paths), desc=\"Extracting features\"):\n",
    "            result = extract_features(path)\n",
    "            if result is not None:\n",
    "                features_list.append(result)\n",
    "                valid_indices.append(idx)\n",
    "\n",
    "    # Build features DataFrame\n",
    "    columns = build_columns()\n",
    "    features_df = pd.DataFrame(features_list, columns=columns)\n",
    "    \n",
    "    # Match features to original DataFrame\n",
    "    merged_df = df_paths.iloc[valid_indices].reset_index(drop=True)\n",
    "    final_df = pd.concat([merged_df, features_df], axis=1)\n",
    "\n",
    "    # Save to CSV\n",
    "    final_df.to_csv(output_csv_path, index=False)\n",
    "    print(f\"Saved extracted features to {output_csv_path}\")\n",
    "\n",
    "    return final_df"
   ]
  },
  {
   "cell_type": "code",
   "execution_count": 12,
   "id": "8759b578",
   "metadata": {},
   "outputs": [
    {
     "name": "stderr",
     "output_type": "stream",
     "text": [
      "Extracting features: 100%|██████████| 12084/12084 [11:02<00:00, 18.23it/s]\n"
     ]
    },
    {
     "name": "stdout",
     "output_type": "stream",
     "text": [
      "Saved extracted features to data.csv\n"
     ]
    },
    {
     "data": {
      "application/vnd.microsoft.datawrangler.viewer.v0+json": {
       "columns": [
        {
         "name": "index",
         "rawType": "int64",
         "type": "integer"
        },
        {
         "name": "path",
         "rawType": "object",
         "type": "string"
        },
        {
         "name": "sentence",
         "rawType": "object",
         "type": "string"
        },
        {
         "name": "sentence_domain",
         "rawType": "object",
         "type": "unknown"
        },
        {
         "name": "age",
         "rawType": "object",
         "type": "string"
        },
        {
         "name": "gender",
         "rawType": "object",
         "type": "string"
        },
        {
         "name": "accents",
         "rawType": "object",
         "type": "string"
        },
        {
         "name": "mfcc_01_mean",
         "rawType": "float64",
         "type": "float"
        },
        {
         "name": "mfcc_02_mean",
         "rawType": "float64",
         "type": "float"
        },
        {
         "name": "mfcc_03_mean",
         "rawType": "float64",
         "type": "float"
        },
        {
         "name": "mfcc_04_mean",
         "rawType": "float64",
         "type": "float"
        },
        {
         "name": "mfcc_05_mean",
         "rawType": "float64",
         "type": "float"
        },
        {
         "name": "mfcc_06_mean",
         "rawType": "float64",
         "type": "float"
        },
        {
         "name": "mfcc_07_mean",
         "rawType": "float64",
         "type": "float"
        },
        {
         "name": "mfcc_08_mean",
         "rawType": "float64",
         "type": "float"
        },
        {
         "name": "mfcc_09_mean",
         "rawType": "float64",
         "type": "float"
        },
        {
         "name": "mfcc_10_mean",
         "rawType": "float64",
         "type": "float"
        },
        {
         "name": "mfcc_11_mean",
         "rawType": "float64",
         "type": "float"
        },
        {
         "name": "mfcc_12_mean",
         "rawType": "float64",
         "type": "float"
        },
        {
         "name": "mfcc_13_mean",
         "rawType": "float64",
         "type": "float"
        },
        {
         "name": "mfcc_14_mean",
         "rawType": "float64",
         "type": "float"
        },
        {
         "name": "mfcc_15_mean",
         "rawType": "float64",
         "type": "float"
        },
        {
         "name": "mfcc_16_mean",
         "rawType": "float64",
         "type": "float"
        },
        {
         "name": "mfcc_17_mean",
         "rawType": "float64",
         "type": "float"
        },
        {
         "name": "mfcc_18_mean",
         "rawType": "float64",
         "type": "float"
        },
        {
         "name": "mfcc_19_mean",
         "rawType": "float64",
         "type": "float"
        },
        {
         "name": "mfcc_20_mean",
         "rawType": "float64",
         "type": "float"
        },
        {
         "name": "mfcc_01_std",
         "rawType": "float64",
         "type": "float"
        },
        {
         "name": "mfcc_02_std",
         "rawType": "float64",
         "type": "float"
        },
        {
         "name": "mfcc_03_std",
         "rawType": "float64",
         "type": "float"
        },
        {
         "name": "mfcc_04_std",
         "rawType": "float64",
         "type": "float"
        },
        {
         "name": "mfcc_05_std",
         "rawType": "float64",
         "type": "float"
        },
        {
         "name": "mfcc_06_std",
         "rawType": "float64",
         "type": "float"
        },
        {
         "name": "mfcc_07_std",
         "rawType": "float64",
         "type": "float"
        },
        {
         "name": "mfcc_08_std",
         "rawType": "float64",
         "type": "float"
        },
        {
         "name": "mfcc_09_std",
         "rawType": "float64",
         "type": "float"
        },
        {
         "name": "mfcc_10_std",
         "rawType": "float64",
         "type": "float"
        },
        {
         "name": "mfcc_11_std",
         "rawType": "float64",
         "type": "float"
        },
        {
         "name": "mfcc_12_std",
         "rawType": "float64",
         "type": "float"
        },
        {
         "name": "mfcc_13_std",
         "rawType": "float64",
         "type": "float"
        },
        {
         "name": "mfcc_14_std",
         "rawType": "float64",
         "type": "float"
        },
        {
         "name": "mfcc_15_std",
         "rawType": "float64",
         "type": "float"
        },
        {
         "name": "mfcc_16_std",
         "rawType": "float64",
         "type": "float"
        },
        {
         "name": "mfcc_17_std",
         "rawType": "float64",
         "type": "float"
        },
        {
         "name": "mfcc_18_std",
         "rawType": "float64",
         "type": "float"
        },
        {
         "name": "mfcc_19_std",
         "rawType": "float64",
         "type": "float"
        },
        {
         "name": "mfcc_20_std",
         "rawType": "float64",
         "type": "float"
        },
        {
         "name": "chroma_01_mean",
         "rawType": "float64",
         "type": "float"
        },
        {
         "name": "chroma_02_mean",
         "rawType": "float64",
         "type": "float"
        },
        {
         "name": "chroma_03_mean",
         "rawType": "float64",
         "type": "float"
        },
        {
         "name": "chroma_04_mean",
         "rawType": "float64",
         "type": "float"
        },
        {
         "name": "chroma_05_mean",
         "rawType": "float64",
         "type": "float"
        },
        {
         "name": "chroma_06_mean",
         "rawType": "float64",
         "type": "float"
        },
        {
         "name": "chroma_07_mean",
         "rawType": "float64",
         "type": "float"
        },
        {
         "name": "chroma_08_mean",
         "rawType": "float64",
         "type": "float"
        },
        {
         "name": "chroma_09_mean",
         "rawType": "float64",
         "type": "float"
        },
        {
         "name": "chroma_10_mean",
         "rawType": "float64",
         "type": "float"
        },
        {
         "name": "chroma_11_mean",
         "rawType": "float64",
         "type": "float"
        },
        {
         "name": "chroma_12_mean",
         "rawType": "float64",
         "type": "float"
        },
        {
         "name": "chroma_01_std",
         "rawType": "float64",
         "type": "float"
        },
        {
         "name": "chroma_02_std",
         "rawType": "float64",
         "type": "float"
        },
        {
         "name": "chroma_03_std",
         "rawType": "float64",
         "type": "float"
        },
        {
         "name": "chroma_04_std",
         "rawType": "float64",
         "type": "float"
        },
        {
         "name": "chroma_05_std",
         "rawType": "float64",
         "type": "float"
        },
        {
         "name": "chroma_06_std",
         "rawType": "float64",
         "type": "float"
        },
        {
         "name": "chroma_07_std",
         "rawType": "float64",
         "type": "float"
        },
        {
         "name": "chroma_08_std",
         "rawType": "float64",
         "type": "float"
        },
        {
         "name": "chroma_09_std",
         "rawType": "float64",
         "type": "float"
        },
        {
         "name": "chroma_10_std",
         "rawType": "float64",
         "type": "float"
        },
        {
         "name": "chroma_11_std",
         "rawType": "float64",
         "type": "float"
        },
        {
         "name": "chroma_12_std",
         "rawType": "float64",
         "type": "float"
        },
        {
         "name": "spec_centroid_mean",
         "rawType": "float64",
         "type": "float"
        },
        {
         "name": "spec_centroid_std",
         "rawType": "float64",
         "type": "float"
        },
        {
         "name": "spec_bandwidth_mean",
         "rawType": "float64",
         "type": "float"
        },
        {
         "name": "spec_bandwidth_std",
         "rawType": "float64",
         "type": "float"
        },
        {
         "name": "spec_contrast_band_1_mean",
         "rawType": "float64",
         "type": "float"
        },
        {
         "name": "spec_contrast_band_2_mean",
         "rawType": "float64",
         "type": "float"
        },
        {
         "name": "spec_contrast_band_3_mean",
         "rawType": "float64",
         "type": "float"
        },
        {
         "name": "spec_contrast_band_4_mean",
         "rawType": "float64",
         "type": "float"
        },
        {
         "name": "spec_contrast_band_5_mean",
         "rawType": "float64",
         "type": "float"
        },
        {
         "name": "spec_contrast_band_6_mean",
         "rawType": "float64",
         "type": "float"
        },
        {
         "name": "spec_contrast_band_7_mean",
         "rawType": "float64",
         "type": "float"
        },
        {
         "name": "spec_contrast_band_1_std",
         "rawType": "float64",
         "type": "float"
        },
        {
         "name": "spec_contrast_band_2_std",
         "rawType": "float64",
         "type": "float"
        },
        {
         "name": "spec_contrast_band_3_std",
         "rawType": "float64",
         "type": "float"
        },
        {
         "name": "spec_contrast_band_4_std",
         "rawType": "float64",
         "type": "float"
        },
        {
         "name": "spec_contrast_band_5_std",
         "rawType": "float64",
         "type": "float"
        },
        {
         "name": "spec_contrast_band_6_std",
         "rawType": "float64",
         "type": "float"
        },
        {
         "name": "spec_contrast_band_7_std",
         "rawType": "float64",
         "type": "float"
        },
        {
         "name": "spec_rolloff_mean",
         "rawType": "float64",
         "type": "float"
        },
        {
         "name": "spec_rolloff_std",
         "rawType": "float64",
         "type": "float"
        },
        {
         "name": "zcr_mean",
         "rawType": "float64",
         "type": "float"
        },
        {
         "name": "zcr_std",
         "rawType": "float64",
         "type": "float"
        },
        {
         "name": "rmse_mean",
         "rawType": "float64",
         "type": "float"
        },
        {
         "name": "rmse_std",
         "rawType": "float64",
         "type": "float"
        }
       ],
       "conversionMethod": "pd.DataFrame",
       "ref": "55498a75-3936-44bc-81d1-68e24c1cc532",
       "rows": [
        [
         "0",
         "./clips/common_voice_en_40187697.mp3",
         "He then led the life of a wandering hermit.",
         null,
         "fifties",
         "male_masculine",
         "Canadian English",
         "-494.58428955078125",
         "125.82601928710938",
         "18.260662078857422",
         "23.50895881652832",
         "4.505527973175049",
         "13.526212692260742",
         "-4.5653886795043945",
         "6.168152809143066",
         "-7.777041912078857",
         "-6.413583755493164",
         "-6.481741428375244",
         "-0.9931226968765259",
         "-2.428053140640259",
         "-5.692752838134766",
         "1.496482491493225",
         "-10.797250747680664",
         "-1.6407890319824219",
         "-4.100866317749023",
         "-5.417522430419922",
         "-4.954688549041748",
         "119.05122375488281",
         "54.47339630126953",
         "33.34912872314453",
         "22.666690826416016",
         "19.48114585876465",
         "21.475133895874023",
         "20.196735382080078",
         "11.406885147094727",
         "12.290414810180664",
         "12.9163236618042",
         "9.628847122192383",
         "9.177165985107422",
         "11.247760772705078",
         "7.933882236480713",
         "9.304251670837402",
         "8.517348289489746",
         "7.390264511108398",
         "7.599867343902588",
         "9.360907554626465",
         "6.309638977050781",
         "0.42574289441108704",
         "0.4499277174472809",
         "0.4926578998565674",
         "0.5631433725357056",
         "0.549263060092926",
         "0.5518130660057068",
         "0.4955747425556183",
         "0.4430030882358551",
         "0.40788930654525757",
         "0.39800435304641724",
         "0.37398043274879456",
         "0.37210342288017273",
         "0.28034183382987976",
         "0.28224143385887146",
         "0.26304394006729126",
         "0.3063044846057892",
         "0.3119160234928131",
         "0.3820546567440033",
         "0.35663190484046936",
         "0.2945261597633362",
         "0.2725072503089905",
         "0.2730202078819275",
         "0.26358258724212646",
         "0.2763134837150574",
         "2021.0301632335054",
         "1151.89701887311",
         "2419.1333590263616",
         "873.8941919092932",
         "20.93788622607973",
         "12.984362237651009",
         "15.270093108862858",
         "16.22767259196321",
         "16.689550908244776",
         "19.895467433709804",
         "53.2826941441468",
         "4.90276067105709",
         "5.049759573067929",
         "5.604784758952953",
         "4.600071736979812",
         "4.26489176566816",
         "7.531222566979606",
         "4.26382710045826",
         "4458.5217927631575",
         "2792.56612470375",
         "0.061128315172697366",
         "0.05988570534902613",
         "0.01681096851825714",
         "0.02080811932682991"
        ],
        [
         "1",
         "./clips/common_voice_en_40187705.mp3",
         "Any new copies were initialized with a successful value.",
         null,
         "fifties",
         "male_masculine",
         "Canadian English",
         "-449.4874572753906",
         "119.85250854492188",
         "7.753420352935791",
         "30.21110725402832",
         "8.891189575195312",
         "16.613338470458984",
         "-7.1968770027160645",
         "9.35119342803955",
         "-14.103449821472168",
         "-6.933844089508057",
         "-2.9246268272399902",
         "-6.542215347290039",
         "-1.0178178548812866",
         "-4.45430326461792",
         "-1.1146888732910156",
         "-7.915383815765381",
         "0.6880401372909546",
         "-5.033390045166016",
         "-1.2817864418029785",
         "-5.031093120574951",
         "116.94298553466797",
         "69.6212387084961",
         "37.63460922241211",
         "33.93899917602539",
         "28.639556884765625",
         "19.275161743164062",
         "18.80958366394043",
         "12.061667442321777",
         "16.524080276489258",
         "12.96473217010498",
         "8.814900398254395",
         "11.564667701721191",
         "11.62580680847168",
         "8.932544708251953",
         "7.848086833953857",
         "8.368936538696289",
         "9.185371398925781",
         "6.994470119476318",
         "6.523594856262207",
         "6.029651165008545",
         "0.4631226658821106",
         "0.38221144676208496",
         "0.3671019375324249",
         "0.43956825137138367",
         "0.5166932940483093",
         "0.507444441318512",
         "0.4367749094963074",
         "0.4325319230556488",
         "0.4841455817222595",
         "0.4971667230129242",
         "0.46313101053237915",
         "0.4316200017929077",
         "0.3146657943725586",
         "0.29007115960121155",
         "0.24575181305408478",
         "0.2813153862953186",
         "0.32913658022880554",
         "0.35064229369163513",
         "0.32241496443748474",
         "0.29271987080574036",
         "0.29864779114723206",
         "0.2995120584964752",
         "0.2993749976158142",
         "0.27928048372268677",
         "2201.1406133495143",
         "1512.8346514314344",
         "2308.5652647343427",
         "860.0656846104921",
         "20.950732027410403",
         "12.928607152549395",
         "16.562909880948908",
         "16.423058635803635",
         "16.875197441348913",
         "22.071943542895752",
         "54.37135176506702",
         "5.579900880564502",
         "4.968909510588865",
         "6.00680882680392",
         "4.4275889717780785",
         "3.374919783590693",
         "8.790947547138451",
         "4.794475495040156",
         "4491.619809688581",
         "2971.032385672721",
         "0.07820947772491349",
         "0.08099060845980938",
         "0.021588420495390892",
         "0.023390544578433037"
        ],
        [
         "2",
         "./clips/common_voice_en_40187695.mp3",
         "Artume appeared as a recurring character in Marvel Comics.",
         null,
         "fifties",
         "male_masculine",
         "Canadian English",
         "-503.0068054199219",
         "131.35958862304688",
         "15.189733505249023",
         "18.775718688964844",
         "4.564969062805176",
         "24.163883209228516",
         "-2.3694772720336914",
         "3.682257890701294",
         "-14.274880409240723",
         "-3.423102855682373",
         "-3.872166395187378",
         "-2.8543407917022705",
         "-1.5528514385223389",
         "-7.4382452964782715",
         "1.6655937433242798",
         "-9.432144165039062",
         "0.8083456158638",
         "-4.839038372039795",
         "-3.4673573970794678",
         "-3.7002007961273193",
         "105.71212768554688",
         "60.04893112182617",
         "32.92506408691406",
         "28.16925621032715",
         "23.919565200805664",
         "16.727252960205078",
         "16.366270065307617",
         "11.493101119995117",
         "19.30402374267578",
         "11.703958511352539",
         "8.30729866027832",
         "10.830073356628418",
         "10.591500282287598",
         "11.563162803649902",
         "9.491159439086914",
         "10.543131828308105",
         "8.230280876159668",
         "8.221203804016113",
         "7.97475528717041",
         "5.992603302001953",
         "0.4712987244129181",
         "0.4517492651939392",
         "0.3994522988796234",
         "0.41495072841644287",
         "0.4944210648536682",
         "0.5859522223472595",
         "0.5588183999061584",
         "0.45110681653022766",
         "0.3795755207538605",
         "0.4153743386268616",
         "0.4652172327041626",
         "0.45439085364341736",
         "0.2746727168560028",
         "0.27926692366600037",
         "0.2527524530887604",
         "0.2913620173931122",
         "0.32194221019744873",
         "0.3508184254169464",
         "0.3298315703868866",
         "0.2790396511554718",
         "0.2447953075170517",
         "0.27823323011398315",
         "0.2902844250202179",
         "0.26556822657585144",
         "2014.5869055832654",
         "1233.7707416508163",
         "2331.500294168229",
         "851.8394576648078",
         "20.442248180155005",
         "12.316497740674654",
         "15.520087956975262",
         "15.65117936290678",
         "19.060502195371168",
         "19.674862133137918",
         "54.308522395285344",
         "5.027636927964812",
         "4.9149303762308065",
         "5.750200465746994",
         "4.263853504668079",
         "6.058417020607501",
         "6.529372801904412",
         "3.9538123875542697",
         "4289.7096893491125",
         "2843.069699268182",
         "0.0671314487795858",
         "0.05759452471931444",
         "0.013110465370118618",
         "0.014007152989506721"
        ],
        [
         "3",
         "./clips/common_voice_en_40187696.mp3",
         "In practice however the resistive element varies with frequency.",
         null,
         "fifties",
         "male_masculine",
         "Canadian English",
         "-473.2560729980469",
         "116.9549789428711",
         "12.820941925048828",
         "26.76384162902832",
         "4.228604793548584",
         "21.174299240112305",
         "-5.217273235321045",
         "6.321644306182861",
         "-14.545292854309082",
         "-5.034264087677002",
         "-6.480432510375977",
         "-1.1823387145996094",
         "-0.4876083731651306",
         "-10.55046272277832",
         "0.2528853118419647",
         "-6.955070972442627",
         "1.8352700471878052",
         "-5.907614231109619",
         "-3.7677676677703857",
         "-5.70890998840332",
         "111.4986343383789",
         "66.01445770263672",
         "32.334678649902344",
         "34.92680358886719",
         "26.66658592224121",
         "16.786170959472656",
         "16.420494079589844",
         "11.610694885253906",
         "17.792905807495117",
         "14.141740798950195",
         "10.438191413879395",
         "9.379432678222656",
         "8.429760932922363",
         "10.012014389038086",
         "8.590420722961426",
         "7.273095607757568",
         "8.541495323181152",
         "7.268064022064209",
         "6.956403732299805",
         "6.766216278076172",
         "0.44643157720565796",
         "0.4531640112400055",
         "0.42113345861434937",
         "0.4304943084716797",
         "0.4511549472808838",
         "0.5094378590583801",
         "0.4763345420360565",
         "0.48421192169189453",
         "0.43551012873649597",
         "0.42965933680534363",
         "0.4535408318042755",
         "0.4578079581260681",
         "0.2946605384349823",
         "0.2915719449520111",
         "0.29033946990966797",
         "0.2911391258239746",
         "0.27646604180336",
         "0.3410853147506714",
         "0.35250601172447205",
         "0.32907453179359436",
         "0.2858559191226959",
         "0.281942218542099",
         "0.2988533079624176",
         "0.28606367111206055",
         "2265.405045535322",
         "1498.4248825786744",
         "2404.8328270651973",
         "775.9864637998274",
         "20.712994399802",
         "12.29648983965879",
         "15.348933665923374",
         "15.588140427681418",
         "17.217055175824814",
         "19.205898217780515",
         "54.46770995054",
         "5.320369009106134",
         "4.985766672179968",
         "5.7275463047359",
         "4.252195726187264",
         "4.170021189758071",
         "5.473281721009753",
         "3.982934098821925",
         "4656.43115942029",
         "2868.3990504394083",
         "0.08211616847826086",
         "0.08628818120046636",
         "0.016562022268772125",
         "0.018279656767845154"
        ],
        [
         "4",
         "./clips/common_voice_en_40187693.mp3",
         "Cohousing cultivates a culture of sharing and caring.",
         null,
         "fifties",
         "male_masculine",
         "Canadian English",
         "-466.04034423828125",
         "111.4978256225586",
         "7.834814071655273",
         "21.756237030029297",
         "5.297349452972412",
         "15.418025970458984",
         "-5.819317817687988",
         "2.4390852451324463",
         "-11.652480125427246",
         "-3.08119535446167",
         "-4.223293304443359",
         "-1.2634574174880981",
         "-2.7753746509552",
         "-6.003345012664795",
         "1.1564887762069702",
         "-8.929868698120117",
         "1.0081573724746704",
         "-4.9686408042907715",
         "-3.1872451305389404",
         "-4.9948015213012695",
         "110.60847473144531",
         "56.59907913208008",
         "36.921207427978516",
         "30.16905975341797",
         "22.243515014648438",
         "20.720346450805664",
         "17.844125747680664",
         "13.196361541748047",
         "15.380175590515137",
         "11.237818717956543",
         "10.628556251525879",
         "9.703083992004395",
         "9.584599494934082",
         "9.518152236938477",
         "8.394855499267578",
         "8.297073364257812",
         "9.270843505859375",
         "8.311781883239746",
         "6.515990734100342",
         "7.038901329040527",
         "0.43205955624580383",
         "0.42698079347610474",
         "0.46132129430770874",
         "0.4955509603023529",
         "0.5663794279098511",
         "0.578022837638855",
         "0.5134520530700684",
         "0.4189417362213135",
         "0.35991737246513367",
         "0.3774857819080353",
         "0.4002818167209625",
         "0.3988322615623474",
         "0.29013633728027344",
         "0.27689775824546814",
         "0.28254958987236023",
         "0.3002299666404724",
         "0.332250714302063",
         "0.3469932973384857",
         "0.32289448380470276",
         "0.27253836393356323",
         "0.2441747486591339",
         "0.2740337550640106",
         "0.3017808496952057",
         "0.2789253890514374",
         "2162.0500859156227",
         "1143.0607076510883",
         "2430.5698383140184",
         "685.2117977506813",
         "20.658110751148474",
         "12.696262827781494",
         "15.193225037316898",
         "16.32965054461784",
         "18.560646382801018",
         "20.528340749588757",
         "54.85824935067997",
         "5.262570861108825",
         "5.727296366691385",
         "5.653772841569599",
         "4.760368066487533",
         "4.768118120759981",
         "6.40652646436044",
         "3.4858322685828966",
         "4421.2482091690545",
         "2540.7255255237646",
         "0.07279727793696275",
         "0.06068445114506862",
         "0.01580246537923813",
         "0.01935454271733761"
        ]
       ],
       "shape": {
        "columns": 94,
        "rows": 5
       }
      },
      "text/html": [
       "<div>\n",
       "<style scoped>\n",
       "    .dataframe tbody tr th:only-of-type {\n",
       "        vertical-align: middle;\n",
       "    }\n",
       "\n",
       "    .dataframe tbody tr th {\n",
       "        vertical-align: top;\n",
       "    }\n",
       "\n",
       "    .dataframe thead th {\n",
       "        text-align: right;\n",
       "    }\n",
       "</style>\n",
       "<table border=\"1\" class=\"dataframe\">\n",
       "  <thead>\n",
       "    <tr style=\"text-align: right;\">\n",
       "      <th></th>\n",
       "      <th>path</th>\n",
       "      <th>sentence</th>\n",
       "      <th>sentence_domain</th>\n",
       "      <th>age</th>\n",
       "      <th>gender</th>\n",
       "      <th>accents</th>\n",
       "      <th>mfcc_01_mean</th>\n",
       "      <th>mfcc_02_mean</th>\n",
       "      <th>mfcc_03_mean</th>\n",
       "      <th>mfcc_04_mean</th>\n",
       "      <th>...</th>\n",
       "      <th>spec_contrast_band_4_std</th>\n",
       "      <th>spec_contrast_band_5_std</th>\n",
       "      <th>spec_contrast_band_6_std</th>\n",
       "      <th>spec_contrast_band_7_std</th>\n",
       "      <th>spec_rolloff_mean</th>\n",
       "      <th>spec_rolloff_std</th>\n",
       "      <th>zcr_mean</th>\n",
       "      <th>zcr_std</th>\n",
       "      <th>rmse_mean</th>\n",
       "      <th>rmse_std</th>\n",
       "    </tr>\n",
       "  </thead>\n",
       "  <tbody>\n",
       "    <tr>\n",
       "      <th>0</th>\n",
       "      <td>./clips/common_voice_en_40187697.mp3</td>\n",
       "      <td>He then led the life of a wandering hermit.</td>\n",
       "      <td>NaN</td>\n",
       "      <td>fifties</td>\n",
       "      <td>male_masculine</td>\n",
       "      <td>Canadian English</td>\n",
       "      <td>-494.584290</td>\n",
       "      <td>125.826019</td>\n",
       "      <td>18.260662</td>\n",
       "      <td>23.508959</td>\n",
       "      <td>...</td>\n",
       "      <td>4.600072</td>\n",
       "      <td>4.264892</td>\n",
       "      <td>7.531223</td>\n",
       "      <td>4.263827</td>\n",
       "      <td>4458.521793</td>\n",
       "      <td>2792.566125</td>\n",
       "      <td>0.061128</td>\n",
       "      <td>0.059886</td>\n",
       "      <td>0.016811</td>\n",
       "      <td>0.020808</td>\n",
       "    </tr>\n",
       "    <tr>\n",
       "      <th>1</th>\n",
       "      <td>./clips/common_voice_en_40187705.mp3</td>\n",
       "      <td>Any new copies were initialized with a success...</td>\n",
       "      <td>NaN</td>\n",
       "      <td>fifties</td>\n",
       "      <td>male_masculine</td>\n",
       "      <td>Canadian English</td>\n",
       "      <td>-449.487457</td>\n",
       "      <td>119.852509</td>\n",
       "      <td>7.753420</td>\n",
       "      <td>30.211107</td>\n",
       "      <td>...</td>\n",
       "      <td>4.427589</td>\n",
       "      <td>3.374920</td>\n",
       "      <td>8.790948</td>\n",
       "      <td>4.794475</td>\n",
       "      <td>4491.619810</td>\n",
       "      <td>2971.032386</td>\n",
       "      <td>0.078209</td>\n",
       "      <td>0.080991</td>\n",
       "      <td>0.021588</td>\n",
       "      <td>0.023391</td>\n",
       "    </tr>\n",
       "    <tr>\n",
       "      <th>2</th>\n",
       "      <td>./clips/common_voice_en_40187695.mp3</td>\n",
       "      <td>Artume appeared as a recurring character in Ma...</td>\n",
       "      <td>NaN</td>\n",
       "      <td>fifties</td>\n",
       "      <td>male_masculine</td>\n",
       "      <td>Canadian English</td>\n",
       "      <td>-503.006805</td>\n",
       "      <td>131.359589</td>\n",
       "      <td>15.189734</td>\n",
       "      <td>18.775719</td>\n",
       "      <td>...</td>\n",
       "      <td>4.263854</td>\n",
       "      <td>6.058417</td>\n",
       "      <td>6.529373</td>\n",
       "      <td>3.953812</td>\n",
       "      <td>4289.709689</td>\n",
       "      <td>2843.069699</td>\n",
       "      <td>0.067131</td>\n",
       "      <td>0.057595</td>\n",
       "      <td>0.013110</td>\n",
       "      <td>0.014007</td>\n",
       "    </tr>\n",
       "    <tr>\n",
       "      <th>3</th>\n",
       "      <td>./clips/common_voice_en_40187696.mp3</td>\n",
       "      <td>In practice however the resistive element vari...</td>\n",
       "      <td>NaN</td>\n",
       "      <td>fifties</td>\n",
       "      <td>male_masculine</td>\n",
       "      <td>Canadian English</td>\n",
       "      <td>-473.256073</td>\n",
       "      <td>116.954979</td>\n",
       "      <td>12.820942</td>\n",
       "      <td>26.763842</td>\n",
       "      <td>...</td>\n",
       "      <td>4.252196</td>\n",
       "      <td>4.170021</td>\n",
       "      <td>5.473282</td>\n",
       "      <td>3.982934</td>\n",
       "      <td>4656.431159</td>\n",
       "      <td>2868.399050</td>\n",
       "      <td>0.082116</td>\n",
       "      <td>0.086288</td>\n",
       "      <td>0.016562</td>\n",
       "      <td>0.018280</td>\n",
       "    </tr>\n",
       "    <tr>\n",
       "      <th>4</th>\n",
       "      <td>./clips/common_voice_en_40187693.mp3</td>\n",
       "      <td>Cohousing cultivates a culture of sharing and ...</td>\n",
       "      <td>NaN</td>\n",
       "      <td>fifties</td>\n",
       "      <td>male_masculine</td>\n",
       "      <td>Canadian English</td>\n",
       "      <td>-466.040344</td>\n",
       "      <td>111.497826</td>\n",
       "      <td>7.834814</td>\n",
       "      <td>21.756237</td>\n",
       "      <td>...</td>\n",
       "      <td>4.760368</td>\n",
       "      <td>4.768118</td>\n",
       "      <td>6.406526</td>\n",
       "      <td>3.485832</td>\n",
       "      <td>4421.248209</td>\n",
       "      <td>2540.725526</td>\n",
       "      <td>0.072797</td>\n",
       "      <td>0.060684</td>\n",
       "      <td>0.015802</td>\n",
       "      <td>0.019355</td>\n",
       "    </tr>\n",
       "  </tbody>\n",
       "</table>\n",
       "<p>5 rows × 94 columns</p>\n",
       "</div>"
      ],
      "text/plain": [
       "                                   path  \\\n",
       "0  ./clips/common_voice_en_40187697.mp3   \n",
       "1  ./clips/common_voice_en_40187705.mp3   \n",
       "2  ./clips/common_voice_en_40187695.mp3   \n",
       "3  ./clips/common_voice_en_40187696.mp3   \n",
       "4  ./clips/common_voice_en_40187693.mp3   \n",
       "\n",
       "                                            sentence sentence_domain      age  \\\n",
       "0        He then led the life of a wandering hermit.             NaN  fifties   \n",
       "1  Any new copies were initialized with a success...             NaN  fifties   \n",
       "2  Artume appeared as a recurring character in Ma...             NaN  fifties   \n",
       "3  In practice however the resistive element vari...             NaN  fifties   \n",
       "4  Cohousing cultivates a culture of sharing and ...             NaN  fifties   \n",
       "\n",
       "           gender           accents  mfcc_01_mean  mfcc_02_mean  mfcc_03_mean  \\\n",
       "0  male_masculine  Canadian English   -494.584290    125.826019     18.260662   \n",
       "1  male_masculine  Canadian English   -449.487457    119.852509      7.753420   \n",
       "2  male_masculine  Canadian English   -503.006805    131.359589     15.189734   \n",
       "3  male_masculine  Canadian English   -473.256073    116.954979     12.820942   \n",
       "4  male_masculine  Canadian English   -466.040344    111.497826      7.834814   \n",
       "\n",
       "   mfcc_04_mean  ...  spec_contrast_band_4_std  spec_contrast_band_5_std  \\\n",
       "0     23.508959  ...                  4.600072                  4.264892   \n",
       "1     30.211107  ...                  4.427589                  3.374920   \n",
       "2     18.775719  ...                  4.263854                  6.058417   \n",
       "3     26.763842  ...                  4.252196                  4.170021   \n",
       "4     21.756237  ...                  4.760368                  4.768118   \n",
       "\n",
       "   spec_contrast_band_6_std  spec_contrast_band_7_std  spec_rolloff_mean  \\\n",
       "0                  7.531223                  4.263827        4458.521793   \n",
       "1                  8.790948                  4.794475        4491.619810   \n",
       "2                  6.529373                  3.953812        4289.709689   \n",
       "3                  5.473282                  3.982934        4656.431159   \n",
       "4                  6.406526                  3.485832        4421.248209   \n",
       "\n",
       "   spec_rolloff_std  zcr_mean   zcr_std  rmse_mean  rmse_std  \n",
       "0       2792.566125  0.061128  0.059886   0.016811  0.020808  \n",
       "1       2971.032386  0.078209  0.080991   0.021588  0.023391  \n",
       "2       2843.069699  0.067131  0.057595   0.013110  0.014007  \n",
       "3       2868.399050  0.082116  0.086288   0.016562  0.018280  \n",
       "4       2540.725526  0.072797  0.060684   0.015802  0.019355  \n",
       "\n",
       "[5 rows x 94 columns]"
      ]
     },
     "execution_count": 12,
     "metadata": {},
     "output_type": "execute_result"
    }
   ],
   "source": [
    "extract_features_from_dataframe(overview, \"data.csv\", parallel=True).head()"
   ]
  }
 ],
 "metadata": {
  "kernelspec": {
   "display_name": "tensorflow",
   "language": "python",
   "name": "python3"
  },
  "language_info": {
   "codemirror_mode": {
    "name": "ipython",
    "version": 3
   },
   "file_extension": ".py",
   "mimetype": "text/x-python",
   "name": "python",
   "nbconvert_exporter": "python",
   "pygments_lexer": "ipython3",
   "version": "3.12.9"
  }
 },
 "nbformat": 4,
 "nbformat_minor": 5
}
