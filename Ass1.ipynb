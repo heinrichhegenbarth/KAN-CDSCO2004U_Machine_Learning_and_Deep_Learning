{
  "cells": [
    {
      "cell_type": "markdown",
      "metadata": {
        "colab_type": "text",
        "id": "view-in-github"
      },
      "source": [
        "<a href=\"https://colab.research.google.com/github/heinrichhegenbarth/KAN-CDSCO2004U_Machine_Learning_and_Deep_Learning/blob/main/Ass1.ipynb\" target=\"_parent\"><img src=\"https://colab.research.google.com/assets/colab-badge.svg\" alt=\"Open In Colab\"/></a>"
      ]
    },
    {
      "cell_type": "markdown",
      "metadata": {},
      "source": [
        "# Assignment 1\n",
        "\n",
        "## Links\n",
        "- https://cbscanvas.instructure.com/courses/41482/files/1504373?wrap=1\n",
        "- https://insideairbnb.com/get-the-data/\n",
        "\n",
        "## Approach\n",
        "1. drop qualitative columns\n",
        "### EDA\n",
        "2. correlation analysis\n",
        "3. graphing\n",
        "### Clustering\n",
        "4. choose clustering algorithm\n",
        "5. run clustering algorithm\n",
        "6. graph clusters\n",
        "### PCA\n",
        "7. run pca"
      ]
    },
    {
      "cell_type": "code",
      "execution_count": null,
      "metadata": {
        "id": "coyWuV6MZBu0"
      },
      "outputs": [],
      "source": [
        "\n"
      ]
    }
  ],
  "metadata": {
    "colab": {
      "include_colab_link": true,
      "provenance": []
    },
    "kernelspec": {
      "display_name": "Python 3",
      "name": "python3"
    },
    "language_info": {
      "name": "python"
    }
  },
  "nbformat": 4,
  "nbformat_minor": 0
}
